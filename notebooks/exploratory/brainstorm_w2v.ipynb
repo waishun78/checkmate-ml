{
 "cells": [
  {
   "attachments": {},
   "cell_type": "markdown",
   "metadata": {},
   "source": [
    "# Brainstorm\n",
    "\n",
    "In brainstorm, we are looking at the ways we cna potentially figure out how to tell trivial messages apart. This notebook will look at the checkmate messaging data before 2023-04-19."
   ]
  },
  {
   "cell_type": "code",
   "execution_count": 2,
   "metadata": {},
   "outputs": [],
   "source": [
    "import pandas as pd"
   ]
  },
  {
   "cell_type": "code",
   "execution_count": 132,
   "metadata": {},
   "outputs": [],
   "source": [
    "checkmate_messages_df = pd.read_csv('../../src/data/CheckMate_Messages_Table.csv')"
   ]
  },
  {
   "cell_type": "code",
   "execution_count": 86,
   "metadata": {},
   "outputs": [
    {
     "name": "stdout",
     "output_type": "stream",
     "text": [
      "(86, 5)\n"
     ]
    }
   ],
   "source": [
    "print(checkmate_messages_df.shape)"
   ]
  },
  {
   "cell_type": "code",
   "execution_count": 89,
   "metadata": {},
   "outputs": [
    {
     "name": "stdout",
     "output_type": "stream",
     "text": [
      "(86, 5)\n",
      "text                          😊\n",
      "taggedCategory          Trivial\n",
      "type                       text\n",
      "isMachineCategorised       True\n",
      "truthScore                  NaN\n",
      "Name: 54, dtype: object\n"
     ]
    }
   ],
   "source": [
    "checkmate_messages_df.dropna()\n",
    "print(checkmate_messages_df.shape)\n",
    "print(checkmate_messages_df.iloc[54])"
   ]
  },
  {
   "cell_type": "code",
   "execution_count": 5,
   "metadata": {},
   "outputs": [
    {
     "name": "stdout",
     "output_type": "stream",
     "text": [
      "{'Spam', 'Scam', 'Trivial', 'Illicit', 'Legitimate', 'Info/News/Opinion', 'Unsure'}\n"
     ]
    }
   ],
   "source": [
    "# {'Legitimate', 'Trivial', 'Scam', 'Info/News/Opinion', 'Illicit', 'Unsure', 'Spam'} are available message tags\n",
    "print(set(checkmate_messages_df['taggedCategory'].values))"
   ]
  },
  {
   "cell_type": "code",
   "execution_count": 6,
   "metadata": {},
   "outputs": [
    {
     "name": "stdout",
     "output_type": "stream",
     "text": [
      "              text taggedCategory  type  isMachineCategorised  truthScore\n",
      "40           scam?        Trivial  text                  True         NaN\n",
      "42              Hi        Trivial  text                  True         NaN\n",
      "43  is this a scam        Trivial  text                  True         NaN\n",
      "47  this is a test        Trivial  text                  True         NaN\n",
      "54               😊        Trivial  text                  True         NaN\n",
      "56          Hello!        Trivial  text                  True         NaN\n",
      "59           Ello!        Trivial  text                  True         NaN\n",
      "69             Hi!        Trivial  text                  True         NaN\n",
      "70           Hello        Trivial  text                  True         NaN\n",
      "73               👌        Trivial  text                  True         NaN\n",
      "79       Whats up?        Trivial  text                  True         NaN\n"
     ]
    }
   ],
   "source": [
    "# Machine Categorised messages are all trivial texts at present\n",
    "print(checkmate_messages_df[checkmate_messages_df['isMachineCategorised'] == True])"
   ]
  },
  {
   "attachments": {},
   "cell_type": "markdown",
   "metadata": {},
   "source": [
    "## Transforming dataset\n",
    "\n",
    "Stage 1 of project is to differentiate trivial messages from non-trivial messages with a high degree of recall (false positives are less important) - make sure false negatives are as low as possible.\n",
    "Hence, we need group the message categories into trivial or not trivial first"
   ]
  },
  {
   "cell_type": "code",
   "execution_count": 7,
   "metadata": {},
   "outputs": [],
   "source": [
    "checkmate_messages_df['is_trivial'] = (checkmate_messages_df['taggedCategory']=='Trivial')"
   ]
  },
  {
   "cell_type": "code",
   "execution_count": 8,
   "metadata": {},
   "outputs": [
    {
     "name": "stdout",
     "output_type": "stream",
     "text": [
      "                                                 text taggedCategory   type  \\\n",
      "6                             Well done CheckMate 👏👏👏        Trivial   text   \n",
      "11  Hello, no matter how busy work remember to eat Oh        Trivial   text   \n",
      "17  Suck lozenges n  rub tiger balm on nose , last...        Trivial   text   \n",
      "40                                              scam?        Trivial   text   \n",
      "42                                                 Hi        Trivial   text   \n",
      "43                                     is this a scam        Trivial   text   \n",
      "45                                   Hello a bit slow        Trivial   text   \n",
      "46                            Well done CheckMate 👏😅👏        Trivial   text   \n",
      "47                                     this is a test        Trivial   text   \n",
      "54                                                  😊        Trivial   text   \n",
      "56                                             Hello!        Trivial   text   \n",
      "59                                              Ello!        Trivial   text   \n",
      "61                               can u read pictures?        Trivial   text   \n",
      "62                                    Am just testing        Trivial   text   \n",
      "63  Yes should be OK\\nLet me check n confirm\\nI th...        Trivial   text   \n",
      "64  Noted. Sorry about this. I misread your ChatBo...        Trivial   text   \n",
      "69                                                Hi!        Trivial   text   \n",
      "70                                              Hello        Trivial   text   \n",
      "72  If you receive a scam message like this simula...        Trivial   text   \n",
      "73                                                  👌        Trivial   text   \n",
      "76  FYI, please. Please kindly adhere to the ETA (...        Trivial  image   \n",
      "78  Hello, I just received a call from an unknown ...        Trivial   text   \n",
      "79                                          Whats up?        Trivial   text   \n",
      "\n",
      "    isMachineCategorised  truthScore  is_trivial  \n",
      "6                  False         5.0        True  \n",
      "11                 False         4.0        True  \n",
      "17                 False         3.0        True  \n",
      "40                  True         NaN        True  \n",
      "42                  True         NaN        True  \n",
      "43                  True         NaN        True  \n",
      "45                 False         NaN        True  \n",
      "46                 False         NaN        True  \n",
      "47                  True         NaN        True  \n",
      "54                  True         NaN        True  \n",
      "56                  True         NaN        True  \n",
      "59                  True         NaN        True  \n",
      "61                 False         NaN        True  \n",
      "62                 False         NaN        True  \n",
      "63                 False         NaN        True  \n",
      "64                 False         NaN        True  \n",
      "69                  True         NaN        True  \n",
      "70                  True         NaN        True  \n",
      "72                 False         NaN        True  \n",
      "73                  True         NaN        True  \n",
      "76                 False         NaN        True  \n",
      "78                 False         NaN        True  \n",
      "79                  True         NaN        True  \n"
     ]
    }
   ],
   "source": [
    "print(checkmate_messages_df[checkmate_messages_df['is_trivial']==True])"
   ]
  },
  {
   "cell_type": "code",
   "execution_count": 9,
   "metadata": {},
   "outputs": [
    {
     "name": "stdout",
     "output_type": "stream",
     "text": [
      "23\n",
      "86\n"
     ]
    }
   ],
   "source": [
    "print(len(checkmate_messages_df[checkmate_messages_df['is_trivial']== True]))\n",
    "print(len(checkmate_messages_df))"
   ]
  },
  {
   "attachments": {},
   "cell_type": "markdown",
   "metadata": {},
   "source": [
    "23/86 of all messages in the current repository are trivial messages"
   ]
  },
  {
   "attachments": {},
   "cell_type": "markdown",
   "metadata": {},
   "source": [
    "## Word2Vec Embeddings using Gensim"
   ]
  },
  {
   "cell_type": "code",
   "execution_count": 25,
   "metadata": {},
   "outputs": [],
   "source": [
    "from gensim.test.utils import common_texts\n",
    "from gensim.models import Word2Vec\n",
    "import gensim.downloader as api\n",
    "import numpy as np"
   ]
  },
  {
   "cell_type": "code",
   "execution_count": 26,
   "metadata": {},
   "outputs": [],
   "source": [
    "wv = api.load('word2vec-google-news-300')"
   ]
  },
  {
   "cell_type": "code",
   "execution_count": 34,
   "metadata": {},
   "outputs": [
    {
     "name": "stdout",
     "output_type": "stream",
     "text": [
      "word #0/3000000 is </s>\n",
      "word #1/3000000 is in\n",
      "word #2/3000000 is for\n",
      "word #3/3000000 is that\n",
      "word #4/3000000 is is\n",
      "word #5/3000000 is on\n",
      "word #6/3000000 is ##\n",
      "word #7/3000000 is The\n",
      "word #8/3000000 is with\n",
      "word #9/3000000 is said\n"
     ]
    }
   ],
   "source": [
    "for index, word in enumerate(wv.index_to_key):\n",
    "    if index == 10:\n",
    "        break\n",
    "    print(f\"word #{index}/{len(wv.index_to_key)} is {word}\")"
   ]
  },
  {
   "cell_type": "code",
   "execution_count": 35,
   "metadata": {},
   "outputs": [
    {
     "name": "stdout",
     "output_type": "stream",
     "text": [
      "<class 'gensim.models.keyedvectors.KeyedVectors'>\n"
     ]
    }
   ],
   "source": [
    "print(type(wv))"
   ]
  },
  {
   "cell_type": "code",
   "execution_count": 44,
   "metadata": {},
   "outputs": [
    {
     "name": "stdout",
     "output_type": "stream",
     "text": [
      "300\n",
      "300\n",
      "<class 'numpy.ndarray'>\n"
     ]
    },
    {
     "name": "stderr",
     "output_type": "stream",
     "text": [
      "/var/folders/1v/_nnjhmhj2fz8d8dg63jpvjf80000gp/T/ipykernel_7602/2217988202.py:1: DeprecationWarning: Call to deprecated `word_vec` (Use get_vector instead).\n",
      "  print(len(wv.word_vec('said')))\n",
      "/var/folders/1v/_nnjhmhj2fz8d8dg63jpvjf80000gp/T/ipykernel_7602/2217988202.py:2: DeprecationWarning: Call to deprecated `word_vec` (Use get_vector instead).\n",
      "  print(len(wv.word_vec('with')))\n",
      "/var/folders/1v/_nnjhmhj2fz8d8dg63jpvjf80000gp/T/ipykernel_7602/2217988202.py:3: DeprecationWarning: Call to deprecated `word_vec` (Use get_vector instead).\n",
      "  print(type(wv.word_vec('print')))\n"
     ]
    }
   ],
   "source": [
    "print(len(wv.word_vec('said')))\n",
    "print(len(wv.word_vec('with')))\n",
    "print(type(wv.word_vec('print')))"
   ]
  },
  {
   "attachments": {},
   "cell_type": "markdown",
   "metadata": {},
   "source": [
    "Convert a string of words into their vectors and find their average"
   ]
  },
  {
   "cell_type": "code",
   "execution_count": 72,
   "metadata": {},
   "outputs": [
    {
     "name": "stdout",
     "output_type": "stream",
     "text": [
      "TN 95546718362782 is out for del. Allow for contactless del here: https://2g.to/EkEqr/3jI\n",
      "1. National School Games (NSG) 2023 (Secondary Schools): 10 to 25 April at Choa Chu Kang Stadium\n",
      "    EOI Link: https://form.jotform.com/223399002605452\n",
      "Well done CheckMate 👏👏👏\n",
      "Hello, no matter how busy work remember to eat Oh\n"
     ]
    }
   ],
   "source": [
    "print(checkmate_messages_df.iloc[2]['text'])\n",
    "print(checkmate_messages_df.iloc[5]['text'])\n",
    "print(checkmate_messages_df.iloc[6]['text'])\n",
    "print(checkmate_messages_df.iloc[11]['text'])"
   ]
  },
  {
   "cell_type": "code",
   "execution_count": 73,
   "metadata": {},
   "outputs": [],
   "source": [
    "nt_message = checkmate_messages_df.iloc[2]['text']\n",
    "t_message = checkmate_messages_df.iloc[6]['text']\n",
    "\n",
    "test_nt_message = checkmate_messages_df.iloc[5]['text']\n",
    "test_t_message = checkmate_messages_df.iloc[11]['text']"
   ]
  },
  {
   "cell_type": "code",
   "execution_count": 21,
   "metadata": {},
   "outputs": [
    {
     "name": "stdout",
     "output_type": "stream",
     "text": [
      "['TN', '95546718362782', 'is', 'out', 'for', 'del.', 'Allow', 'for', 'contactless', 'del', 'here:', 'https://2g.to/EkEqr/3jI']\n"
     ]
    }
   ],
   "source": [
    "message_tokens = checkmate_messages_df.iloc[2]['text'].split(' ')\n",
    "print(message_tokens)"
   ]
  },
  {
   "cell_type": "code",
   "execution_count": 104,
   "metadata": {},
   "outputs": [],
   "source": [
    "def sentence_2_vector(sentence):\n",
    "    message_vectors = []\n",
    "    # print(f'Debugging {sentence}, {type(sentence)}')\n",
    "    # print(f'Debugging {len(sentence)}')\n",
    "    is_na = True\n",
    "    for i in range(len(sentence)):\n",
    "        if wv.__contains__(sentence[i]):\n",
    "            message_vectors.append(wv.word_vec(sentence[i]))\n",
    "            is_na = False\n",
    "        else:\n",
    "            pass\n",
    "            # print(f'Does not contain token: {sentence[i]}')\n",
    "    if not is_na:\n",
    "        ave_vector = np.average(message_vectors, axis=0, keepdims=True)\n",
    "        return ave_vector\n",
    "    else:\n",
    "        return None"
   ]
  },
  {
   "cell_type": "code",
   "execution_count": 84,
   "metadata": {},
   "outputs": [
    {
     "name": "stdout",
     "output_type": "stream",
     "text": [
      "Does not contain token:  \n",
      "Does not contain token:  \n",
      "Does not contain token:  \n",
      "Does not contain token:  \n",
      "Does not contain token:  \n",
      "Does not contain token: .\n",
      "Does not contain token:  \n",
      "Does not contain token:  \n",
      "Does not contain token:  \n",
      "Does not contain token: a\n",
      "Does not contain token:  \n",
      "Does not contain token:  \n",
      "Does not contain token: :\n",
      "Does not contain token:  \n",
      "Does not contain token: :\n",
      "Does not contain token: /\n",
      "Does not contain token: /\n",
      "Does not contain token: .\n",
      "Does not contain token: /\n",
      "Does not contain token: /\n",
      "Does not contain token:  \n",
      "Does not contain token:  \n",
      "Does not contain token: a\n",
      "Does not contain token:  \n",
      "Does not contain token: 👏\n",
      "Does not contain token: 👏\n",
      "Does not contain token: 👏\n",
      "Does not contain token: .\n",
      "Does not contain token:  \n",
      "Does not contain token: a\n",
      "Does not contain token: a\n",
      "Does not contain token:  \n",
      "Does not contain token:  \n",
      "Does not contain token: a\n",
      "Does not contain token:  \n",
      "Does not contain token: (\n",
      "Does not contain token: )\n",
      "Does not contain token:  \n",
      "Does not contain token:  \n",
      "Does not contain token: (\n",
      "Does not contain token: a\n",
      "Does not contain token:  \n",
      "Does not contain token: )\n",
      "Does not contain token: :\n",
      "Does not contain token:  \n",
      "Does not contain token:  \n",
      "Does not contain token:  \n",
      "Does not contain token:  \n",
      "Does not contain token:  \n",
      "Does not contain token: a\n",
      "Does not contain token:  \n",
      "Does not contain token: a\n",
      "Does not contain token:  \n",
      "Does not contain token:  \n",
      "Does not contain token: a\n",
      "Does not contain token:  \n",
      "Does not contain token: a\n",
      "Does not contain token: \n",
      "\n",
      "Does not contain token:  \n",
      "Does not contain token:  \n",
      "Does not contain token:  \n",
      "Does not contain token:  \n",
      "Does not contain token:  \n",
      "Does not contain token: :\n",
      "Does not contain token:  \n",
      "Does not contain token: :\n",
      "Does not contain token: /\n",
      "Does not contain token: /\n",
      "Does not contain token: .\n",
      "Does not contain token: .\n",
      "Does not contain token: /\n",
      "Does not contain token: ,\n",
      "Does not contain token:  \n",
      "Does not contain token:  \n",
      "Does not contain token: a\n",
      "Does not contain token:  \n",
      "Does not contain token:  \n",
      "Does not contain token:  \n",
      "Does not contain token:  \n",
      "Does not contain token:  \n",
      "Does not contain token:  \n",
      "Does not contain token: a\n",
      "Does not contain token:  \n"
     ]
    },
    {
     "name": "stderr",
     "output_type": "stream",
     "text": [
      "/var/folders/1v/_nnjhmhj2fz8d8dg63jpvjf80000gp/T/ipykernel_7602/3928338712.py:5: DeprecationWarning: Call to deprecated `word_vec` (Use get_vector instead).\n",
      "  message_vectors.append(wv.word_vec(sentence[i]))\n"
     ]
    }
   ],
   "source": [
    "nt_message_vector = sentence_2_vector(nt_message)\n",
    "t_message_vector = sentence_2_vector(t_message)\n",
    "\n",
    "test_nt_message_vector = sentence_2_vector(test_nt_message)\n",
    "test_t_message_vector = sentence_2_vector(test_t_message)"
   ]
  },
  {
   "cell_type": "code",
   "execution_count": 85,
   "metadata": {},
   "outputs": [
    {
     "name": "stdout",
     "output_type": "stream",
     "text": [
      "1\n",
      "1\n"
     ]
    }
   ],
   "source": [
    "print(len(nt_message_vector))\n",
    "print(len(t_message_vector))"
   ]
  },
  {
   "cell_type": "markdown",
   "metadata": {},
   "source": []
  },
  {
   "cell_type": "code",
   "execution_count": 86,
   "metadata": {},
   "outputs": [
    {
     "name": "stdout",
     "output_type": "stream",
     "text": [
      "0.3369276\n"
     ]
    }
   ],
   "source": [
    "distance = np.linalg.norm(nt_message_vector - test_nt_message_vector)\n",
    "print(distance)"
   ]
  },
  {
   "cell_type": "code",
   "execution_count": 88,
   "metadata": {},
   "outputs": [
    {
     "name": "stdout",
     "output_type": "stream",
     "text": [
      "Distance of test non-trivial from non-trivial:0.336927592754364\n",
      "Distance of test non-trivial from trivial:0.8595778346061707\n"
     ]
    }
   ],
   "source": [
    "print(f'Distance of test non-trivial from non-trivial:{np.linalg.norm(nt_message_vector - test_nt_message_vector)}')\n",
    "print(f'Distance of test non-trivial from trivial:{np.linalg.norm(t_message_vector - test_nt_message_vector)}')"
   ]
  },
  {
   "cell_type": "code",
   "execution_count": 89,
   "metadata": {},
   "outputs": [
    {
     "name": "stdout",
     "output_type": "stream",
     "text": [
      "Distance of test trivial from non-trivial:0.67839115858078\n",
      "Distance of test trivial from trivial:0.6198282837867737\n"
     ]
    }
   ],
   "source": [
    "print(f'Distance of test trivial from non-trivial:{np.linalg.norm(nt_message_vector - test_t_message_vector)}')\n",
    "print(f'Distance of test trivial from trivial:{np.linalg.norm(t_message_vector - test_t_message_vector)}')"
   ]
  },
  {
   "attachments": {},
   "cell_type": "markdown",
   "metadata": {},
   "source": [
    "## Train Test Split"
   ]
  },
  {
   "cell_type": "code",
   "execution_count": 133,
   "metadata": {},
   "outputs": [
    {
     "name": "stdout",
     "output_type": "stream",
     "text": [
      "                                                 text     taggedCategory  \\\n",
      "0                                                 NaN  Info/News/Opinion   \n",
      "1   https://www.mas.gov.sg/news/media-releases/202...  Info/News/Opinion   \n",
      "2   TN 95546718362782 is out for del. Allow for co...         Legitimate   \n",
      "3   🚩🚩🚩 *\"You flag, we check\"* 🔍🔍🔍\\n\\nNot sure if ...  Info/News/Opinion   \n",
      "4        https://form.gov.sg/63f594b42413ea0011831e7e         Legitimate   \n",
      "..                                                ...                ...   \n",
      "81  [SHIN MIN CONTEST] Happycall Jumbo 双面锅等你赢取！翻阅到...             Unsure   \n",
      "82  Hello, sorry to bother you, I'm Nico from the ...               Scam   \n",
      "83  Hello, my name is Sarah, from CME Group. We've...               Scam   \n",
      "84  LTA: Notice As no valid E-tag detected in your...               Scam   \n",
      "85  Excuse me, this is Stella, have you arranged a...             Unsure   \n",
      "\n",
      "     type  isMachineCategorised  truthScore  \n",
      "0   image                 False    6.853846  \n",
      "1    text                 False    5.000000  \n",
      "2    text                 False    5.000000  \n",
      "3    text                 False    5.000000  \n",
      "4    text                 False    5.000000  \n",
      "..    ...                   ...         ...  \n",
      "81   text                 False         NaN  \n",
      "82   text                 False         NaN  \n",
      "83   text                 False         NaN  \n",
      "84   text                 False         NaN  \n",
      "85   text                 False         NaN  \n",
      "\n",
      "[86 rows x 5 columns]\n"
     ]
    }
   ],
   "source": [
    "from sklearn.model_selection import train_test_split\n",
    "\n",
    "print(checkmate_messages_df)"
   ]
  },
  {
   "cell_type": "code",
   "execution_count": 135,
   "metadata": {},
   "outputs": [
    {
     "name": "stdout",
     "output_type": "stream",
     "text": [
      "                                                 text  is_trivial\n",
      "0                                                 NaN       False\n",
      "1   https://www.mas.gov.sg/news/media-releases/202...       False\n",
      "2   TN 95546718362782 is out for del. Allow for co...       False\n",
      "3   🚩🚩🚩 *\"You flag, we check\"* 🔍🔍🔍\\n\\nNot sure if ...       False\n",
      "4        https://form.gov.sg/63f594b42413ea0011831e7e       False\n",
      "..                                                ...         ...\n",
      "81  [SHIN MIN CONTEST] Happycall Jumbo 双面锅等你赢取！翻阅到...       False\n",
      "82  Hello, sorry to bother you, I'm Nico from the ...       False\n",
      "83  Hello, my name is Sarah, from CME Group. We've...       False\n",
      "84  LTA: Notice As no valid E-tag detected in your...       False\n",
      "85  Excuse me, this is Stella, have you arranged a...       False\n",
      "\n",
      "[86 rows x 2 columns]\n"
     ]
    }
   ],
   "source": [
    "checkmate_messages_df = pd.read_csv('../../src/data/CheckMate_Messages_Table.csv')\n",
    "checkmate_messages_df.dropna()\n",
    "checkmate_messages_df['is_trivial'] = (checkmate_messages_df['taggedCategory']=='Trivial')\n",
    "\n",
    "\n",
    "df = checkmate_messages_df[['text','is_trivial']]\n",
    "print(df)\n",
    "\n",
    "df_train, df_test= train_test_split(\n",
    "        df, test_size=0.50, random_state=42)"
   ]
  },
  {
   "cell_type": "code",
   "execution_count": 136,
   "metadata": {},
   "outputs": [],
   "source": [
    "# Data is not clean, not all sentences are strings\n",
    "df_test['text'] = df_test['text'].astype('str')\n",
    "df_train['text'] = df_train['text'].astype('str')"
   ]
  },
  {
   "cell_type": "code",
   "execution_count": 137,
   "metadata": {},
   "outputs": [
    {
     "name": "stdout",
     "output_type": "stream",
     "text": [
      "(43, 2)\n",
      "(43, 2)\n"
     ]
    }
   ],
   "source": [
    "print(df_train.shape)\n",
    "print(df_test.shape)\n",
    "# print(y_train.shape)\n",
    "# print(y_test.shape)\n",
    "# Pandas Series\n",
    "# print(X_train.map(sentence_2_vector).shape)\n",
    "# print(X_train.map(sentence_2_vector).iloc[1])\n",
    "# print(X_train.map(sentence_2_vector).iloc[1].shape)"
   ]
  },
  {
   "cell_type": "code",
   "execution_count": 138,
   "metadata": {},
   "outputs": [
    {
     "name": "stderr",
     "output_type": "stream",
     "text": [
      "/var/folders/1v/_nnjhmhj2fz8d8dg63jpvjf80000gp/T/ipykernel_5366/647540005.py:4: SettingWithCopyWarning: \n",
      "A value is trying to be set on a copy of a slice from a DataFrame\n",
      "\n",
      "See the caveats in the documentation: https://pandas.pydata.org/pandas-docs/stable/user_guide/indexing.html#returning-a-view-versus-a-copy\n",
      "  df_train_is_trivial.dropna(inplace=True)\n",
      "/var/folders/1v/_nnjhmhj2fz8d8dg63jpvjf80000gp/T/ipykernel_5366/647540005.py:5: SettingWithCopyWarning: \n",
      "A value is trying to be set on a copy of a slice from a DataFrame\n",
      "\n",
      "See the caveats in the documentation: https://pandas.pydata.org/pandas-docs/stable/user_guide/indexing.html#returning-a-view-versus-a-copy\n",
      "  df_train_not_trivial.dropna(inplace=True)\n"
     ]
    }
   ],
   "source": [
    "df_train_is_trivial = df_train[df_train['is_trivial']==True]\n",
    "df_train_not_trivial = df_train[df_train['is_trivial']==False]\n",
    "\n",
    "df_train_is_trivial.dropna(inplace=True)\n",
    "df_train_not_trivial.dropna(inplace=True)"
   ]
  },
  {
   "cell_type": "code",
   "execution_count": 139,
   "metadata": {},
   "outputs": [],
   "source": [
    "# print(df_train_is_trivial['text'].map(sentence_2_vector).shape)\n",
    "# print(df_train_not_trivial['text'].map(sentence_2_vector).shape)\n",
    "# print(df_train_is_trivial['text'].map(sentence_2_vector))"
   ]
  },
  {
   "cell_type": "code",
   "execution_count": 140,
   "metadata": {},
   "outputs": [
    {
     "name": "stderr",
     "output_type": "stream",
     "text": [
      "/var/folders/1v/_nnjhmhj2fz8d8dg63jpvjf80000gp/T/ipykernel_5366/3167117194.py:8: DeprecationWarning: Call to deprecated `word_vec` (Use get_vector instead).\n",
      "  message_vectors.append(wv.word_vec(sentence[i]))\n"
     ]
    }
   ],
   "source": [
    "v_train_is_trivial = df_train_is_trivial['text'].map(sentence_2_vector).dropna()\n",
    "v_train_not_trivial = df_train_not_trivial['text'].map(sentence_2_vector).dropna()"
   ]
  },
  {
   "cell_type": "code",
   "execution_count": 141,
   "metadata": {},
   "outputs": [],
   "source": [
    "ave_vector_is_trivial = np.average(v_train_is_trivial)\n",
    "ave_vector_not_trivial = np.average(v_train_not_trivial)"
   ]
  },
  {
   "cell_type": "code",
   "execution_count": 142,
   "metadata": {},
   "outputs": [
    {
     "name": "stdout",
     "output_type": "stream",
     "text": [
      "[[-0.13695015  0.08342403  0.00514604  0.12669812 -0.06163373  0.0138057\n",
      "  -0.0730136  -0.06388134 -0.02763501  0.03655811 -0.05462418 -0.06098907\n",
      "  -0.16197072  0.02182103 -0.13201483  0.08333065  0.09458251  0.15757763\n",
      "  -0.03072715  0.00231777 -0.22467469 -0.02953767  0.1022515   0.00427959\n",
      "  -0.07633369  0.02171312 -0.23420987  0.06227919 -0.01620322 -0.01496878\n",
      "  -0.02388855  0.0072543  -0.06449614 -0.14816591 -0.14029114  0.09190691\n",
      "  -0.16870442  0.12773865 -0.06104794  0.08518694 -0.02328792 -0.05281211\n",
      "   0.05741708  0.08812542  0.03634414 -0.00858928 -0.03811451 -0.15303779\n",
      "  -0.08723135  0.08452263 -0.18150826  0.22038123 -0.00569471  0.2022705\n",
      "   0.02431773  0.1271864  -0.15068513 -0.09973634 -0.01174608 -0.13402615\n",
      "  -0.14104192 -0.06132596 -0.16747262 -0.07108618 -0.02530009 -0.17712204\n",
      "  -0.0809148   0.12340422 -0.02468852  0.05159829  0.03182505 -0.08645429\n",
      "   0.04162094 -0.01538992 -0.02737984  0.00783421  0.11337963 -0.0031864\n",
      "   0.01052057 -0.07945222 -0.12340466 -0.02944747 -0.01669256  0.00845132\n",
      "   0.11267806  0.06240766 -0.05017447  0.2185252   0.03562779  0.04051549\n",
      "  -0.00690066  0.0228147  -0.02651776 -0.10962594  0.03564132  0.09211856\n",
      "  -0.07882589  0.09333776  0.22742724 -0.01446137 -0.052703   -0.0122974\n",
      "  -0.06565112 -0.02020304 -0.05020411  0.12175202 -0.06598543  0.03014184\n",
      "  -0.03043321  0.00711452 -0.11017565 -0.14275631 -0.03620915 -0.07706112\n",
      "   0.05235643  0.14327668  0.09000858 -0.02454863 -0.01139678 -0.02600155\n",
      "   0.09344047  0.06061412  0.00372019  0.01246737  0.12267201 -0.14544918\n",
      "  -0.07699245  0.02252209  0.07159685  0.09343188 -0.06073117 -0.00750199\n",
      "  -0.05646934 -0.0415584  -0.14490736  0.06118554 -0.0363558   0.03139874\n",
      "   0.20412022  0.14761618  0.17034857 -0.04129663  0.04528194 -0.02867405\n",
      "  -0.0696197  -0.08952267 -0.02549388  0.15017861 -0.04921672  0.01514355\n",
      "   0.08165522 -0.27623215 -0.05988914 -0.05202831 -0.11332572 -0.06201928\n",
      "   0.07256824  0.16192582 -0.01000461 -0.02090008  0.01910581  0.065336\n",
      "   0.03495196  0.01176878 -0.00553008 -0.03105578  0.15043223  0.0459118\n",
      "  -0.10063596  0.07340012 -0.10438038 -0.0805401  -0.03717155 -0.08450327\n",
      "  -0.03613667  0.20502603  0.21370882 -0.18227927 -0.00374664 -0.05462151\n",
      "  -0.00238336  0.0131364   0.05680969 -0.00761011 -0.0246466   0.0421929\n",
      "  -0.01180214  0.04907198  0.00802345  0.01827854  0.09926444 -0.06577899\n",
      "  -0.21880919 -0.03324756  0.08927027  0.04252312 -0.04892084 -0.00556066\n",
      "   0.063474   -0.10001252 -0.11027748  0.00866804 -0.18092099 -0.10795495\n",
      "   0.0432677  -0.06189604 -0.04643082  0.09058392 -0.04156381  0.13333842\n",
      "   0.1279931   0.06743576 -0.11874175  0.02322287 -0.08292885  0.0499047\n",
      "   0.1418501  -0.05770007 -0.12493992 -0.00998129 -0.11562864  0.12542693\n",
      "   0.06406075 -0.0026537   0.00986986 -0.05397454  0.02467389  0.06142563\n",
      "   0.00228692 -0.12270004  0.01724647 -0.03011837 -0.09392876  0.02494016\n",
      "  -0.00294284  0.01610463  0.05163479  0.06711964  0.07061855  0.07437387\n",
      "   0.0762279   0.10302451  0.23745464 -0.07024186 -0.00391447  0.07702135\n",
      "  -0.12793583  0.13744406  0.03842571 -0.07365447  0.05836278  0.03658662\n",
      "   0.04283617  0.0912396   0.00721071 -0.09599151 -0.02186169  0.03835757\n",
      "   0.02646705 -0.08209783  0.06908276 -0.01994262  0.08739892 -0.03633871\n",
      "  -0.07138335  0.02895666  0.00464322  0.0135111  -0.0092827  -0.04486765\n",
      "  -0.06104707 -0.0080863   0.03004822 -0.00652955  0.07225958 -0.07429894\n",
      "  -0.16434915 -0.122867   -0.09357507  0.07294926 -0.09167092  0.14537245\n",
      "  -0.01658165  0.00472368  0.00589423  0.02521507  0.00090789 -0.0036242\n",
      "  -0.04476785 -0.04153404  0.06206869 -0.00137898 -0.08978157  0.09597556\n",
      "  -0.03904845 -0.14757474 -0.11085719 -0.0173431  -0.09801648  0.1352754 ]]\n"
     ]
    }
   ],
   "source": [
    "print(ave_vector_not_trivial)"
   ]
  },
  {
   "cell_type": "code",
   "execution_count": 143,
   "metadata": {},
   "outputs": [],
   "source": [
    "def classify_is_trivial(v):\n",
    "    d_is_trivial = np.linalg.norm(ave_vector_is_trivial - v)\n",
    "    d_not_trivial = np.linalg.norm(ave_vector_not_trivial - v)\n",
    "    # print(f'distance from trivial:{d_is_trivial}, not trivial:{d_not_trivial}')\n",
    "    if d_is_trivial<= d_not_trivial:\n",
    "        return True\n",
    "    else:\n",
    "        return False"
   ]
  },
  {
   "cell_type": "code",
   "execution_count": 144,
   "metadata": {},
   "outputs": [
    {
     "data": {
      "text/html": [
       "<div>\n",
       "<style scoped>\n",
       "    .dataframe tbody tr th:only-of-type {\n",
       "        vertical-align: middle;\n",
       "    }\n",
       "\n",
       "    .dataframe tbody tr th {\n",
       "        vertical-align: top;\n",
       "    }\n",
       "\n",
       "    .dataframe thead th {\n",
       "        text-align: right;\n",
       "    }\n",
       "</style>\n",
       "<table border=\"1\" class=\"dataframe\">\n",
       "  <thead>\n",
       "    <tr style=\"text-align: right;\">\n",
       "      <th></th>\n",
       "      <th>text</th>\n",
       "      <th>is_trivial</th>\n",
       "    </tr>\n",
       "  </thead>\n",
       "  <tbody>\n",
       "    <tr>\n",
       "      <th>75</th>\n",
       "      <td>Hi, last year one of my colleague met you at y...</td>\n",
       "      <td>False</td>\n",
       "    </tr>\n",
       "    <tr>\n",
       "      <th>0</th>\n",
       "      <td>nan</td>\n",
       "      <td>False</td>\n",
       "    </tr>\n",
       "    <tr>\n",
       "      <th>70</th>\n",
       "      <td>Hello</td>\n",
       "      <td>True</td>\n",
       "    </tr>\n",
       "    <tr>\n",
       "      <th>22</th>\n",
       "      <td>Hi! I pray this msg find you in good health. H...</td>\n",
       "      <td>False</td>\n",
       "    </tr>\n",
       "    <tr>\n",
       "      <th>12</th>\n",
       "      <td>Hey Jolyn! We haven't seen you in the studio y...</td>\n",
       "      <td>False</td>\n",
       "    </tr>\n",
       "    <tr>\n",
       "      <th>56</th>\n",
       "      <td>Hello!</td>\n",
       "      <td>True</td>\n",
       "    </tr>\n",
       "    <tr>\n",
       "      <th>10</th>\n",
       "      <td>Wear mask in trains, buses and crowded places ...</td>\n",
       "      <td>False</td>\n",
       "    </tr>\n",
       "    <tr>\n",
       "      <th>18</th>\n",
       "      <td>📢 HUUUURRY! Use your code GLASSSKIN10 &amp; start ...</td>\n",
       "      <td>False</td>\n",
       "    </tr>\n",
       "    <tr>\n",
       "      <th>4</th>\n",
       "      <td>https://form.gov.sg/63f594b42413ea0011831e7e</td>\n",
       "      <td>False</td>\n",
       "    </tr>\n",
       "    <tr>\n",
       "      <th>67</th>\n",
       "      <td>Hello, We have noticed your employment history...</td>\n",
       "      <td>False</td>\n",
       "    </tr>\n",
       "    <tr>\n",
       "      <th>61</th>\n",
       "      <td>can u read pictures?</td>\n",
       "      <td>True</td>\n",
       "    </tr>\n",
       "    <tr>\n",
       "      <th>64</th>\n",
       "      <td>Noted. Sorry about this. I misread your ChatBo...</td>\n",
       "      <td>True</td>\n",
       "    </tr>\n",
       "    <tr>\n",
       "      <th>53</th>\n",
       "      <td>T2Club Double Bonus For New Members Up To $300...</td>\n",
       "      <td>False</td>\n",
       "    </tr>\n",
       "    <tr>\n",
       "      <th>73</th>\n",
       "      <td>👌</td>\n",
       "      <td>True</td>\n",
       "    </tr>\n",
       "    <tr>\n",
       "      <th>62</th>\n",
       "      <td>Am just testing</td>\n",
       "      <td>True</td>\n",
       "    </tr>\n",
       "    <tr>\n",
       "      <th>66</th>\n",
       "      <td>Hi there, lovely Evening, we are currently lau...</td>\n",
       "      <td>False</td>\n",
       "    </tr>\n",
       "    <tr>\n",
       "      <th>33</th>\n",
       "      <td>Ionizing radiation can affect the atoms in all...</td>\n",
       "      <td>False</td>\n",
       "    </tr>\n",
       "    <tr>\n",
       "      <th>78</th>\n",
       "      <td>Hello, I just received a call from an unknown ...</td>\n",
       "      <td>True</td>\n",
       "    </tr>\n",
       "    <tr>\n",
       "      <th>54</th>\n",
       "      <td>😊</td>\n",
       "      <td>True</td>\n",
       "    </tr>\n",
       "    <tr>\n",
       "      <th>72</th>\n",
       "      <td>If you receive a scam message like this simula...</td>\n",
       "      <td>True</td>\n",
       "    </tr>\n",
       "    <tr>\n",
       "      <th>11</th>\n",
       "      <td>Hello, no matter how busy work remember to eat Oh</td>\n",
       "      <td>True</td>\n",
       "    </tr>\n",
       "    <tr>\n",
       "      <th>30</th>\n",
       "      <td>Date: 24 March 2023 at 2:24:03 pm AEDT\\nTo: \\n...</td>\n",
       "      <td>False</td>\n",
       "    </tr>\n",
       "    <tr>\n",
       "      <th>40</th>\n",
       "      <td>scam?</td>\n",
       "      <td>True</td>\n",
       "    </tr>\n",
       "    <tr>\n",
       "      <th>28</th>\n",
       "      <td>Dear all,\\nPlease be careful.. There is a HIGH...</td>\n",
       "      <td>False</td>\n",
       "    </tr>\n",
       "    <tr>\n",
       "      <th>9</th>\n",
       "      <td>https://www.8world.com/singapore/covid-19-spik...</td>\n",
       "      <td>False</td>\n",
       "    </tr>\n",
       "    <tr>\n",
       "      <th>65</th>\n",
       "      <td>Special happy news:\\r\\n  Jitterbug cross-borde...</td>\n",
       "      <td>False</td>\n",
       "    </tr>\n",
       "    <tr>\n",
       "      <th>5</th>\n",
       "      <td>1. National School Games (NSG) 2023 (Secondary...</td>\n",
       "      <td>False</td>\n",
       "    </tr>\n",
       "    <tr>\n",
       "      <th>39</th>\n",
       "      <td>\\n\\nHi, this is Julie from Chase Travel Singap...</td>\n",
       "      <td>False</td>\n",
       "    </tr>\n",
       "    <tr>\n",
       "      <th>31</th>\n",
       "      <td>中国确实真的有5千年历史啊！这是对的啊！谁人的屁是香的啊！老外的屁也是臭味熏天的啊！他们还有...</td>\n",
       "      <td>False</td>\n",
       "    </tr>\n",
       "    <tr>\n",
       "      <th>35</th>\n",
       "      <td>&lt;ADV&gt; Congrats Ming! You're one of our 3 lucky...</td>\n",
       "      <td>False</td>\n",
       "    </tr>\n",
       "    <tr>\n",
       "      <th>45</th>\n",
       "      <td>Hello a bit slow</td>\n",
       "      <td>True</td>\n",
       "    </tr>\n",
       "    <tr>\n",
       "      <th>44</th>\n",
       "      <td>Hi , this is Julia from Chan Brothers Travel P...</td>\n",
       "      <td>False</td>\n",
       "    </tr>\n",
       "    <tr>\n",
       "      <th>16</th>\n",
       "      <td>So...... Starts walking!!!\\n\\nhttps://www.thev...</td>\n",
       "      <td>False</td>\n",
       "    </tr>\n",
       "    <tr>\n",
       "      <th>42</th>\n",
       "      <td>Hi</td>\n",
       "      <td>True</td>\n",
       "    </tr>\n",
       "    <tr>\n",
       "      <th>34</th>\n",
       "      <td>🌧️ 🌧️ 🌧️ 🌧️ 🌧️ 🌧️ 🌧️ \\n\\n*From today until 30/...</td>\n",
       "      <td>False</td>\n",
       "    </tr>\n",
       "    <tr>\n",
       "      <th>7</th>\n",
       "      <td>https://forceforgood.insead.edu/give\\n\\n#tookl...</td>\n",
       "      <td>False</td>\n",
       "    </tr>\n",
       "    <tr>\n",
       "      <th>49</th>\n",
       "      <td>Hi, I'm Miki  from Chan Brothers Travel. We ar...</td>\n",
       "      <td>False</td>\n",
       "    </tr>\n",
       "    <tr>\n",
       "      <th>82</th>\n",
       "      <td>Hello, sorry to bother you, I'm Nico from the ...</td>\n",
       "      <td>False</td>\n",
       "    </tr>\n",
       "    <tr>\n",
       "      <th>19</th>\n",
       "      <td>Hi, last year one of my colleague met you at y...</td>\n",
       "      <td>False</td>\n",
       "    </tr>\n",
       "    <tr>\n",
       "      <th>83</th>\n",
       "      <td>Hello, my name is Sarah, from CME Group. We've...</td>\n",
       "      <td>False</td>\n",
       "    </tr>\n",
       "    <tr>\n",
       "      <th>25</th>\n",
       "      <td>https://m.facebook.com/story.php/?story_fbid=p...</td>\n",
       "      <td>False</td>\n",
       "    </tr>\n",
       "    <tr>\n",
       "      <th>47</th>\n",
       "      <td>this is a test</td>\n",
       "      <td>True</td>\n",
       "    </tr>\n",
       "    <tr>\n",
       "      <th>13</th>\n",
       "      <td>Hi all, especially for our younger colleagues ...</td>\n",
       "      <td>False</td>\n",
       "    </tr>\n",
       "  </tbody>\n",
       "</table>\n",
       "</div>"
      ],
      "text/plain": [
       "                                                 text  is_trivial\n",
       "75  Hi, last year one of my colleague met you at y...       False\n",
       "0                                                 nan       False\n",
       "70                                              Hello        True\n",
       "22  Hi! I pray this msg find you in good health. H...       False\n",
       "12  Hey Jolyn! We haven't seen you in the studio y...       False\n",
       "56                                             Hello!        True\n",
       "10  Wear mask in trains, buses and crowded places ...       False\n",
       "18  📢 HUUUURRY! Use your code GLASSSKIN10 & start ...       False\n",
       "4        https://form.gov.sg/63f594b42413ea0011831e7e       False\n",
       "67  Hello, We have noticed your employment history...       False\n",
       "61                               can u read pictures?        True\n",
       "64  Noted. Sorry about this. I misread your ChatBo...        True\n",
       "53  T2Club Double Bonus For New Members Up To $300...       False\n",
       "73                                                  👌        True\n",
       "62                                    Am just testing        True\n",
       "66  Hi there, lovely Evening, we are currently lau...       False\n",
       "33  Ionizing radiation can affect the atoms in all...       False\n",
       "78  Hello, I just received a call from an unknown ...        True\n",
       "54                                                  😊        True\n",
       "72  If you receive a scam message like this simula...        True\n",
       "11  Hello, no matter how busy work remember to eat Oh        True\n",
       "30  Date: 24 March 2023 at 2:24:03 pm AEDT\\nTo: \\n...       False\n",
       "40                                              scam?        True\n",
       "28  Dear all,\\nPlease be careful.. There is a HIGH...       False\n",
       "9   https://www.8world.com/singapore/covid-19-spik...       False\n",
       "65  Special happy news:\\r\\n  Jitterbug cross-borde...       False\n",
       "5   1. National School Games (NSG) 2023 (Secondary...       False\n",
       "39  \\n\\nHi, this is Julie from Chase Travel Singap...       False\n",
       "31  中国确实真的有5千年历史啊！这是对的啊！谁人的屁是香的啊！老外的屁也是臭味熏天的啊！他们还有...       False\n",
       "35  <ADV> Congrats Ming! You're one of our 3 lucky...       False\n",
       "45                                   Hello a bit slow        True\n",
       "44  Hi , this is Julia from Chan Brothers Travel P...       False\n",
       "16  So...... Starts walking!!!\\n\\nhttps://www.thev...       False\n",
       "42                                                 Hi        True\n",
       "34  🌧️ 🌧️ 🌧️ 🌧️ 🌧️ 🌧️ 🌧️ \\n\\n*From today until 30/...       False\n",
       "7   https://forceforgood.insead.edu/give\\n\\n#tookl...       False\n",
       "49  Hi, I'm Miki  from Chan Brothers Travel. We ar...       False\n",
       "82  Hello, sorry to bother you, I'm Nico from the ...       False\n",
       "19  Hi, last year one of my colleague met you at y...       False\n",
       "83  Hello, my name is Sarah, from CME Group. We've...       False\n",
       "25  https://m.facebook.com/story.php/?story_fbid=p...       False\n",
       "47                                     this is a test        True\n",
       "13  Hi all, especially for our younger colleagues ...       False"
      ]
     },
     "execution_count": 144,
     "metadata": {},
     "output_type": "execute_result"
    }
   ],
   "source": [
    "df_test"
   ]
  },
  {
   "cell_type": "code",
   "execution_count": 145,
   "metadata": {},
   "outputs": [
    {
     "name": "stderr",
     "output_type": "stream",
     "text": [
      "/var/folders/1v/_nnjhmhj2fz8d8dg63jpvjf80000gp/T/ipykernel_5366/3167117194.py:8: DeprecationWarning: Call to deprecated `word_vec` (Use get_vector instead).\n",
      "  message_vectors.append(wv.word_vec(sentence[i]))\n"
     ]
    }
   ],
   "source": [
    "v_test = df_test['text'].map(sentence_2_vector).dropna()"
   ]
  },
  {
   "cell_type": "code",
   "execution_count": 146,
   "metadata": {},
   "outputs": [],
   "source": [
    "prediction = (v_test.map(classify_is_trivial))"
   ]
  },
  {
   "cell_type": "code",
   "execution_count": 166,
   "metadata": {},
   "outputs": [],
   "source": [
    "predicted_vs_output = pd.concat([df_test['is_trivial'], prediction], axis=1)\n",
    "predicted_vs_output = predicted_vs_output.rename(columns={'is_trivial':'target', 'text':'prediction'})"
   ]
  },
  {
   "cell_type": "code",
   "execution_count": 173,
   "metadata": {},
   "outputs": [
    {
     "name": "stdout",
     "output_type": "stream",
     "text": [
      "<class 'pandas.core.frame.DataFrame'>\n",
      "0.6666666666666666\n"
     ]
    }
   ],
   "source": [
    "print(type(predicted_vs_output))\n",
    "\n",
    "true_positive = len(predicted_vs_output[(predicted_vs_output['target']==True) & (predicted_vs_output['prediction']==True)])\n",
    "false_negative = len(predicted_vs_output[(predicted_vs_output['target']==True) & (predicted_vs_output['prediction']==False)])\n",
    "\n",
    "recall = true_positive/(true_positive+false_negative)\n",
    "print(recall)"
   ]
  },
  {
   "cell_type": "code",
   "execution_count": null,
   "metadata": {},
   "outputs": [],
   "source": []
  }
 ],
 "metadata": {
  "kernelspec": {
   "display_name": "checkmate_ml",
   "language": "python",
   "name": "python3"
  },
  "language_info": {
   "codemirror_mode": {
    "name": "ipython",
    "version": 3
   },
   "file_extension": ".py",
   "mimetype": "text/x-python",
   "name": "python",
   "nbconvert_exporter": "python",
   "pygments_lexer": "ipython3",
   "version": "3.9.16"
  },
  "orig_nbformat": 4
 },
 "nbformat": 4,
 "nbformat_minor": 2
}
