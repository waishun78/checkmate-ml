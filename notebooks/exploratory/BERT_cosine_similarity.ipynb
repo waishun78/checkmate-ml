{
 "cells": [
  {
   "attachments": {},
   "cell_type": "markdown",
   "metadata": {},
   "source": [
    "# BERT Base \n",
    "Uncased Embeddings\n",
    "\n",
    "Using bert uncased embeddings to find a representative word embedding of trivial and non-trivial messages (from the training sentences). Classify each new sentence based on the Euclidean distance from the representative embeddings."
   ]
  },
  {
   "cell_type": "code",
   "execution_count": 93,
   "metadata": {},
   "outputs": [],
   "source": [
    "import torch\n",
    "from transformers import BertTokenizer, BertModel\n",
    "\n",
    "# OPTIONAL: if you want to have more information on what's happening, activate the logger as follows\n",
    "import logging\n",
    "#logging.basicConfig(level=logging.INFO)\n",
    "\n",
    "import matplotlib.pyplot as plt\n",
    "import pandas as pd\n",
    "from sklearn.model_selection import train_test_split\n",
    "\n",
    "import numpy as np\n",
    "import tensorflow as tf\n",
    "\n",
    "from scipy.spatial.distance import cosine"
   ]
  },
  {
   "cell_type": "code",
   "execution_count": 94,
   "metadata": {},
   "outputs": [],
   "source": [
    "# Load pre-trained model tokenizer (vocabulary)\n",
    "tokenizer = BertTokenizer.from_pretrained('bert-base-uncased')"
   ]
  },
  {
   "cell_type": "code",
   "execution_count": 95,
   "metadata": {},
   "outputs": [],
   "source": [
    "spam_df = pd.read_excel('../../src/data/spam.xlsx')\n",
    "checkmate_df = pd.read_csv('../../src/data/CheckMate_Messages_Table.csv')"
   ]
  },
  {
   "cell_type": "code",
   "execution_count": 96,
   "metadata": {},
   "outputs": [],
   "source": [
    "checkmate_df['is_trivial'] = (checkmate_df['taggedCategory']=='Trivial')\n",
    "# Not all sentences are imported as strings\n",
    "checkmate_df['text'] = checkmate_df['text'].astype('str')\n",
    "\n",
    "# Remove empty rows\n",
    "spam_df = spam_df.iloc[:, 1:3]\n",
    "# Rename columns\n",
    "spam_df.columns = ['text', 'is_trivial']\n",
    "# Not all sentences are imported as strings\n",
    "spam_df['text'] = spam_df['text'].astype('str')"
   ]
  },
  {
   "cell_type": "code",
   "execution_count": 97,
   "metadata": {},
   "outputs": [],
   "source": [
    "spam_df['text'] = (spam_df['text'].apply(lambda x: \"[CLS] \" + x + \" [SEP]\"))\n",
    "# print(spam_df)\n",
    "spam_df['token_ids'] = spam_df['text'].apply(lambda x: tokenizer.encode(x, truncation=True))\n",
    "# print(spam_df)\n",
    "\n",
    "checkmate_df['text'] = (checkmate_df['text'].apply(lambda x: \"[CLS] \" + x + \" [SEP]\"))\n",
    "# print(checkmate_df)\n",
    "checkmate_df['token_ids'] = checkmate_df['text'].apply(lambda x: tokenizer.encode(x, truncation=True))\n",
    "# print(checkmate_df)"
   ]
  },
  {
   "cell_type": "code",
   "execution_count": 100,
   "metadata": {},
   "outputs": [],
   "source": [
    "for i in spam_df['token_ids']:\n",
    "    if len(i) > 512:\n",
    "        print('gth longer than 512')\n",
    "for i in checkmate_df['token_ids']:\n",
    "    if len(i) > 512:\n",
    "        print('Length longer than 512')"
   ]
  },
  {
   "cell_type": "code",
   "execution_count": 101,
   "metadata": {},
   "outputs": [],
   "source": [
    "# Creating segment ids for the sentence - since all belong to the same sentence it is all 1\n",
    "checkmate_df['segment_ids'] = (checkmate_df['token_ids'].apply(lambda x: [1] * len(x)))\n",
    "spam_df['segment_ids'] = (spam_df['token_ids'].apply(lambda x: [1] * len(x)))"
   ]
  },
  {
   "cell_type": "code",
   "execution_count": 102,
   "metadata": {},
   "outputs": [
    {
     "name": "stdout",
     "output_type": "stream",
     "text": [
      "<class 'list'>\n",
      "[1, 1, 1, 1, 1]\n"
     ]
    }
   ],
   "source": [
    "temp = checkmate_df['segment_ids']\n",
    "print(type(temp[0]))\n",
    "print(temp[0])"
   ]
  },
  {
   "cell_type": "code",
   "execution_count": 103,
   "metadata": {},
   "outputs": [],
   "source": [
    "# Turn all the list of token ids/segment ids into tensors\n",
    "spam_df['tensor_token'] = spam_df.apply(lambda x: torch.tensor([x['token_ids']]), axis=1)\n",
    "spam_df['tensor_segment'] = spam_df.apply(lambda x: torch.tensor([x['segment_ids']]), axis=1)\n",
    "\n",
    "checkmate_df['tensor_token'] = checkmate_df.apply(lambda x: torch.tensor([x['token_ids']]), axis=1)\n",
    "checkmate_df['tensor_segment'] = checkmate_df.apply(lambda x: torch.tensor([x['segment_ids']]), axis=1)"
   ]
  },
  {
   "cell_type": "code",
   "execution_count": 104,
   "metadata": {},
   "outputs": [
    {
     "name": "stdout",
     "output_type": "stream",
     "text": [
      "1114\n",
      "4457\n"
     ]
    }
   ],
   "source": [
    "spam_df_train, spam_df_test = train_test_split(spam_df, test_size=0.8, stratify=spam_df['is_trivial'])\n",
    "print(len(spam_df_train))\n",
    "print(len(spam_df_test))"
   ]
  },
  {
   "cell_type": "code",
   "execution_count": 105,
   "metadata": {},
   "outputs": [
    {
     "name": "stderr",
     "output_type": "stream",
     "text": [
      "Some weights of the model checkpoint at bert-base-uncased were not used when initializing BertModel: ['cls.predictions.bias', 'cls.predictions.transform.dense.weight', 'cls.predictions.transform.dense.bias', 'cls.predictions.decoder.weight', 'cls.seq_relationship.bias', 'cls.predictions.transform.LayerNorm.weight', 'cls.predictions.transform.LayerNorm.bias', 'cls.seq_relationship.weight']\n",
      "- This IS expected if you are initializing BertModel from the checkpoint of a model trained on another task or with another architecture (e.g. initializing a BertForSequenceClassification model from a BertForPreTraining model).\n",
      "- This IS NOT expected if you are initializing BertModel from the checkpoint of a model that you expect to be exactly identical (initializing a BertForSequenceClassification model from a BertForSequenceClassification model).\n"
     ]
    },
    {
     "data": {
      "text/plain": [
       "BertModel(\n",
       "  (embeddings): BertEmbeddings(\n",
       "    (word_embeddings): Embedding(30522, 768, padding_idx=0)\n",
       "    (position_embeddings): Embedding(512, 768)\n",
       "    (token_type_embeddings): Embedding(2, 768)\n",
       "    (LayerNorm): LayerNorm((768,), eps=1e-12, elementwise_affine=True)\n",
       "    (dropout): Dropout(p=0.1, inplace=False)\n",
       "  )\n",
       "  (encoder): BertEncoder(\n",
       "    (layer): ModuleList(\n",
       "      (0): BertLayer(\n",
       "        (attention): BertAttention(\n",
       "          (self): BertSelfAttention(\n",
       "            (query): Linear(in_features=768, out_features=768, bias=True)\n",
       "            (key): Linear(in_features=768, out_features=768, bias=True)\n",
       "            (value): Linear(in_features=768, out_features=768, bias=True)\n",
       "            (dropout): Dropout(p=0.1, inplace=False)\n",
       "          )\n",
       "          (output): BertSelfOutput(\n",
       "            (dense): Linear(in_features=768, out_features=768, bias=True)\n",
       "            (LayerNorm): LayerNorm((768,), eps=1e-12, elementwise_affine=True)\n",
       "            (dropout): Dropout(p=0.1, inplace=False)\n",
       "          )\n",
       "        )\n",
       "        (intermediate): BertIntermediate(\n",
       "          (dense): Linear(in_features=768, out_features=3072, bias=True)\n",
       "          (intermediate_act_fn): GELUActivation()\n",
       "        )\n",
       "        (output): BertOutput(\n",
       "          (dense): Linear(in_features=3072, out_features=768, bias=True)\n",
       "          (LayerNorm): LayerNorm((768,), eps=1e-12, elementwise_affine=True)\n",
       "          (dropout): Dropout(p=0.1, inplace=False)\n",
       "        )\n",
       "      )\n",
       "      (1): BertLayer(\n",
       "        (attention): BertAttention(\n",
       "          (self): BertSelfAttention(\n",
       "            (query): Linear(in_features=768, out_features=768, bias=True)\n",
       "            (key): Linear(in_features=768, out_features=768, bias=True)\n",
       "            (value): Linear(in_features=768, out_features=768, bias=True)\n",
       "            (dropout): Dropout(p=0.1, inplace=False)\n",
       "          )\n",
       "          (output): BertSelfOutput(\n",
       "            (dense): Linear(in_features=768, out_features=768, bias=True)\n",
       "            (LayerNorm): LayerNorm((768,), eps=1e-12, elementwise_affine=True)\n",
       "            (dropout): Dropout(p=0.1, inplace=False)\n",
       "          )\n",
       "        )\n",
       "        (intermediate): BertIntermediate(\n",
       "          (dense): Linear(in_features=768, out_features=3072, bias=True)\n",
       "          (intermediate_act_fn): GELUActivation()\n",
       "        )\n",
       "        (output): BertOutput(\n",
       "          (dense): Linear(in_features=3072, out_features=768, bias=True)\n",
       "          (LayerNorm): LayerNorm((768,), eps=1e-12, elementwise_affine=True)\n",
       "          (dropout): Dropout(p=0.1, inplace=False)\n",
       "        )\n",
       "      )\n",
       "      (2): BertLayer(\n",
       "        (attention): BertAttention(\n",
       "          (self): BertSelfAttention(\n",
       "            (query): Linear(in_features=768, out_features=768, bias=True)\n",
       "            (key): Linear(in_features=768, out_features=768, bias=True)\n",
       "            (value): Linear(in_features=768, out_features=768, bias=True)\n",
       "            (dropout): Dropout(p=0.1, inplace=False)\n",
       "          )\n",
       "          (output): BertSelfOutput(\n",
       "            (dense): Linear(in_features=768, out_features=768, bias=True)\n",
       "            (LayerNorm): LayerNorm((768,), eps=1e-12, elementwise_affine=True)\n",
       "            (dropout): Dropout(p=0.1, inplace=False)\n",
       "          )\n",
       "        )\n",
       "        (intermediate): BertIntermediate(\n",
       "          (dense): Linear(in_features=768, out_features=3072, bias=True)\n",
       "          (intermediate_act_fn): GELUActivation()\n",
       "        )\n",
       "        (output): BertOutput(\n",
       "          (dense): Linear(in_features=3072, out_features=768, bias=True)\n",
       "          (LayerNorm): LayerNorm((768,), eps=1e-12, elementwise_affine=True)\n",
       "          (dropout): Dropout(p=0.1, inplace=False)\n",
       "        )\n",
       "      )\n",
       "      (3): BertLayer(\n",
       "        (attention): BertAttention(\n",
       "          (self): BertSelfAttention(\n",
       "            (query): Linear(in_features=768, out_features=768, bias=True)\n",
       "            (key): Linear(in_features=768, out_features=768, bias=True)\n",
       "            (value): Linear(in_features=768, out_features=768, bias=True)\n",
       "            (dropout): Dropout(p=0.1, inplace=False)\n",
       "          )\n",
       "          (output): BertSelfOutput(\n",
       "            (dense): Linear(in_features=768, out_features=768, bias=True)\n",
       "            (LayerNorm): LayerNorm((768,), eps=1e-12, elementwise_affine=True)\n",
       "            (dropout): Dropout(p=0.1, inplace=False)\n",
       "          )\n",
       "        )\n",
       "        (intermediate): BertIntermediate(\n",
       "          (dense): Linear(in_features=768, out_features=3072, bias=True)\n",
       "          (intermediate_act_fn): GELUActivation()\n",
       "        )\n",
       "        (output): BertOutput(\n",
       "          (dense): Linear(in_features=3072, out_features=768, bias=True)\n",
       "          (LayerNorm): LayerNorm((768,), eps=1e-12, elementwise_affine=True)\n",
       "          (dropout): Dropout(p=0.1, inplace=False)\n",
       "        )\n",
       "      )\n",
       "      (4): BertLayer(\n",
       "        (attention): BertAttention(\n",
       "          (self): BertSelfAttention(\n",
       "            (query): Linear(in_features=768, out_features=768, bias=True)\n",
       "            (key): Linear(in_features=768, out_features=768, bias=True)\n",
       "            (value): Linear(in_features=768, out_features=768, bias=True)\n",
       "            (dropout): Dropout(p=0.1, inplace=False)\n",
       "          )\n",
       "          (output): BertSelfOutput(\n",
       "            (dense): Linear(in_features=768, out_features=768, bias=True)\n",
       "            (LayerNorm): LayerNorm((768,), eps=1e-12, elementwise_affine=True)\n",
       "            (dropout): Dropout(p=0.1, inplace=False)\n",
       "          )\n",
       "        )\n",
       "        (intermediate): BertIntermediate(\n",
       "          (dense): Linear(in_features=768, out_features=3072, bias=True)\n",
       "          (intermediate_act_fn): GELUActivation()\n",
       "        )\n",
       "        (output): BertOutput(\n",
       "          (dense): Linear(in_features=3072, out_features=768, bias=True)\n",
       "          (LayerNorm): LayerNorm((768,), eps=1e-12, elementwise_affine=True)\n",
       "          (dropout): Dropout(p=0.1, inplace=False)\n",
       "        )\n",
       "      )\n",
       "      (5): BertLayer(\n",
       "        (attention): BertAttention(\n",
       "          (self): BertSelfAttention(\n",
       "            (query): Linear(in_features=768, out_features=768, bias=True)\n",
       "            (key): Linear(in_features=768, out_features=768, bias=True)\n",
       "            (value): Linear(in_features=768, out_features=768, bias=True)\n",
       "            (dropout): Dropout(p=0.1, inplace=False)\n",
       "          )\n",
       "          (output): BertSelfOutput(\n",
       "            (dense): Linear(in_features=768, out_features=768, bias=True)\n",
       "            (LayerNorm): LayerNorm((768,), eps=1e-12, elementwise_affine=True)\n",
       "            (dropout): Dropout(p=0.1, inplace=False)\n",
       "          )\n",
       "        )\n",
       "        (intermediate): BertIntermediate(\n",
       "          (dense): Linear(in_features=768, out_features=3072, bias=True)\n",
       "          (intermediate_act_fn): GELUActivation()\n",
       "        )\n",
       "        (output): BertOutput(\n",
       "          (dense): Linear(in_features=3072, out_features=768, bias=True)\n",
       "          (LayerNorm): LayerNorm((768,), eps=1e-12, elementwise_affine=True)\n",
       "          (dropout): Dropout(p=0.1, inplace=False)\n",
       "        )\n",
       "      )\n",
       "      (6): BertLayer(\n",
       "        (attention): BertAttention(\n",
       "          (self): BertSelfAttention(\n",
       "            (query): Linear(in_features=768, out_features=768, bias=True)\n",
       "            (key): Linear(in_features=768, out_features=768, bias=True)\n",
       "            (value): Linear(in_features=768, out_features=768, bias=True)\n",
       "            (dropout): Dropout(p=0.1, inplace=False)\n",
       "          )\n",
       "          (output): BertSelfOutput(\n",
       "            (dense): Linear(in_features=768, out_features=768, bias=True)\n",
       "            (LayerNorm): LayerNorm((768,), eps=1e-12, elementwise_affine=True)\n",
       "            (dropout): Dropout(p=0.1, inplace=False)\n",
       "          )\n",
       "        )\n",
       "        (intermediate): BertIntermediate(\n",
       "          (dense): Linear(in_features=768, out_features=3072, bias=True)\n",
       "          (intermediate_act_fn): GELUActivation()\n",
       "        )\n",
       "        (output): BertOutput(\n",
       "          (dense): Linear(in_features=3072, out_features=768, bias=True)\n",
       "          (LayerNorm): LayerNorm((768,), eps=1e-12, elementwise_affine=True)\n",
       "          (dropout): Dropout(p=0.1, inplace=False)\n",
       "        )\n",
       "      )\n",
       "      (7): BertLayer(\n",
       "        (attention): BertAttention(\n",
       "          (self): BertSelfAttention(\n",
       "            (query): Linear(in_features=768, out_features=768, bias=True)\n",
       "            (key): Linear(in_features=768, out_features=768, bias=True)\n",
       "            (value): Linear(in_features=768, out_features=768, bias=True)\n",
       "            (dropout): Dropout(p=0.1, inplace=False)\n",
       "          )\n",
       "          (output): BertSelfOutput(\n",
       "            (dense): Linear(in_features=768, out_features=768, bias=True)\n",
       "            (LayerNorm): LayerNorm((768,), eps=1e-12, elementwise_affine=True)\n",
       "            (dropout): Dropout(p=0.1, inplace=False)\n",
       "          )\n",
       "        )\n",
       "        (intermediate): BertIntermediate(\n",
       "          (dense): Linear(in_features=768, out_features=3072, bias=True)\n",
       "          (intermediate_act_fn): GELUActivation()\n",
       "        )\n",
       "        (output): BertOutput(\n",
       "          (dense): Linear(in_features=3072, out_features=768, bias=True)\n",
       "          (LayerNorm): LayerNorm((768,), eps=1e-12, elementwise_affine=True)\n",
       "          (dropout): Dropout(p=0.1, inplace=False)\n",
       "        )\n",
       "      )\n",
       "      (8): BertLayer(\n",
       "        (attention): BertAttention(\n",
       "          (self): BertSelfAttention(\n",
       "            (query): Linear(in_features=768, out_features=768, bias=True)\n",
       "            (key): Linear(in_features=768, out_features=768, bias=True)\n",
       "            (value): Linear(in_features=768, out_features=768, bias=True)\n",
       "            (dropout): Dropout(p=0.1, inplace=False)\n",
       "          )\n",
       "          (output): BertSelfOutput(\n",
       "            (dense): Linear(in_features=768, out_features=768, bias=True)\n",
       "            (LayerNorm): LayerNorm((768,), eps=1e-12, elementwise_affine=True)\n",
       "            (dropout): Dropout(p=0.1, inplace=False)\n",
       "          )\n",
       "        )\n",
       "        (intermediate): BertIntermediate(\n",
       "          (dense): Linear(in_features=768, out_features=3072, bias=True)\n",
       "          (intermediate_act_fn): GELUActivation()\n",
       "        )\n",
       "        (output): BertOutput(\n",
       "          (dense): Linear(in_features=3072, out_features=768, bias=True)\n",
       "          (LayerNorm): LayerNorm((768,), eps=1e-12, elementwise_affine=True)\n",
       "          (dropout): Dropout(p=0.1, inplace=False)\n",
       "        )\n",
       "      )\n",
       "      (9): BertLayer(\n",
       "        (attention): BertAttention(\n",
       "          (self): BertSelfAttention(\n",
       "            (query): Linear(in_features=768, out_features=768, bias=True)\n",
       "            (key): Linear(in_features=768, out_features=768, bias=True)\n",
       "            (value): Linear(in_features=768, out_features=768, bias=True)\n",
       "            (dropout): Dropout(p=0.1, inplace=False)\n",
       "          )\n",
       "          (output): BertSelfOutput(\n",
       "            (dense): Linear(in_features=768, out_features=768, bias=True)\n",
       "            (LayerNorm): LayerNorm((768,), eps=1e-12, elementwise_affine=True)\n",
       "            (dropout): Dropout(p=0.1, inplace=False)\n",
       "          )\n",
       "        )\n",
       "        (intermediate): BertIntermediate(\n",
       "          (dense): Linear(in_features=768, out_features=3072, bias=True)\n",
       "          (intermediate_act_fn): GELUActivation()\n",
       "        )\n",
       "        (output): BertOutput(\n",
       "          (dense): Linear(in_features=3072, out_features=768, bias=True)\n",
       "          (LayerNorm): LayerNorm((768,), eps=1e-12, elementwise_affine=True)\n",
       "          (dropout): Dropout(p=0.1, inplace=False)\n",
       "        )\n",
       "      )\n",
       "      (10): BertLayer(\n",
       "        (attention): BertAttention(\n",
       "          (self): BertSelfAttention(\n",
       "            (query): Linear(in_features=768, out_features=768, bias=True)\n",
       "            (key): Linear(in_features=768, out_features=768, bias=True)\n",
       "            (value): Linear(in_features=768, out_features=768, bias=True)\n",
       "            (dropout): Dropout(p=0.1, inplace=False)\n",
       "          )\n",
       "          (output): BertSelfOutput(\n",
       "            (dense): Linear(in_features=768, out_features=768, bias=True)\n",
       "            (LayerNorm): LayerNorm((768,), eps=1e-12, elementwise_affine=True)\n",
       "            (dropout): Dropout(p=0.1, inplace=False)\n",
       "          )\n",
       "        )\n",
       "        (intermediate): BertIntermediate(\n",
       "          (dense): Linear(in_features=768, out_features=3072, bias=True)\n",
       "          (intermediate_act_fn): GELUActivation()\n",
       "        )\n",
       "        (output): BertOutput(\n",
       "          (dense): Linear(in_features=3072, out_features=768, bias=True)\n",
       "          (LayerNorm): LayerNorm((768,), eps=1e-12, elementwise_affine=True)\n",
       "          (dropout): Dropout(p=0.1, inplace=False)\n",
       "        )\n",
       "      )\n",
       "      (11): BertLayer(\n",
       "        (attention): BertAttention(\n",
       "          (self): BertSelfAttention(\n",
       "            (query): Linear(in_features=768, out_features=768, bias=True)\n",
       "            (key): Linear(in_features=768, out_features=768, bias=True)\n",
       "            (value): Linear(in_features=768, out_features=768, bias=True)\n",
       "            (dropout): Dropout(p=0.1, inplace=False)\n",
       "          )\n",
       "          (output): BertSelfOutput(\n",
       "            (dense): Linear(in_features=768, out_features=768, bias=True)\n",
       "            (LayerNorm): LayerNorm((768,), eps=1e-12, elementwise_affine=True)\n",
       "            (dropout): Dropout(p=0.1, inplace=False)\n",
       "          )\n",
       "        )\n",
       "        (intermediate): BertIntermediate(\n",
       "          (dense): Linear(in_features=768, out_features=3072, bias=True)\n",
       "          (intermediate_act_fn): GELUActivation()\n",
       "        )\n",
       "        (output): BertOutput(\n",
       "          (dense): Linear(in_features=3072, out_features=768, bias=True)\n",
       "          (LayerNorm): LayerNorm((768,), eps=1e-12, elementwise_affine=True)\n",
       "          (dropout): Dropout(p=0.1, inplace=False)\n",
       "        )\n",
       "      )\n",
       "    )\n",
       "  )\n",
       "  (pooler): BertPooler(\n",
       "    (dense): Linear(in_features=768, out_features=768, bias=True)\n",
       "    (activation): Tanh()\n",
       "  )\n",
       ")"
      ]
     },
     "execution_count": 105,
     "metadata": {},
     "output_type": "execute_result"
    }
   ],
   "source": [
    "# Load pre-trained model (weights)\n",
    "model = BertModel.from_pretrained('bert-base-uncased',\n",
    "                                  output_hidden_states = True, # Whether the model returns all hidden-states.\n",
    "                                  )\n",
    "\n",
    "# Put the model in \"evaluation\" mode, meaning feed-forward operation.\n",
    "model.eval()"
   ]
  },
  {
   "cell_type": "code",
   "execution_count": null,
   "metadata": {},
   "outputs": [],
   "source": [
    "# Run the text through BERT, and collect all of the hidden states produced\n",
    "# from all 12 layers. \n",
    "with torch.no_grad():\n",
    "\n",
    "    spam_df_train['hidden_states'] = spam_df_train.apply(lambda x: model(x['tensor_token'],x['tensor_segment'])[2], axis=1)"
   ]
  },
  {
   "cell_type": "code",
   "execution_count": null,
   "metadata": {},
   "outputs": [],
   "source": [
    "# Run the text through BERT, and collect all of the hidden states produced\n",
    "# from all 12 layers. \n",
    "with torch.no_grad():\n",
    "\n",
    "    spam_df_test['hidden_states'] = spam_df_test.apply(lambda x: model(x['tensor_token'],x['tensor_segment'])[2], axis=1)"
   ]
  },
  {
   "cell_type": "code",
   "execution_count": null,
   "metadata": {},
   "outputs": [],
   "source": [
    "# Run the text through BERT, and collect all of the hidden states produced\n",
    "# from all 12 layers. \n",
    "with torch.no_grad():\n",
    "\n",
    "    checkmate_df['hidden_states'] = checkmate_df.apply(lambda x: model(x['tensor_token'],x['tensor_segment'])[2], axis=1)"
   ]
  },
  {
   "cell_type": "code",
   "execution_count": 122,
   "metadata": {},
   "outputs": [
    {
     "name": "stdout",
     "output_type": "stream",
     "text": [
      "torch.Size([41, 768])\n",
      "torch.Size([43, 768])\n",
      "torch.Size([10, 768])\n",
      "torch.Size([19, 768])\n",
      "torch.Size([22, 768])\n",
      "torch.Size([10, 768])\n",
      "torch.Size([21, 768])\n",
      "torch.Size([8, 768])\n",
      "torch.Size([17, 768])\n",
      "torch.Size([27, 768])\n"
     ]
    },
    {
     "data": {
      "text/plain": [
       "4391    None\n",
       "3506    None\n",
       "4506    None\n",
       "4711    None\n",
       "4302    None\n",
       "558     None\n",
       "1935    None\n",
       "3375    None\n",
       "4661    None\n",
       "1926    None\n",
       "Name: hidden_states, dtype: object"
      ]
     },
     "execution_count": 122,
     "metadata": {},
     "output_type": "execute_result"
    }
   ],
   "source": [
    "# Printing to visualise values\n",
    "# `hidden_states` has shape [13 x 1 x number of tokens x 768]\n",
    "# `token_vecs` is a tensor with shape [number of tokens x 768]\n",
    "# [# layers, # batches, # tokens, # features]\n",
    "spam_df_train['hidden_states'].head(10).apply(lambda x: print(x[-2][0].shape))"
   ]
  },
  {
   "cell_type": "code",
   "execution_count": 123,
   "metadata": {},
   "outputs": [],
   "source": [
    "# Get sentence embedding by taking the mean of feature tensor of all the tokens in the second last layer\n",
    "# x is the indexing the -2 layer (second last) and then [0] is for batch 0, left with tokens and feature vectors\n",
    "spam_df_train['sentence_embedding'] = spam_df_train['hidden_states'].apply(lambda x: torch.mean(x[-2][0], dim=0))\n",
    "spam_df_test['sentence_embedding'] = spam_df_test['hidden_states'].apply(lambda x: torch.mean(x[-2][0], dim=0))\n",
    "checkmate_df['sentence_embedding'] = checkmate_df['hidden_states'].apply(lambda x: torch.mean(x[-2][0], dim=0))"
   ]
  },
  {
   "cell_type": "code",
   "execution_count": 124,
   "metadata": {},
   "outputs": [],
   "source": [
    "# separate the sentence embeddings of non trivial and trivial messages\n",
    "spam_df_train_not_trivial = spam_df_train[spam_df_train['is_trivial'] == False]\n",
    "spam_df_train_trivial = spam_df_train[spam_df_train['is_trivial'] == True]"
   ]
  },
  {
   "cell_type": "code",
   "execution_count": 125,
   "metadata": {},
   "outputs": [],
   "source": [
    "# create tensors from the series spam_df_train['sentence_embedding]\n",
    "tensor_train_not_trivial = torch.stack([t for t in spam_df_train_not_trivial['sentence_embedding']])\n",
    "tensor_train_trivial = torch.stack([t for t in spam_df_train_trivial['sentence_embedding']])"
   ]
  },
  {
   "cell_type": "code",
   "execution_count": 126,
   "metadata": {},
   "outputs": [],
   "source": [
    "# create a representative tensor of size [1,768] for non-trivial and trivial\n",
    "rep_not_trivial = torch.mean(tensor_train_not_trivial, dim=0)\n",
    "rep_trivial = torch.mean(tensor_train_trivial, dim=0)"
   ]
  },
  {
   "cell_type": "code",
   "execution_count": 127,
   "metadata": {},
   "outputs": [],
   "source": [
    "def classify_trivial(v):\n",
    "    distance_from_not_trivial = cosine(rep_not_trivial, v)\n",
    "    distance_from_trivial = cosine(rep_trivial, v)\n",
    "    if distance_from_trivial > distance_from_not_trivial:\n",
    "        return False\n",
    "    else: \n",
    "        return True"
   ]
  },
  {
   "attachments": {},
   "cell_type": "markdown",
   "metadata": {},
   "source": [
    "### Evaluate\n",
    "Get results of using the cosine similarity method on both spam_df_test and checkmate_df"
   ]
  },
  {
   "cell_type": "code",
   "execution_count": 128,
   "metadata": {},
   "outputs": [],
   "source": [
    "spam_df_test['prediction'] = spam_df_test['sentence_embedding'].apply(lambda x: classify_trivial(x))\n",
    "checkmate_df['prediction'] = checkmate_df['sentence_embedding'].apply(lambda x: classify_trivial(x))"
   ]
  },
  {
   "attachments": {},
   "cell_type": "markdown",
   "metadata": {},
   "source": [
    "#### Results for spam_df_test"
   ]
  },
  {
   "cell_type": "code",
   "execution_count": 129,
   "metadata": {},
   "outputs": [
    {
     "name": "stdout",
     "output_type": "stream",
     "text": [
      "                                                   text  target  prediction\n",
      "5351  [CLS] Free video camera phones with Half Price...       0       False\n",
      "3766  [CLS] Night sweet, sleep well! I've just been ...       1        True\n",
      "326   [CLS] Hey i will be late ah... Meet you at 945...       1        True\n",
      "3111  [CLS] Good morning princess! Happy New Year! [...       1        True\n",
      "1780   [CLS] Who's there say hi to our drugdealer [SEP]       1        True\n",
      "...                                                 ...     ...         ...\n",
      "2787      [CLS] Well that must be a pain to catch [SEP]       1        True\n",
      "3579  [CLS] Ever green quote ever told by Jerry in c...       1        True\n",
      "4605             [CLS] Aah bless! How's your arm? [SEP]       1        True\n",
      "2205        [CLS] I'll reach in ard 20 mins ok... [SEP]       1        True\n",
      "702                  [CLS] Hey. You got any mail? [SEP]       1        True\n",
      "\n",
      "[4457 rows x 3 columns]\n"
     ]
    }
   ],
   "source": [
    "spam_predicted_vs_output = pd.concat([spam_df_test['text'], spam_df_test['is_trivial'], spam_df_test['prediction']], axis=1)\n",
    "# predicted_vs_output = predicted_vs_output.rename(columns={'is_trivial':'target', 'text':'prediction'})\n",
    "spam_predicted_vs_output.columns = ['text', 'target','prediction']\n",
    "\n",
    "print(spam_predicted_vs_output)"
   ]
  },
  {
   "cell_type": "code",
   "execution_count": 130,
   "metadata": {},
   "outputs": [],
   "source": [
    "# Calculate the recall of this methodology\n",
    "true_trivial = len(spam_predicted_vs_output[(spam_predicted_vs_output['target']==True) & (spam_predicted_vs_output['prediction']==True)])\n",
    "true_non_trivial = len(spam_predicted_vs_output[(spam_predicted_vs_output['target']==False) & (spam_predicted_vs_output['prediction']==False)])\n",
    "\n",
    "false_non_trivial = len(spam_predicted_vs_output[(spam_predicted_vs_output['target']==True) & (spam_predicted_vs_output['prediction']==False)])\n",
    "false_trivial = len(spam_predicted_vs_output[(spam_predicted_vs_output['target']==False) & (spam_predicted_vs_output['prediction']==True)])\n",
    "\n",
    "recall = true_non_trivial/(true_non_trivial+false_trivial)\n",
    "accuracy = (true_trivial+true_non_trivial)/(true_trivial+true_non_trivial+false_trivial+false_non_trivial)"
   ]
  },
  {
   "cell_type": "code",
   "execution_count": 131,
   "metadata": {},
   "outputs": [
    {
     "name": "stdout",
     "output_type": "stream",
     "text": [
      "Recall is: 95.87458745874588%\n",
      "Accuracy is: 97.41978909580436%\n",
      "true_trivial is: 3761\n",
      "true_non_trivial is: 581\n",
      "false_non_trivial is: 90\n",
      "false_trivial is: 25\n"
     ]
    }
   ],
   "source": [
    "print(f'Recall is: {recall*100}%')\n",
    "print(f'Accuracy is: {accuracy*100}%')\n",
    "\n",
    "print(f'true_trivial is: {true_trivial}')\n",
    "print(f'true_non_trivial is: {true_non_trivial}')\n",
    "print(f'false_non_trivial is: {false_non_trivial}')\n",
    "print(f'false_trivial is: {false_trivial}')"
   ]
  },
  {
   "attachments": {},
   "cell_type": "markdown",
   "metadata": {},
   "source": [
    "#### Results for checkmate_df"
   ]
  },
  {
   "cell_type": "code",
   "execution_count": 132,
   "metadata": {},
   "outputs": [
    {
     "name": "stdout",
     "output_type": "stream",
     "text": [
      "                                                 text  target  prediction  \\\n",
      "0                                     [CLS] nan [SEP]   False        True   \n",
      "1   [CLS] https://www.mas.gov.sg/news/media-releas...   False       False   \n",
      "2   [CLS] TN 95546718362782 is out for del. Allow ...   False       False   \n",
      "3   [CLS] 🚩🚩🚩 *\"You flag, we check\"* 🔍🔍🔍\\n\\nNot su...   False       False   \n",
      "4   [CLS] https://form.gov.sg/63f594b42413ea001183...   False       False   \n",
      "..                                                ...     ...         ...   \n",
      "81  [CLS] [SHIN MIN CONTEST] Happycall Jumbo 双面锅等你...   False       False   \n",
      "82  [CLS] Hello, sorry to bother you, I'm Nico fro...   False       False   \n",
      "83  [CLS] Hello, my name is Sarah, from CME Group....   False       False   \n",
      "84  [CLS] LTA: Notice As no valid E-tag detected i...   False       False   \n",
      "85  [CLS] Excuse me, this is Stella, have you arra...   False        True   \n",
      "\n",
      "             category  \n",
      "0   Info/News/Opinion  \n",
      "1   Info/News/Opinion  \n",
      "2          Legitimate  \n",
      "3   Info/News/Opinion  \n",
      "4          Legitimate  \n",
      "..                ...  \n",
      "81             Unsure  \n",
      "82               Scam  \n",
      "83               Scam  \n",
      "84               Scam  \n",
      "85             Unsure  \n",
      "\n",
      "[86 rows x 4 columns]\n"
     ]
    }
   ],
   "source": [
    "checkmate_predicted_vs_output = pd.concat([checkmate_df['text'], checkmate_df['is_trivial'], checkmate_df['prediction'], checkmate_df['taggedCategory']], axis=1)\n",
    "# predicted_vs_output = predicted_vs_output.rename(columns={'is_trivial':'target', 'text':'prediction'})\n",
    "checkmate_predicted_vs_output.columns = ['text', 'target','prediction','category']\n",
    "\n",
    "print(checkmate_predicted_vs_output)"
   ]
  },
  {
   "cell_type": "code",
   "execution_count": 133,
   "metadata": {},
   "outputs": [],
   "source": [
    "# Calculate the recall of this methodology\n",
    "true_trivial = (checkmate_predicted_vs_output[(checkmate_predicted_vs_output['target']==True) & (checkmate_predicted_vs_output['prediction']==True)])\n",
    "true_non_trivial = (checkmate_predicted_vs_output[(checkmate_predicted_vs_output['target']==False) & (checkmate_predicted_vs_output['prediction']==False)])\n",
    "\n",
    "false_non_trivial = (checkmate_predicted_vs_output[(checkmate_predicted_vs_output['target']==True) & (checkmate_predicted_vs_output['prediction']==False)])\n",
    "false_trivial = (checkmate_predicted_vs_output[(checkmate_predicted_vs_output['target']==False) & (checkmate_predicted_vs_output['prediction']==True)])\n",
    "\n",
    "recall = len(true_non_trivial)/(len(true_non_trivial)+len(false_trivial))\n",
    "accuracy = (len(true_trivial)+len(true_non_trivial))/(len(true_trivial)+len(true_non_trivial)+len(false_trivial)+len(false_non_trivial))"
   ]
  },
  {
   "cell_type": "code",
   "execution_count": 134,
   "metadata": {},
   "outputs": [
    {
     "name": "stdout",
     "output_type": "stream",
     "text": [
      "Recall is: 80.95238095238095%\n",
      "Accuracy is: 84.88372093023256%\n",
      "true_trivial is: 22\n",
      "true_non_trivial is: 51\n",
      "false_non_trivial is: 1\n",
      "false_trivial is: 12\n"
     ]
    }
   ],
   "source": [
    "print(f'Recall is: {recall*100}%')\n",
    "print(f'Accuracy is: {accuracy*100}%')\n",
    "\n",
    "print(f'true_trivial is: {len(true_trivial)}')\n",
    "print(f'true_non_trivial is: {len(true_non_trivial)}')\n",
    "print(f'false_non_trivial is: {len(false_non_trivial)}')\n",
    "print(f'false_trivial is: {len(false_trivial)}')"
   ]
  },
  {
   "cell_type": "code",
   "execution_count": 135,
   "metadata": {},
   "outputs": [
    {
     "name": "stdout",
     "output_type": "stream",
     "text": [
      "                                                 text  target  prediction  \\\n",
      "72  [CLS] If you receive a scam message like this ...    True       False   \n",
      "\n",
      "   category  \n",
      "72  Trivial  \n"
     ]
    }
   ],
   "source": [
    "print(false_non_trivial)"
   ]
  },
  {
   "cell_type": "code",
   "execution_count": 136,
   "metadata": {},
   "outputs": [
    {
     "name": "stdout",
     "output_type": "stream",
     "text": [
      "                                                 text  target  prediction  \\\n",
      "0                                     [CLS] nan [SEP]   False        True   \n",
      "8                                     [CLS] nan [SEP]   False        True   \n",
      "12  [CLS] Hey Jolyn! We haven't seen you in the st...   False        True   \n",
      "19  [CLS] Hi, last year one of my colleague met yo...   False        True   \n",
      "22  [CLS] Hi! I pray this msg find you in good hea...   False        True   \n",
      "33  [CLS] Ionizing radiation can affect the atoms ...   False        True   \n",
      "37   [CLS] I can withdraw my CPF only at age 65 [SEP]   False        True   \n",
      "38                 [CLS] 9/11 attack was a scam [SEP]   False        True   \n",
      "41  [CLS] Hello \\nsorry to bother you, is this Kev...   False        True   \n",
      "48                                    [CLS] nan [SEP]   False        True   \n",
      "51  [CLS] Hi, I'm. Felicia.  from *SG, Employment ...   False        True   \n",
      "85  [CLS] Excuse me, this is Stella, have you arra...   False        True   \n",
      "\n",
      "             category  \n",
      "0   Info/News/Opinion  \n",
      "8          Legitimate  \n",
      "12             Unsure  \n",
      "19             Unsure  \n",
      "22             Unsure  \n",
      "33  Info/News/Opinion  \n",
      "37  Info/News/Opinion  \n",
      "38  Info/News/Opinion  \n",
      "41             Unsure  \n",
      "48               Scam  \n",
      "51               Scam  \n",
      "85             Unsure  \n"
     ]
    }
   ],
   "source": [
    "print(false_trivial)"
   ]
  },
  {
   "attachments": {},
   "cell_type": "markdown",
   "metadata": {},
   "source": [
    "### Learnings/Room for improvement"
   ]
  },
  {
   "attachments": {},
   "cell_type": "markdown",
   "metadata": {},
   "source": [
    "Out of the 15 wrongly classified messages:\n",
    "2 - nan values\n",
    "    - One is an image\n",
    "    - One is an empty nan messsage\n",
    "\n",
    "Solution: Automatically classify nan of images as non-trivial\n",
    "\n",
    "\n",
    "Types of these messages\n",
    "6 - unsure values\n",
    "4 - scam\n",
    "4 - info \n",
    "1 - legitimate"
   ]
  },
  {
   "attachments": {},
   "cell_type": "markdown",
   "metadata": {},
   "source": [
    "Too strict criteria of deciding non-trivial - most of the non-trivial predicitions are correct. Need to be more likely to predict messages as non-trivial instead\n",
    "However, a higher percentage of the trivial predicitions were wrong.\n",
    "Based on the requirements of the model, it is better to be strict on deciding criteria on whether something is deemed trivial"
   ]
  },
  {
   "attachments": {},
   "cell_type": "markdown",
   "metadata": {},
   "source": [
    "Next steps:"
   ]
  },
  {
   "attachments": {},
   "cell_type": "markdown",
   "metadata": {},
   "source": [
    "- Incorporate the checkmate data into the training dataset and see if it shifts the representative vector significantly\n",
    "- Test different methods of determining sentence embedding\n",
    "- Classificiation model layer on top of the sentence embedding\n"
   ]
  },
  {
   "attachments": {},
   "cell_type": "markdown",
   "metadata": {},
   "source": [
    "## Representative vector using checkmate data"
   ]
  },
  {
   "cell_type": "code",
   "execution_count": 137,
   "metadata": {},
   "outputs": [],
   "source": [
    "# Use both spam and checkmate data to create representative embedding\n",
    "rep_df = pd.concat([spam_df_train, checkmate_df], axis = 0)"
   ]
  },
  {
   "cell_type": "code",
   "execution_count": 138,
   "metadata": {},
   "outputs": [
    {
     "name": "stdout",
     "output_type": "stream",
     "text": [
      "Ratio of spam_df_train to checkmate_df: 7.719928186714542%\n"
     ]
    }
   ],
   "source": [
    "print(f'Ratio of spam_df_train to checkmate_df: {len(checkmate_df)/len(spam_df_train)*100}%')"
   ]
  },
  {
   "cell_type": "code",
   "execution_count": 199,
   "metadata": {},
   "outputs": [],
   "source": [
    "# separate the sentence embeddings of non trivial and trivial messages\n",
    "rep_df_train_not_trivial = rep_df[rep_df['is_trivial'] == False]\n",
    "rep_df_train_trivial = rep_df[rep_df['is_trivial'] == True]"
   ]
  },
  {
   "cell_type": "code",
   "execution_count": 140,
   "metadata": {},
   "outputs": [],
   "source": [
    "# create tensors from the series spam_df_train['sentence_embedding]\n",
    "tensor_train_not_trivial_2 = torch.stack([t for t in rep_df_train_not_trivial['sentence_embedding']])\n",
    "tensor_train_trivial_2 = torch.stack([t for t in rep_df_train_trivial['sentence_embedding']])"
   ]
  },
  {
   "cell_type": "code",
   "execution_count": 141,
   "metadata": {},
   "outputs": [],
   "source": [
    "# create a representative tensor of size [1,768] for non-trivial and trivial\n",
    "rep_not_trivial_2 = torch.mean(tensor_train_not_trivial_2, dim=0)\n",
    "rep_trivial_2 = torch.mean(tensor_train_trivial_2, dim=0)"
   ]
  },
  {
   "cell_type": "code",
   "execution_count": 142,
   "metadata": {},
   "outputs": [],
   "source": [
    "# Update classify trivial function using new representative embeddings\n",
    "def classify_trivial(v):\n",
    "    distance_from_not_trivial = cosine(rep_not_trivial_2, v)\n",
    "    distance_from_trivial = cosine(rep_trivial_2, v)\n",
    "    if distance_from_trivial > distance_from_not_trivial:\n",
    "        return False\n",
    "    else: \n",
    "        return True"
   ]
  },
  {
   "cell_type": "markdown",
   "metadata": {},
   "source": [
    "### Evaluate\n",
    "Get results of using the cosine similarity method on both spam_df_test and checkmate_df"
   ]
  },
  {
   "cell_type": "code",
   "execution_count": 143,
   "metadata": {},
   "outputs": [],
   "source": [
    "spam_df_test['prediction'] = spam_df_test['sentence_embedding'].apply(lambda x: classify_trivial(x))\n",
    "checkmate_df['prediction'] = checkmate_df['sentence_embedding'].apply(lambda x: classify_trivial(x))"
   ]
  },
  {
   "cell_type": "markdown",
   "metadata": {},
   "source": [
    "#### Results for spam_df_test"
   ]
  },
  {
   "cell_type": "code",
   "execution_count": 144,
   "metadata": {},
   "outputs": [
    {
     "name": "stdout",
     "output_type": "stream",
     "text": [
      "                                                   text  target  prediction\n",
      "5351  [CLS] Free video camera phones with Half Price...       0       False\n",
      "3766  [CLS] Night sweet, sleep well! I've just been ...       1        True\n",
      "326   [CLS] Hey i will be late ah... Meet you at 945...       1        True\n",
      "3111  [CLS] Good morning princess! Happy New Year! [...       1        True\n",
      "1780   [CLS] Who's there say hi to our drugdealer [SEP]       1        True\n",
      "...                                                 ...     ...         ...\n",
      "2787      [CLS] Well that must be a pain to catch [SEP]       1        True\n",
      "3579  [CLS] Ever green quote ever told by Jerry in c...       1        True\n",
      "4605             [CLS] Aah bless! How's your arm? [SEP]       1        True\n",
      "2205        [CLS] I'll reach in ard 20 mins ok... [SEP]       1        True\n",
      "702                  [CLS] Hey. You got any mail? [SEP]       1        True\n",
      "\n",
      "[4457 rows x 3 columns]\n"
     ]
    }
   ],
   "source": [
    "spam_predicted_vs_output = pd.concat([spam_df_test['text'], spam_df_test['is_trivial'], spam_df_test['prediction']], axis=1)\n",
    "# predicted_vs_output = predicted_vs_output.rename(columns={'is_trivial':'target', 'text':'prediction'})\n",
    "spam_predicted_vs_output.columns = ['text', 'target','prediction']\n",
    "\n",
    "print(spam_predicted_vs_output)"
   ]
  },
  {
   "cell_type": "code",
   "execution_count": 145,
   "metadata": {},
   "outputs": [],
   "source": [
    "# Calculate the recall of this methodology\n",
    "true_trivial = len(spam_predicted_vs_output[(spam_predicted_vs_output['target']==True) & (spam_predicted_vs_output['prediction']==True)])\n",
    "true_non_trivial = len(spam_predicted_vs_output[(spam_predicted_vs_output['target']==False) & (spam_predicted_vs_output['prediction']==False)])\n",
    "\n",
    "false_non_trivial = len(spam_predicted_vs_output[(spam_predicted_vs_output['target']==True) & (spam_predicted_vs_output['prediction']==False)])\n",
    "false_trivial = len(spam_predicted_vs_output[(spam_predicted_vs_output['target']==False) & (spam_predicted_vs_output['prediction']==True)])\n",
    "\n",
    "recall = true_non_trivial/(true_non_trivial+false_trivial)\n",
    "accuracy = (true_trivial+true_non_trivial)/(true_trivial+true_non_trivial+false_trivial+false_non_trivial)"
   ]
  },
  {
   "cell_type": "code",
   "execution_count": 146,
   "metadata": {},
   "outputs": [
    {
     "name": "stdout",
     "output_type": "stream",
     "text": [
      "Recall is: 96.20462046204621%\n",
      "Accuracy is: 96.90374691496523%\n",
      "true_trivial is: 3736\n",
      "true_non_trivial is: 583\n",
      "false_non_trivial is: 115\n",
      "false_trivial is: 23\n"
     ]
    }
   ],
   "source": [
    "print(f'Recall is: {recall*100}%')\n",
    "print(f'Accuracy is: {accuracy*100}%')\n",
    "\n",
    "print(f'true_trivial is: {true_trivial}')\n",
    "print(f'true_non_trivial is: {true_non_trivial}')\n",
    "print(f'false_non_trivial is: {false_non_trivial}')\n",
    "print(f'false_trivial is: {false_trivial}')"
   ]
  },
  {
   "cell_type": "markdown",
   "metadata": {},
   "source": [
    "#### Results for checkmate_df"
   ]
  },
  {
   "cell_type": "code",
   "execution_count": 147,
   "metadata": {},
   "outputs": [
    {
     "name": "stdout",
     "output_type": "stream",
     "text": [
      "                                                 text  target  prediction  \\\n",
      "0                                     [CLS] nan [SEP]   False        True   \n",
      "1   [CLS] https://www.mas.gov.sg/news/media-releas...   False       False   \n",
      "2   [CLS] TN 95546718362782 is out for del. Allow ...   False       False   \n",
      "3   [CLS] 🚩🚩🚩 *\"You flag, we check\"* 🔍🔍🔍\\n\\nNot su...   False       False   \n",
      "4   [CLS] https://form.gov.sg/63f594b42413ea001183...   False       False   \n",
      "..                                                ...     ...         ...   \n",
      "81  [CLS] [SHIN MIN CONTEST] Happycall Jumbo 双面锅等你...   False       False   \n",
      "82  [CLS] Hello, sorry to bother you, I'm Nico fro...   False       False   \n",
      "83  [CLS] Hello, my name is Sarah, from CME Group....   False       False   \n",
      "84  [CLS] LTA: Notice As no valid E-tag detected i...   False       False   \n",
      "85  [CLS] Excuse me, this is Stella, have you arra...   False        True   \n",
      "\n",
      "             category  \n",
      "0   Info/News/Opinion  \n",
      "1   Info/News/Opinion  \n",
      "2          Legitimate  \n",
      "3   Info/News/Opinion  \n",
      "4          Legitimate  \n",
      "..                ...  \n",
      "81             Unsure  \n",
      "82               Scam  \n",
      "83               Scam  \n",
      "84               Scam  \n",
      "85             Unsure  \n",
      "\n",
      "[86 rows x 4 columns]\n"
     ]
    }
   ],
   "source": [
    "checkmate_predicted_vs_output = pd.concat([checkmate_df['text'], checkmate_df['is_trivial'], checkmate_df['prediction'], checkmate_df['taggedCategory']], axis=1)\n",
    "# predicted_vs_output = predicted_vs_output.rename(columns={'is_trivial':'target', 'text':'prediction'})\n",
    "checkmate_predicted_vs_output.columns = ['text', 'target','prediction','category']\n",
    "\n",
    "print(checkmate_predicted_vs_output)"
   ]
  },
  {
   "cell_type": "code",
   "execution_count": 148,
   "metadata": {},
   "outputs": [],
   "source": [
    "# Calculate the recall of this methodology\n",
    "true_trivial = (checkmate_predicted_vs_output[(checkmate_predicted_vs_output['target']==True) & (checkmate_predicted_vs_output['prediction']==True)])\n",
    "true_non_trivial = (checkmate_predicted_vs_output[(checkmate_predicted_vs_output['target']==False) & (checkmate_predicted_vs_output['prediction']==False)])\n",
    "\n",
    "false_non_trivial = (checkmate_predicted_vs_output[(checkmate_predicted_vs_output['target']==True) & (checkmate_predicted_vs_output['prediction']==False)])\n",
    "false_trivial = (checkmate_predicted_vs_output[(checkmate_predicted_vs_output['target']==False) & (checkmate_predicted_vs_output['prediction']==True)])\n",
    "\n",
    "recall = len(true_non_trivial)/(len(true_non_trivial)+len(false_trivial))\n",
    "accuracy = (len(true_trivial)+len(true_non_trivial))/(len(true_trivial)+len(true_non_trivial)+len(false_trivial)+len(false_non_trivial))"
   ]
  },
  {
   "cell_type": "code",
   "execution_count": 149,
   "metadata": {},
   "outputs": [
    {
     "name": "stdout",
     "output_type": "stream",
     "text": [
      "Recall is: 87.3015873015873%\n",
      "Accuracy is: 87.20930232558139%\n",
      "true_trivial is: 20\n",
      "true_non_trivial is: 55\n",
      "false_non_trivial is: 3\n",
      "false_trivial is: 8\n"
     ]
    }
   ],
   "source": [
    "print(f'Recall is: {recall*100}%')\n",
    "print(f'Accuracy is: {accuracy*100}%')\n",
    "\n",
    "print(f'true_trivial is: {len(true_trivial)}')\n",
    "print(f'true_non_trivial is: {len(true_non_trivial)}')\n",
    "print(f'false_non_trivial is: {len(false_non_trivial)}')\n",
    "print(f'false_trivial is: {len(false_trivial)}')"
   ]
  },
  {
   "cell_type": "code",
   "execution_count": 150,
   "metadata": {},
   "outputs": [
    {
     "name": "stdout",
     "output_type": "stream",
     "text": [
      "                                                 text  target  prediction  \\\n",
      "64  [CLS] Noted. Sorry about this. I misread your ...    True       False   \n",
      "72  [CLS] If you receive a scam message like this ...    True       False   \n",
      "76  [CLS] FYI, please. Please kindly adhere to the...    True       False   \n",
      "\n",
      "   category  \n",
      "64  Trivial  \n",
      "72  Trivial  \n",
      "76  Trivial  \n"
     ]
    }
   ],
   "source": [
    "print(false_non_trivial)"
   ]
  },
  {
   "cell_type": "code",
   "execution_count": 151,
   "metadata": {},
   "outputs": [
    {
     "name": "stdout",
     "output_type": "stream",
     "text": [
      "                                                 text  target  prediction  \\\n",
      "0                                     [CLS] nan [SEP]   False        True   \n",
      "8                                     [CLS] nan [SEP]   False        True   \n",
      "12  [CLS] Hey Jolyn! We haven't seen you in the st...   False        True   \n",
      "37   [CLS] I can withdraw my CPF only at age 65 [SEP]   False        True   \n",
      "38                 [CLS] 9/11 attack was a scam [SEP]   False        True   \n",
      "41  [CLS] Hello \\nsorry to bother you, is this Kev...   False        True   \n",
      "48                                    [CLS] nan [SEP]   False        True   \n",
      "85  [CLS] Excuse me, this is Stella, have you arra...   False        True   \n",
      "\n",
      "             category  \n",
      "0   Info/News/Opinion  \n",
      "8          Legitimate  \n",
      "12             Unsure  \n",
      "37  Info/News/Opinion  \n",
      "38  Info/News/Opinion  \n",
      "41             Unsure  \n",
      "48               Scam  \n",
      "85             Unsure  \n"
     ]
    }
   ],
   "source": [
    "print(false_trivial)"
   ]
  },
  {
   "attachments": {},
   "cell_type": "markdown",
   "metadata": {},
   "source": [
    "By incorporating checkmate data in to the representative data, the incorrectly classified data for non trivial was reduced from 15 to 8.\n",
    "Most of the improvements were in the area of scam (4->1) and unsure (6->2).ll and accuracy of the spam dataset did not reduce significantly."
   ]
  },
  {
   "attachments": {},
   "cell_type": "markdown",
   "metadata": {},
   "source": [
    "## Alternative sentence embedding"
   ]
  },
  {
   "cell_type": "code",
   "execution_count": 162,
   "metadata": {},
   "outputs": [],
   "source": [
    "# Output of the model is a modeloutput object\n",
    "# sample_test_1.hidden_states == same as sample_test_1[2] which is currently stored in the hidden_states column\n",
    "# other index of the output object is not particularly useful in this calculation\n",
    "with torch.no_grad():\n",
    "\n",
    "    checkmate_df['output'] = checkmate_df.apply(lambda x: model(x['tensor_token'],x['tensor_segment']), axis=1)"
   ]
  },
  {
   "cell_type": "code",
   "execution_count": 195,
   "metadata": {},
   "outputs": [
    {
     "name": "stdout",
     "output_type": "stream",
     "text": [
      "<class 'transformers.modeling_outputs.BaseModelOutputWithPoolingAndCrossAttentions'>\n",
      "<class 'torch.Tensor'>\n",
      "<class 'torch.Tensor'>\n",
      "<class 'tuple'>\n",
      "<class 'tuple'>\n",
      "13\n",
      "1\n",
      "42\n",
      "768\n"
     ]
    },
    {
     "data": {
      "text/plain": [
       "(tensor([[[ 0.1686, -0.2858, -0.3261,  ..., -0.0276,  0.0383,  0.1640],\n",
       "         [ 0.2239, -0.1747, -0.4094,  ...,  0.2746,  0.3853,  0.0379],\n",
       "         [-0.8983, -0.8071, -0.7236,  ...,  1.0387,  0.0843, -0.2246],\n",
       "         [-0.3461, -0.1936, -0.1552,  ..., -0.1593,  0.1526, -0.1786],\n",
       "         [-0.3643, -0.1617,  0.0902,  ..., -0.1785,  0.1282, -0.0451]]]), tensor([[[ 2.3898e-01, -1.2608e-05, -1.1209e-01,  ..., -1.2450e-01,\n",
       "           1.6080e-02, -2.6449e-03],\n",
       "         [ 1.9596e-01, -2.5544e-02, -8.5134e-02,  ..., -1.3548e-02,\n",
       "           1.8778e-01, -4.9398e-02],\n",
       "         [-3.8239e-01, -7.4365e-01, -7.3680e-01,  ...,  4.6889e-01,\n",
       "          -1.6182e-01, -3.4292e-01],\n",
       "         [-2.4948e-01,  8.7029e-02, -1.4371e-01,  ..., -1.9690e-01,\n",
       "           4.5584e-01, -3.0626e-02],\n",
       "         [-2.5638e-01,  1.1280e-01, -3.8011e-02,  ..., -2.3235e-01,\n",
       "           4.1467e-01,  1.4784e-01]]]), tensor([[[ 0.0810, -0.1788, -0.1567,  ...,  0.0202,  0.0255,  0.0910],\n",
       "         [ 0.0500, -0.1459, -0.1104,  ...,  0.2164,  0.1223,  0.0956],\n",
       "         [-0.3497, -0.6700, -0.2873,  ...,  0.4315, -0.1502, -0.3578],\n",
       "         [-0.3641, -0.0241,  0.0760,  ..., -0.0100,  0.4504,  0.0012],\n",
       "         [-0.3607, -0.0120,  0.1410,  ..., -0.0376,  0.4134,  0.0965]]]), tensor([[[ 5.6276e-02, -2.4642e-01,  1.7018e-03,  ...,  2.6145e-01,\n",
       "           4.5014e-02,  2.7805e-01],\n",
       "         [ 1.1919e-01, -1.9316e-01,  1.7432e-01,  ...,  4.3573e-01,\n",
       "           2.3911e-01,  1.0030e-01],\n",
       "         [ 7.7106e-02, -4.9696e-01, -1.1147e-01,  ...,  6.4656e-01,\n",
       "          -8.3867e-01, -3.4370e-01],\n",
       "         [-9.6361e-02, -8.0347e-02,  1.1587e-01,  ...,  6.4170e-02,\n",
       "           8.3304e-02,  6.6990e-04],\n",
       "         [-9.9639e-02, -8.2216e-02,  1.2421e-01,  ...,  6.2326e-02,\n",
       "           7.5181e-02,  1.9495e-02]]]), tensor([[[ 0.0679, -0.3543, -0.5752,  ...,  0.3100, -0.0986,  0.8069],\n",
       "         [ 0.0317, -0.4386, -0.3787,  ...,  0.3859,  0.1223,  0.4035],\n",
       "         [ 0.0617, -0.8249, -0.3016,  ...,  0.7862, -1.2633, -0.3004],\n",
       "         [-0.0430, -0.0394,  0.0092,  ...,  0.0118,  0.0477, -0.0149],\n",
       "         [-0.0438, -0.0404,  0.0105,  ...,  0.0114,  0.0469, -0.0111]]]), tensor([[[-0.0872,  0.0511, -0.5879,  ...,  0.0241,  0.0885,  0.8515],\n",
       "         [-0.1645, -0.0782, -0.2559,  ...,  0.2101,  0.1523,  0.3833],\n",
       "         [ 0.1065, -0.9454, -0.5252,  ...,  0.2956, -1.2013, -0.3985],\n",
       "         [-0.0220, -0.0260,  0.0103,  ...,  0.0277,  0.0049, -0.0348],\n",
       "         [-0.0224, -0.0266,  0.0108,  ...,  0.0273,  0.0049, -0.0337]]]), tensor([[[-0.0210, -0.0035, -0.5609,  ..., -0.3796,  0.2877,  0.8215],\n",
       "         [-0.2084, -0.1965, -0.2890,  ..., -0.0957,  0.4028,  0.3045],\n",
       "         [ 0.2844, -0.5853, -0.4641,  ..., -0.3409, -1.1803, -0.4911],\n",
       "         [ 0.0060, -0.0259, -0.0133,  ...,  0.0111, -0.0207, -0.0333],\n",
       "         [ 0.0057, -0.0266, -0.0134,  ...,  0.0108, -0.0206, -0.0329]]]), tensor([[[-0.3373, -0.0281, -1.3046,  ..., -0.0168, -0.1726,  1.1457],\n",
       "         [-0.3256, -0.0381, -1.0504,  ..., -0.0667,  0.2162,  0.5829],\n",
       "         [ 0.1375, -1.1727, -1.2561,  ...,  0.0525, -0.6844, -0.3863],\n",
       "         [-0.0128, -0.0448, -0.0136,  ..., -0.0079,  0.0123, -0.0537],\n",
       "         [-0.0138, -0.0459, -0.0135,  ..., -0.0080,  0.0128, -0.0535]]]), tensor([[[-0.7342, -0.2411, -1.1282,  ..., -0.2254, -0.1202,  0.9245],\n",
       "         [-0.9226, -0.1065, -1.0815,  ..., -0.4415, -0.0382,  0.4295],\n",
       "         [-0.2798, -0.7262, -1.0491,  ..., -0.3017, -0.8431, -0.4279],\n",
       "         [-0.0045, -0.0338,  0.0088,  ..., -0.0332, -0.0379, -0.0656],\n",
       "         [-0.0061, -0.0357,  0.0084,  ..., -0.0334, -0.0372, -0.0668]]]), tensor([[[-9.1855e-01, -1.0694e-02, -1.0834e+00,  ..., -2.4449e-01,\n",
       "           3.9501e-02,  6.6514e-01],\n",
       "         [-1.1989e+00, -6.2872e-02, -1.0383e+00,  ..., -2.4684e-01,\n",
       "           2.7368e-01,  2.8016e-01],\n",
       "         [-3.5122e-01, -8.2011e-01, -1.0918e+00,  ..., -1.0457e-01,\n",
       "          -4.3582e-01, -6.8162e-01],\n",
       "         [-3.9297e-02,  1.5885e-02,  6.3506e-04,  ..., -5.8475e-02,\n",
       "          -7.9219e-02,  3.9000e-03],\n",
       "         [-4.2051e-02,  1.0917e-02,  1.3310e-03,  ..., -5.8797e-02,\n",
       "          -7.8606e-02,  1.5875e-03]]]), tensor([[[-0.9503, -0.1349, -0.7220,  ..., -0.1628,  0.0074,  0.5035],\n",
       "         [-1.0376, -0.2363, -0.6557,  ..., -0.1337,  0.2575,  0.2446],\n",
       "         [-0.6218, -1.0980, -0.6689,  ...,  0.2135, -0.4654, -0.5203],\n",
       "         [-0.0233,  0.0139, -0.0990,  ...,  0.0613, -0.0626, -0.0265],\n",
       "         [-0.0259,  0.0144, -0.0996,  ...,  0.0623, -0.0642, -0.0284]]]), tensor([[[-6.2073e-01, -3.7447e-01, -3.6787e-01,  ..., -3.0179e-02,\n",
       "          -1.2706e-02,  4.1218e-01],\n",
       "         [-6.5586e-01, -5.7553e-01, -2.2168e-01,  ..., -8.0192e-02,\n",
       "           3.7153e-02,  4.6338e-02],\n",
       "         [-3.3589e-01, -1.2185e+00, -3.0738e-01,  ...,  6.9600e-01,\n",
       "           1.8876e-02, -4.9086e-01],\n",
       "         [ 2.5959e-02,  3.3306e-04, -2.5349e-02,  ...,  7.6051e-03,\n",
       "          -3.1746e-02,  3.1501e-03],\n",
       "         [ 2.4971e-02, -2.9672e-04, -2.5470e-02,  ...,  7.8411e-03,\n",
       "          -3.2035e-02,  2.1638e-03]]]), tensor([[[-0.0249,  0.0674,  0.0592,  ..., -0.0761,  0.0199, -0.0266],\n",
       "         [-0.0304,  0.0137,  0.0909,  ..., -0.1019,  0.0724, -0.0457],\n",
       "         [-0.0619, -0.7813,  0.0104,  ...,  0.6819,  0.3267, -0.5414],\n",
       "         [ 0.8892,  0.1420, -0.1561,  ..., -0.2550, -0.8464, -0.3674],\n",
       "         [ 0.8830,  0.1395, -0.1530,  ..., -0.2550, -0.8485, -0.3687]]]))"
      ]
     },
     "execution_count": 195,
     "metadata": {},
     "output_type": "execute_result"
    }
   ],
   "source": [
    "# print(checkmate_df['output'])\n",
    "test = checkmate_df['output']\n",
    "print(type(test[0]))\n",
    "sample_test_1 = test[0]\n",
    "\n",
    "print(type(sample_test_1[0]))\n",
    "print(type(sample_test_1[1]))\n",
    "print(type(sample_test_1[2]))\n",
    "\n",
    "hidden_state_of_1 = sample_test_1[2]\n",
    "print(type(hidden_state))\n",
    "print(len(hidden_state)) # 13 layers\n",
    "print(len(hidden_state[0])) # 1 batch\n",
    "print(len(hidden_state[0][0])) # Number of tokens in sentence\n",
    "print(len(hidden_state[0][0][0])) # 768 features"
   ]
  },
  {
   "attachments": {},
   "cell_type": "markdown",
   "metadata": {},
   "source": [
    "### Sentence Embedding = Sum of Last 4 Layers "
   ]
  },
  {
   "cell_type": "code",
   "execution_count": 196,
   "metadata": {},
   "outputs": [
    {
     "name": "stdout",
     "output_type": "stream",
     "text": [
      "<class 'tuple'>\n",
      "4\n",
      "torch.Size([4, 1, 5, 768])\n",
      "torch.Size([768])\n"
     ]
    }
   ],
   "source": [
    "print(type(hidden_state_of_1[-4:]))\n",
    "print(len(hidden_state_of_1[-4:]))\n",
    "\n",
    "# Stack the tuple of tensors for the last 4 layers into one tensor\n",
    "# Find the sum of all the tensors\n",
    "tensor_l4l = torch.stack(hidden_state_of_1[-4:])\n",
    "print(tensor_l4l.shape)\n",
    "sum_l4l = torch.mean(tensor_l4l, dim=(0,1,2))\n",
    "print(sum_l4l.shape)"
   ]
  },
  {
   "cell_type": "code",
   "execution_count": 239,
   "metadata": {},
   "outputs": [],
   "source": [
    "# Get sentence embedding by taking the mean of feature tensor of all the tokens in the second last layer\n",
    "# x is the indexing the -2 layer (second last) and then [0] is for batch 0, left with tokens and feature vectors\n",
    "spam_df_train['sentence_embedding2'] = spam_df_train['hidden_states'].apply(lambda x: torch.sum(x[-4:][0], dim=(0,1)))\n",
    "spam_df_test['sentence_embedding2'] = spam_df_test['hidden_states'].apply(lambda x: torch.sum(x[-4:][0], dim=(0,1)))\n",
    "checkmate_df['sentence_embedding2'] = checkmate_df['hidden_states'].apply(lambda x: torch.sum(x[-4:][0], dim=(0,1)))"
   ]
  },
  {
   "cell_type": "code",
   "execution_count": 240,
   "metadata": {},
   "outputs": [],
   "source": [
    "# t = spam_df_train['sentence_embedding2']\n",
    "# print(t)\n",
    "# print(t[4391].shape)"
   ]
  },
  {
   "cell_type": "code",
   "execution_count": 241,
   "metadata": {},
   "outputs": [],
   "source": [
    "# Use both spam and checkmate data to create representative embedding\n",
    "rep_df = pd.concat([spam_df_train, checkmate_df], axis = 0)"
   ]
  },
  {
   "cell_type": "code",
   "execution_count": 242,
   "metadata": {},
   "outputs": [],
   "source": [
    "# separate the sentence embeddings of non trivial and trivial messages\n",
    "rep_df_train_not_trivial = rep_df[rep_df['is_trivial'] == False]\n",
    "rep_df_train_trivial = rep_df[rep_df['is_trivial'] == True]"
   ]
  },
  {
   "cell_type": "code",
   "execution_count": 243,
   "metadata": {},
   "outputs": [],
   "source": [
    "# create tensors from the series spam_df_train['sentence_embedding]\n",
    "tensor_train_not_trivial_3 = torch.stack([t for t in rep_df_train_not_trivial['sentence_embedding2']])\n",
    "tensor_train_trivial_3 = torch.stack([t for t in rep_df_train_trivial['sentence_embedding2']])"
   ]
  },
  {
   "cell_type": "code",
   "execution_count": 244,
   "metadata": {},
   "outputs": [],
   "source": [
    "# create a representative tensor of size [1,768] for non-trivial and trivial\n",
    "rep_not_trivial_3 = torch.mean(tensor_train_not_trivial_3, dim=0)\n",
    "rep_trivial_3 = torch.mean(tensor_train_trivial_3, dim=0)"
   ]
  },
  {
   "cell_type": "code",
   "execution_count": 245,
   "metadata": {},
   "outputs": [],
   "source": [
    "# Update classify trivial function using new representative embeddings\n",
    "def classify_trivial(v):\n",
    "    distance_from_not_trivial = cosine(rep_not_trivial_3, v)\n",
    "    distance_from_trivial = cosine(rep_trivial_3, v)\n",
    "    if distance_from_trivial > distance_from_not_trivial:\n",
    "        return False\n",
    "    else: \n",
    "        return True"
   ]
  },
  {
   "cell_type": "markdown",
   "metadata": {},
   "source": [
    "### Evaluate\n",
    "Get results of using the cosine similarity method on both spam_df_test and checkmate_df"
   ]
  },
  {
   "cell_type": "code",
   "execution_count": 246,
   "metadata": {},
   "outputs": [],
   "source": [
    "spam_df_test['prediction'] = spam_df_test['sentence_embedding2'].apply(lambda x: classify_trivial(x))\n",
    "checkmate_df['prediction'] = checkmate_df['sentence_embedding2'].apply(lambda x: classify_trivial(x))"
   ]
  },
  {
   "cell_type": "markdown",
   "metadata": {},
   "source": [
    "#### Results for spam_df_test"
   ]
  },
  {
   "cell_type": "code",
   "execution_count": 247,
   "metadata": {},
   "outputs": [
    {
     "name": "stdout",
     "output_type": "stream",
     "text": [
      "                                                   text  target  prediction\n",
      "5351  [CLS] Free video camera phones with Half Price...       0       False\n",
      "3766  [CLS] Night sweet, sleep well! I've just been ...       1        True\n",
      "326   [CLS] Hey i will be late ah... Meet you at 945...       1        True\n",
      "3111  [CLS] Good morning princess! Happy New Year! [...       1        True\n",
      "1780   [CLS] Who's there say hi to our drugdealer [SEP]       1        True\n",
      "...                                                 ...     ...         ...\n",
      "2787      [CLS] Well that must be a pain to catch [SEP]       1        True\n",
      "3579  [CLS] Ever green quote ever told by Jerry in c...       1        True\n",
      "4605             [CLS] Aah bless! How's your arm? [SEP]       1        True\n",
      "2205        [CLS] I'll reach in ard 20 mins ok... [SEP]       1        True\n",
      "702                  [CLS] Hey. You got any mail? [SEP]       1        True\n",
      "\n",
      "[4457 rows x 3 columns]\n"
     ]
    }
   ],
   "source": [
    "spam_predicted_vs_output = pd.concat([spam_df_test['text'], spam_df_test['is_trivial'], spam_df_test['prediction']], axis=1)\n",
    "# predicted_vs_output = predicted_vs_output.rename(columns={'is_trivial':'target', 'text':'prediction'})\n",
    "spam_predicted_vs_output.columns = ['text', 'target','prediction']\n",
    "\n",
    "print(spam_predicted_vs_output)"
   ]
  },
  {
   "cell_type": "code",
   "execution_count": 248,
   "metadata": {},
   "outputs": [],
   "source": [
    "# Calculate the recall of this methodology\n",
    "true_trivial = len(spam_predicted_vs_output[(spam_predicted_vs_output['target']==True) & (spam_predicted_vs_output['prediction']==True)])\n",
    "true_non_trivial = len(spam_predicted_vs_output[(spam_predicted_vs_output['target']==False) & (spam_predicted_vs_output['prediction']==False)])\n",
    "\n",
    "false_non_trivial = len(spam_predicted_vs_output[(spam_predicted_vs_output['target']==True) & (spam_predicted_vs_output['prediction']==False)])\n",
    "false_trivial = len(spam_predicted_vs_output[(spam_predicted_vs_output['target']==False) & (spam_predicted_vs_output['prediction']==True)])\n",
    "\n",
    "recall = true_non_trivial/(true_non_trivial+false_trivial)\n",
    "accuracy = (true_trivial+true_non_trivial)/(true_trivial+true_non_trivial+false_trivial+false_non_trivial)"
   ]
  },
  {
   "cell_type": "code",
   "execution_count": 249,
   "metadata": {},
   "outputs": [
    {
     "name": "stdout",
     "output_type": "stream",
     "text": [
      "Recall is: 93.23432343234323%\n",
      "Accuracy is: 97.98070450975993%\n",
      "true_trivial is: 3802\n",
      "true_non_trivial is: 565\n",
      "false_non_trivial is: 49\n",
      "false_trivial is: 41\n"
     ]
    }
   ],
   "source": [
    "print(f'Recall is: {recall*100}%')\n",
    "print(f'Accuracy is: {accuracy*100}%')\n",
    "\n",
    "print(f'true_trivial is: {true_trivial}')\n",
    "print(f'true_non_trivial is: {true_non_trivial}')\n",
    "print(f'false_non_trivial is: {false_non_trivial}')\n",
    "print(f'false_trivial is: {false_trivial}')"
   ]
  },
  {
   "cell_type": "markdown",
   "metadata": {},
   "source": [
    "#### Results for checkmate_df"
   ]
  },
  {
   "cell_type": "code",
   "execution_count": 250,
   "metadata": {},
   "outputs": [
    {
     "name": "stdout",
     "output_type": "stream",
     "text": [
      "                                                 text  target  prediction  \\\n",
      "0                                     [CLS] nan [SEP]   False        True   \n",
      "1   [CLS] https://www.mas.gov.sg/news/media-releas...   False       False   \n",
      "2   [CLS] TN 95546718362782 is out for del. Allow ...   False       False   \n",
      "3   [CLS] 🚩🚩🚩 *\"You flag, we check\"* 🔍🔍🔍\\n\\nNot su...   False       False   \n",
      "4   [CLS] https://form.gov.sg/63f594b42413ea001183...   False       False   \n",
      "..                                                ...     ...         ...   \n",
      "81  [CLS] [SHIN MIN CONTEST] Happycall Jumbo 双面锅等你...   False       False   \n",
      "82  [CLS] Hello, sorry to bother you, I'm Nico fro...   False       False   \n",
      "83  [CLS] Hello, my name is Sarah, from CME Group....   False        True   \n",
      "84  [CLS] LTA: Notice As no valid E-tag detected i...   False       False   \n",
      "85  [CLS] Excuse me, this is Stella, have you arra...   False        True   \n",
      "\n",
      "             category  \n",
      "0   Info/News/Opinion  \n",
      "1   Info/News/Opinion  \n",
      "2          Legitimate  \n",
      "3   Info/News/Opinion  \n",
      "4          Legitimate  \n",
      "..                ...  \n",
      "81             Unsure  \n",
      "82               Scam  \n",
      "83               Scam  \n",
      "84               Scam  \n",
      "85             Unsure  \n",
      "\n",
      "[86 rows x 4 columns]\n"
     ]
    }
   ],
   "source": [
    "checkmate_predicted_vs_output = pd.concat([checkmate_df['text'], checkmate_df['is_trivial'], checkmate_df['prediction'], checkmate_df['taggedCategory']], axis=1)\n",
    "# predicted_vs_output = predicted_vs_output.rename(columns={'is_trivial':'target', 'text':'prediction'})\n",
    "checkmate_predicted_vs_output.columns = ['text', 'target','prediction','category']\n",
    "\n",
    "print(checkmate_predicted_vs_output)"
   ]
  },
  {
   "cell_type": "code",
   "execution_count": 251,
   "metadata": {},
   "outputs": [],
   "source": [
    "# Calculate the recall of this methodology\n",
    "true_trivial = (checkmate_predicted_vs_output[(checkmate_predicted_vs_output['target']==True) & (checkmate_predicted_vs_output['prediction']==True)])\n",
    "true_non_trivial = (checkmate_predicted_vs_output[(checkmate_predicted_vs_output['target']==False) & (checkmate_predicted_vs_output['prediction']==False)])\n",
    "\n",
    "false_non_trivial = (checkmate_predicted_vs_output[(checkmate_predicted_vs_output['target']==True) & (checkmate_predicted_vs_output['prediction']==False)])\n",
    "false_trivial = (checkmate_predicted_vs_output[(checkmate_predicted_vs_output['target']==False) & (checkmate_predicted_vs_output['prediction']==True)])\n",
    "\n",
    "recall = len(true_non_trivial)/(len(true_non_trivial)+len(false_trivial))\n",
    "accuracy = (len(true_trivial)+len(true_non_trivial))/(len(true_trivial)+len(true_non_trivial)+len(false_trivial)+len(false_non_trivial))"
   ]
  },
  {
   "cell_type": "code",
   "execution_count": 252,
   "metadata": {},
   "outputs": [
    {
     "name": "stdout",
     "output_type": "stream",
     "text": [
      "Recall is: 82.53968253968253%\n",
      "Accuracy is: 87.20930232558139%\n",
      "true_trivial is: 23\n",
      "true_non_trivial is: 52\n",
      "false_non_trivial is: 0\n",
      "false_trivial is: 11\n"
     ]
    }
   ],
   "source": [
    "print(f'Recall is: {recall*100}%')\n",
    "print(f'Accuracy is: {accuracy*100}%')\n",
    "\n",
    "print(f'true_trivial is: {len(true_trivial)}')\n",
    "print(f'true_non_trivial is: {len(true_non_trivial)}')\n",
    "print(f'false_non_trivial is: {len(false_non_trivial)}')\n",
    "print(f'false_trivial is: {len(false_trivial)}')"
   ]
  },
  {
   "cell_type": "code",
   "execution_count": 253,
   "metadata": {},
   "outputs": [
    {
     "name": "stdout",
     "output_type": "stream",
     "text": [
      "Empty DataFrame\n",
      "Columns: [text, target, prediction, category]\n",
      "Index: []\n"
     ]
    }
   ],
   "source": [
    "print(false_non_trivial)"
   ]
  },
  {
   "cell_type": "code",
   "execution_count": 254,
   "metadata": {},
   "outputs": [
    {
     "name": "stdout",
     "output_type": "stream",
     "text": [
      "                                                 text  target  prediction  \\\n",
      "0                                     [CLS] nan [SEP]   False        True   \n",
      "8                                     [CLS] nan [SEP]   False        True   \n",
      "12  [CLS] Hey Jolyn! We haven't seen you in the st...   False        True   \n",
      "37   [CLS] I can withdraw my CPF only at age 65 [SEP]   False        True   \n",
      "38                 [CLS] 9/11 attack was a scam [SEP]   False        True   \n",
      "41  [CLS] Hello \\nsorry to bother you, is this Kev...   False        True   \n",
      "48                                    [CLS] nan [SEP]   False        True   \n",
      "51  [CLS] Hi, I'm. Felicia.  from *SG, Employment ...   False        True   \n",
      "66  [CLS] Hi there, lovely Evening, we are current...   False        True   \n",
      "83  [CLS] Hello, my name is Sarah, from CME Group....   False        True   \n",
      "85  [CLS] Excuse me, this is Stella, have you arra...   False        True   \n",
      "\n",
      "             category  \n",
      "0   Info/News/Opinion  \n",
      "8          Legitimate  \n",
      "12             Unsure  \n",
      "37  Info/News/Opinion  \n",
      "38  Info/News/Opinion  \n",
      "41             Unsure  \n",
      "48               Scam  \n",
      "51               Scam  \n",
      "66               Scam  \n",
      "83               Scam  \n",
      "85             Unsure  \n"
     ]
    }
   ],
   "source": [
    "print(false_trivial)"
   ]
  },
  {
   "attachments": {
    "image.png": {
     "image/png": "[encoded data removed]"
    }
   },
   "cell_type": "markdown",
   "metadata": {},
   "source": [
    "![image.png](attachment:image.png)"
   ]
  },
  {
   "attachments": {},
   "cell_type": "markdown",
   "metadata": {},
   "source": [
    "The above was used to better understand alternative sentence embedding definitions. However, using an sum of last 4 layers sentence embedding definition performed (slightly) worse. The types of examples it underperformed on was also consistent with the use of the final layer only.\n",
    "\n",
    "Hence, we can conclude that the sentence embedding definition will not have a meaningful impact to accuracy."
   ]
  }
 ],
 "metadata": {
  "kernelspec": {
   "display_name": "checkmate_ml",
   "language": "python",
   "name": "python3"
  },
  "language_info": {
   "codemirror_mode": {
    "name": "ipython",
    "version": 3
   },
   "file_extension": ".py",
   "mimetype": "text/x-python",
   "name": "python",
   "nbconvert_exporter": "python",
   "pygments_lexer": "ipython3",
   "version": "3.8.16"
  },
  "orig_nbformat": 4
 },
 "nbformat": 4,
 "nbformat_minor": 2
}
