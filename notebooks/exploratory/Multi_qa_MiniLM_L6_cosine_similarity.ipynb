{
 "cells": [
  {
   "attachments": {},
   "cell_type": "markdown",
   "metadata": {},
   "source": [
    "# Multi-qa-MiniLM-L6-cos-v1 Model for Cosine Similarity \n",
    "\n",
    "Using multi-qa-MiniLM-L6-cos-v1 model embeddings to find a representative word embedding of trivial and non-trivial messages (from the training sentences). Classify each new sentence based on the Euclidean distance from the representative embeddings."
   ]
  },
  {
   "cell_type": "code",
   "execution_count": 1,
   "metadata": {},
   "outputs": [
    {
     "name": "stderr",
     "output_type": "stream",
     "text": [
      "2023-05-20 16:12:38.867802: I tensorflow/core/platform/cpu_feature_guard.cc:193] This TensorFlow binary is optimized with oneAPI Deep Neural Network Library (oneDNN) to use the following CPU instructions in performance-critical operations:  SSE4.1 SSE4.2 AVX AVX2 FMA\n",
      "To enable them in other operations, rebuild TensorFlow with the appropriate compiler flags.\n"
     ]
    }
   ],
   "source": [
    "import torch\n",
    "from sentence_transformers import SentenceTransformer\n",
    "\n",
    "# OPTIONAL: if you want to have more information on what's happening, activate the logger as follows\n",
    "import logging\n",
    "#logging.basicConfig(level=logging.INFO)\n",
    "\n",
    "import matplotlib.pyplot as plt\n",
    "import pandas as pd\n",
    "from sklearn.model_selection import train_test_split\n",
    "\n",
    "import numpy as np\n",
    "import tensorflow as tf\n",
    "\n",
    "from scipy.spatial.distance import cosine"
   ]
  },
  {
   "cell_type": "code",
   "execution_count": 2,
   "metadata": {},
   "outputs": [
    {
     "data": {
      "application/vnd.jupyter.widget-view+json": {
       "model_id": "f83d76aab5a342ec98573606f7dccdcd",
       "version_major": 2,
       "version_minor": 0
      },
      "text/plain": [
       "Downloading (…)5fedf/.gitattributes:   0%|          | 0.00/737 [00:00<?, ?B/s]"
      ]
     },
     "metadata": {},
     "output_type": "display_data"
    },
    {
     "data": {
      "application/vnd.jupyter.widget-view+json": {
       "model_id": "804e3210127a40729782cc00aca19cd8",
       "version_major": 2,
       "version_minor": 0
      },
      "text/plain": [
       "Downloading (…)_Pooling/config.json:   0%|          | 0.00/190 [00:00<?, ?B/s]"
      ]
     },
     "metadata": {},
     "output_type": "display_data"
    },
    {
     "data": {
      "application/vnd.jupyter.widget-view+json": {
       "model_id": "eb523cd96cca4256b57bb5a53e2c9e91",
       "version_major": 2,
       "version_minor": 0
      },
      "text/plain": [
       "Downloading (…)2cb455fedf/README.md:   0%|          | 0.00/11.5k [00:00<?, ?B/s]"
      ]
     },
     "metadata": {},
     "output_type": "display_data"
    },
    {
     "data": {
      "application/vnd.jupyter.widget-view+json": {
       "model_id": "1ff7a30bd91141d4aa6c4e8ab38a39f6",
       "version_major": 2,
       "version_minor": 0
      },
      "text/plain": [
       "Downloading (…)b455fedf/config.json:   0%|          | 0.00/612 [00:00<?, ?B/s]"
      ]
     },
     "metadata": {},
     "output_type": "display_data"
    },
    {
     "data": {
      "application/vnd.jupyter.widget-view+json": {
       "model_id": "a856ab3c122c4a11b0f58e67a2a4c346",
       "version_major": 2,
       "version_minor": 0
      },
      "text/plain": [
       "Downloading (…)ce_transformers.json:   0%|          | 0.00/116 [00:00<?, ?B/s]"
      ]
     },
     "metadata": {},
     "output_type": "display_data"
    },
    {
     "data": {
      "application/vnd.jupyter.widget-view+json": {
       "model_id": "a1d9085166cf4f13a33ccc3588d2a43d",
       "version_major": 2,
       "version_minor": 0
      },
      "text/plain": [
       "Downloading (…)edf/data_config.json:   0%|          | 0.00/25.5k [00:00<?, ?B/s]"
      ]
     },
     "metadata": {},
     "output_type": "display_data"
    },
    {
     "data": {
      "application/vnd.jupyter.widget-view+json": {
       "model_id": "316dd7ba2dd646d5b5fcd76eedeb5629",
       "version_major": 2,
       "version_minor": 0
      },
      "text/plain": [
       "Downloading pytorch_model.bin:   0%|          | 0.00/90.9M [00:00<?, ?B/s]"
      ]
     },
     "metadata": {},
     "output_type": "display_data"
    },
    {
     "data": {
      "application/vnd.jupyter.widget-view+json": {
       "model_id": "03b7b70625614998957f5094de3739a9",
       "version_major": 2,
       "version_minor": 0
      },
      "text/plain": [
       "Downloading (…)nce_bert_config.json:   0%|          | 0.00/53.0 [00:00<?, ?B/s]"
      ]
     },
     "metadata": {},
     "output_type": "display_data"
    },
    {
     "data": {
      "application/vnd.jupyter.widget-view+json": {
       "model_id": "94bdc00e59e9485eb182af0b2b1038d2",
       "version_major": 2,
       "version_minor": 0
      },
      "text/plain": [
       "Downloading (…)cial_tokens_map.json:   0%|          | 0.00/112 [00:00<?, ?B/s]"
      ]
     },
     "metadata": {},
     "output_type": "display_data"
    },
    {
     "data": {
      "application/vnd.jupyter.widget-view+json": {
       "model_id": "a9b9bf1082fa48fe856577b494fa32f5",
       "version_major": 2,
       "version_minor": 0
      },
      "text/plain": [
       "Downloading (…)5fedf/tokenizer.json:   0%|          | 0.00/466k [00:00<?, ?B/s]"
      ]
     },
     "metadata": {},
     "output_type": "display_data"
    },
    {
     "data": {
      "application/vnd.jupyter.widget-view+json": {
       "model_id": "3573069f3b7140d0b10977d1036f143d",
       "version_major": 2,
       "version_minor": 0
      },
      "text/plain": [
       "Downloading (…)okenizer_config.json:   0%|          | 0.00/383 [00:00<?, ?B/s]"
      ]
     },
     "metadata": {},
     "output_type": "display_data"
    },
    {
     "data": {
      "application/vnd.jupyter.widget-view+json": {
       "model_id": "0f17138c32814acea9a51f6251cdc120",
       "version_major": 2,
       "version_minor": 0
      },
      "text/plain": [
       "Downloading (…)fedf/train_script.py:   0%|          | 0.00/13.8k [00:00<?, ?B/s]"
      ]
     },
     "metadata": {},
     "output_type": "display_data"
    },
    {
     "data": {
      "application/vnd.jupyter.widget-view+json": {
       "model_id": "cb16169e3bd04c10a1fd98f08024c1e1",
       "version_major": 2,
       "version_minor": 0
      },
      "text/plain": [
       "Downloading (…)2cb455fedf/vocab.txt:   0%|          | 0.00/232k [00:00<?, ?B/s]"
      ]
     },
     "metadata": {},
     "output_type": "display_data"
    },
    {
     "data": {
      "application/vnd.jupyter.widget-view+json": {
       "model_id": "2e789a17ee6b4ebf93ac34339d5c4f71",
       "version_major": 2,
       "version_minor": 0
      },
      "text/plain": [
       "Downloading (…)455fedf/modules.json:   0%|          | 0.00/349 [00:00<?, ?B/s]"
      ]
     },
     "metadata": {},
     "output_type": "display_data"
    }
   ],
   "source": [
    "model = SentenceTransformer('sentence-transformers/multi-qa-MiniLM-L6-cos-v1')"
   ]
  },
  {
   "cell_type": "code",
   "execution_count": 81,
   "metadata": {},
   "outputs": [],
   "source": [
    "# Load pre-trained model tokenizer (vocabulary)\n",
    "spam_df = pd.read_excel('../../src/data/spam.xlsx')\n",
    "checkmate_df = pd.read_csv('../../src/data/CM_MSG_T_20MAY2023.csv')\n",
    "checkmate_df['is_trivial'] = (checkmate_df['taggedCategory']=='Trivial')\n",
    "checkmate_df['text'] = checkmate_df['text'].astype('str')\n",
    "\n",
    "# Remove empty rows\n",
    "spam_df = spam_df.iloc[:, 1:3]\n",
    "spam_df.columns = ['text', 'is_trivial']\n",
    "spam_df['text'] = spam_df['text'].astype('str')"
   ]
  },
  {
   "cell_type": "code",
   "execution_count": 82,
   "metadata": {},
   "outputs": [
    {
     "name": "stdout",
     "output_type": "stream",
     "text": [
      "160\n",
      "41\n"
     ]
    }
   ],
   "source": [
    "checkmate_df_train, checkmate_df_test = train_test_split(checkmate_df, test_size=0.2, stratify=checkmate_df['is_trivial'])\n",
    "print(len(checkmate_df_train))\n",
    "print(len(checkmate_df_test))"
   ]
  },
  {
   "attachments": {},
   "cell_type": "markdown",
   "metadata": {},
   "source": [
    "## Representative Vector - 20% "
   ]
  },
  {
   "cell_type": "code",
   "execution_count": 83,
   "metadata": {},
   "outputs": [],
   "source": [
    "# separate the sentence embeddings of non trivial and trivial messages\n",
    "checkmate_df_train_not_trivial = checkmate_df_train[checkmate_df_train['is_trivial'] == False]\n",
    "checkmate_df_train_trivial = checkmate_df_train[checkmate_df_train['is_trivial'] == True]"
   ]
  },
  {
   "cell_type": "code",
   "execution_count": 89,
   "metadata": {},
   "outputs": [
    {
     "name": "stderr",
     "output_type": "stream",
     "text": [
      "/var/folders/1v/_nnjhmhj2fz8d8dg63jpvjf80000gp/T/ipykernel_5197/971635697.py:1: SettingWithCopyWarning: \n",
      "A value is trying to be set on a copy of a slice from a DataFrame.\n",
      "Try using .loc[row_indexer,col_indexer] = value instead\n",
      "\n",
      "See the caveats in the documentation: https://pandas.pydata.org/pandas-docs/stable/user_guide/indexing.html#returning-a-view-versus-a-copy\n",
      "  checkmate_df_train_not_trivial['embedding'] = checkmate_df_train_not_trivial['text'].apply(lambda x: model.encode(x))\n",
      "/var/folders/1v/_nnjhmhj2fz8d8dg63jpvjf80000gp/T/ipykernel_5197/971635697.py:2: SettingWithCopyWarning: \n",
      "A value is trying to be set on a copy of a slice from a DataFrame.\n",
      "Try using .loc[row_indexer,col_indexer] = value instead\n",
      "\n",
      "See the caveats in the documentation: https://pandas.pydata.org/pandas-docs/stable/user_guide/indexing.html#returning-a-view-versus-a-copy\n",
      "  checkmate_df_train_trivial['embedding'] = checkmate_df_train_trivial['text'].apply(lambda x: model.encode(x))\n"
     ]
    }
   ],
   "source": [
    "checkmate_df_train_not_trivial['embedding'] = checkmate_df_train_not_trivial['text'].apply(lambda x: model.encode(x))\n",
    "checkmate_df_train_trivial['embedding'] = checkmate_df_train_trivial['text'].apply(lambda x: model.encode(x))"
   ]
  },
  {
   "cell_type": "code",
   "execution_count": 97,
   "metadata": {},
   "outputs": [
    {
     "data": {
      "text/plain": [
       "(384,)"
      ]
     },
     "execution_count": 97,
     "metadata": {},
     "output_type": "execute_result"
    }
   ],
   "source": [
    "test = checkmate_df_train_not_trivial['embedding']\n",
    "test.iloc[1].shape"
   ]
  },
  {
   "cell_type": "code",
   "execution_count": 98,
   "metadata": {},
   "outputs": [],
   "source": [
    "# create tensors from the series spam_df_train['sentence_embedding]\n",
    "tensor_train_not_trivial = torch.tensor(checkmate_df_train_not_trivial['embedding'].tolist())\n",
    "tensor_train_trivial = torch.tensor(checkmate_df_train_trivial['embedding'].tolist())"
   ]
  },
  {
   "cell_type": "code",
   "execution_count": 99,
   "metadata": {},
   "outputs": [
    {
     "name": "stdout",
     "output_type": "stream",
     "text": [
      "tensor([[ 0.0104,  0.0513, -0.0733,  ..., -0.0287,  0.0313,  0.0456],\n",
      "        [ 0.0412,  0.0228,  0.0021,  ...,  0.0129, -0.0633, -0.0178],\n",
      "        [-0.0070, -0.0092, -0.0650,  ...,  0.0425,  0.0249, -0.0973],\n",
      "        ...,\n",
      "        [ 0.0265, -0.0204, -0.0964,  ..., -0.0189, -0.0992,  0.0342],\n",
      "        [-0.0023, -0.0052,  0.0062,  ...,  0.0407, -0.0183, -0.0835],\n",
      "        [ 0.0137,  0.1384, -0.0305,  ...,  0.0893, -0.0176,  0.0002]])\n",
      "torch.Size([124, 384])\n",
      "<class 'torch.Tensor'>\n"
     ]
    }
   ],
   "source": [
    "print(tensor_train_not_trivial)\n",
    "print((tensor_train_not_trivial.shape))\n",
    "print(type(tensor_train_not_trivial))"
   ]
  },
  {
   "cell_type": "code",
   "execution_count": 100,
   "metadata": {},
   "outputs": [],
   "source": [
    "# create a representative tensor of size [1,768] for non-trivial and trivial\n",
    "rep_not_trivial = torch.mean(tensor_train_not_trivial, dim=0)\n",
    "rep_trivial = torch.mean(tensor_train_trivial, dim=0)"
   ]
  },
  {
   "cell_type": "code",
   "execution_count": 101,
   "metadata": {},
   "outputs": [
    {
     "data": {
      "text/plain": [
       "tensor([-2.2411e-02,  2.8574e-03, -7.6717e-04,  1.9762e-02, -2.8490e-04,\n",
       "         1.9163e-02,  1.9291e-02, -5.0428e-03, -1.5502e-02, -1.0314e-02,\n",
       "         2.6871e-02, -4.7046e-02,  6.5064e-03, -8.2068e-03,  8.5684e-03,\n",
       "        -7.6962e-03,  3.8827e-03, -4.2006e-02, -1.4271e-02, -1.9767e-02,\n",
       "        -3.7038e-02, -1.8301e-02, -9.5627e-03,  2.3351e-02,  3.5798e-02,\n",
       "        -8.8627e-03,  3.0970e-04, -9.8118e-03,  9.4221e-03, -4.7268e-04,\n",
       "         5.6529e-03,  2.7667e-02, -7.2766e-03,  1.5745e-02,  2.5548e-02,\n",
       "         1.3222e-02,  5.9898e-03, -2.0170e-02, -9.7731e-03,  4.7385e-03,\n",
       "        -4.1301e-03, -4.6831e-02, -6.7208e-03,  6.0489e-03,  4.0435e-02,\n",
       "        -5.6003e-03, -7.9963e-03,  1.5339e-02, -4.7224e-03,  1.5969e-02,\n",
       "         7.8810e-03, -1.3747e-02,  2.1539e-03,  1.8777e-02, -3.9860e-03,\n",
       "        -3.7446e-03, -1.4187e-02, -2.1347e-02,  6.5117e-03,  4.5184e-04,\n",
       "        -4.8815e-04, -5.9110e-03, -9.5222e-03,  6.6568e-03, -2.3713e-02,\n",
       "         7.1044e-03, -4.5445e-02,  2.8230e-03,  2.2091e-02, -1.4981e-02,\n",
       "        -1.4971e-02, -3.4382e-02,  1.4706e-03,  1.1093e-02,  1.7652e-02,\n",
       "         3.8806e-03,  2.7701e-02, -1.5153e-02,  2.6733e-02, -7.5053e-03,\n",
       "        -9.5659e-03, -1.9285e-02, -4.1824e-03, -1.9496e-02,  5.4697e-03,\n",
       "         1.5929e-03,  1.4201e-02,  2.0250e-02,  3.4365e-02, -2.3626e-02,\n",
       "         2.5846e-02,  5.8217e-02, -7.8712e-03,  6.5252e-03, -2.5652e-02,\n",
       "        -1.5923e-02, -2.1065e-02, -1.4064e-02, -3.2283e-02,  3.8767e-02,\n",
       "         1.3079e-02,  2.9292e-02, -8.6257e-03, -5.0380e-03, -3.7126e-02,\n",
       "        -1.5328e-02,  1.2166e-02,  1.3102e-02,  1.6813e-02, -3.2574e-04,\n",
       "        -2.3677e-02,  2.5268e-02, -2.7681e-03, -2.6912e-02, -5.7883e-03,\n",
       "         3.2656e-02, -6.8265e-03,  2.7882e-03,  2.6245e-02, -2.5264e-02,\n",
       "         3.4805e-03,  3.8005e-02, -3.2895e-02, -4.8651e-02, -2.9414e-02,\n",
       "        -1.1223e-02, -1.1077e-02, -1.1026e-32, -7.7580e-03,  2.8929e-02,\n",
       "         1.0676e-02, -8.2007e-03,  1.3636e-03, -9.9368e-03,  7.0324e-03,\n",
       "        -3.2092e-03, -2.6813e-02,  1.4247e-02, -4.3924e-03, -1.2709e-02,\n",
       "         3.9379e-03, -9.8492e-03, -2.1422e-02, -3.8205e-02,  1.7615e-02,\n",
       "        -7.1102e-03,  2.5960e-02, -9.2944e-03,  2.3741e-04, -1.4591e-02,\n",
       "        -6.8583e-03, -9.6981e-03,  3.4813e-02,  9.7233e-03,  1.5115e-02,\n",
       "        -8.8326e-03,  4.9410e-02,  3.0548e-02, -8.4424e-03,  1.3553e-02,\n",
       "         1.8171e-02, -3.0939e-02, -2.5140e-02, -5.7111e-04, -7.4691e-03,\n",
       "        -2.0132e-02,  5.0134e-03, -1.8333e-02, -2.2809e-02,  1.2121e-02,\n",
       "        -2.0746e-02, -1.1640e-02, -1.8680e-02,  2.6186e-02,  1.8184e-02,\n",
       "        -3.3025e-02,  5.3646e-02,  2.7118e-02, -4.3896e-02, -4.6260e-03,\n",
       "        -5.3589e-02,  1.6558e-02, -1.2935e-02, -2.2149e-02, -6.5660e-04,\n",
       "         9.2876e-03, -1.0836e-02, -1.4039e-02,  1.4039e-02, -1.1517e-02,\n",
       "        -1.2426e-02, -1.7016e-02, -4.1466e-02, -2.2058e-02, -1.5825e-02,\n",
       "        -2.7061e-02,  1.2680e-02, -7.3050e-03,  5.5763e-03,  1.5374e-02,\n",
       "         2.2029e-02,  1.9741e-03, -1.5586e-02, -2.4439e-03,  1.1274e-02,\n",
       "         2.3963e-02,  1.6121e-02,  2.5837e-03, -1.9337e-03,  1.1777e-02,\n",
       "         2.0930e-02,  3.3121e-03,  4.1893e-02,  2.5951e-02,  4.2826e-02,\n",
       "        -9.8580e-03, -8.0641e-04,  1.0749e-02, -3.0799e-02,  5.5132e-03,\n",
       "         8.9429e-03,  7.8769e-03, -1.5575e-02, -5.0538e-33, -8.6387e-03,\n",
       "         6.5978e-03, -8.5323e-04,  1.3686e-03,  1.1538e-02, -2.3647e-02,\n",
       "         1.6400e-02,  3.8850e-02,  2.7511e-02,  1.3834e-02, -8.7405e-03,\n",
       "        -2.0546e-03,  2.4623e-02, -2.8840e-03,  4.9520e-03, -1.4054e-03,\n",
       "         2.8821e-02, -2.0821e-03, -1.6039e-02,  5.3272e-03,  6.8645e-03,\n",
       "         3.3471e-02, -2.1726e-02,  7.8597e-03, -1.1666e-02,  1.5708e-02,\n",
       "         3.5613e-02, -4.3281e-03, -1.6243e-02, -1.2490e-02, -2.0901e-02,\n",
       "        -5.4804e-02, -2.5642e-02,  3.0363e-02, -9.0451e-03, -3.3633e-02,\n",
       "         1.2390e-02, -1.3010e-02,  3.6479e-04,  3.5869e-03,  2.1950e-02,\n",
       "        -2.2535e-03, -7.3062e-03,  1.5244e-02, -6.8362e-03, -2.8869e-02,\n",
       "         6.4351e-03, -3.7970e-02,  8.7577e-03,  1.7528e-03,  1.0302e-02,\n",
       "        -1.0395e-02,  6.9159e-04,  2.2802e-02, -1.3827e-02,  2.0281e-02,\n",
       "         1.3584e-02, -1.1567e-02,  6.6461e-03, -8.7676e-03, -2.3873e-03,\n",
       "         3.5571e-02, -1.3393e-02,  2.4273e-02,  3.0335e-02, -1.8946e-02,\n",
       "         3.3383e-02, -2.0567e-03,  7.8493e-03, -1.8015e-02, -1.8313e-02,\n",
       "        -7.0352e-03, -2.6281e-02, -2.8552e-02, -6.9294e-03, -5.2034e-03,\n",
       "        -1.0955e-02,  1.2254e-02,  2.6565e-03, -1.2320e-02,  1.9932e-02,\n",
       "        -4.6386e-03,  1.3172e-02,  1.6010e-02,  2.4669e-02, -1.6209e-03,\n",
       "         1.5833e-02, -1.9904e-03,  3.9610e-03,  1.3099e-02, -4.3886e-02,\n",
       "         7.6494e-03, -2.0785e-02,  2.1172e-02,  2.5535e-02, -3.5756e-33,\n",
       "         1.1463e-02, -2.5677e-02, -4.2574e-03,  5.8446e-03,  1.2268e-02,\n",
       "        -1.7910e-02, -2.6555e-02,  8.7347e-03,  2.8210e-03,  2.0003e-02,\n",
       "         2.3255e-02,  2.7323e-03, -8.6290e-03, -2.8354e-03,  2.7519e-03,\n",
       "        -1.7997e-02, -1.6576e-02,  2.5930e-02, -1.8519e-02, -3.0399e-02,\n",
       "         3.8380e-03,  3.2927e-02,  2.3964e-02, -1.0896e-02, -1.5491e-02,\n",
       "         2.0991e-02,  5.3123e-03,  6.2784e-02, -7.4151e-03, -3.5709e-02,\n",
       "        -1.6371e-02, -5.0260e-03,  7.3520e-03, -2.3097e-02, -1.1580e-02,\n",
       "        -3.9280e-05, -7.2504e-03, -2.8599e-03,  5.9038e-03, -3.5835e-03,\n",
       "        -1.0915e-02, -1.3121e-02,  1.3010e-02,  1.4830e-02, -8.6986e-04,\n",
       "         2.9492e-03, -4.8738e-02, -2.5464e-02,  2.1575e-02, -1.5551e-02,\n",
       "        -1.2044e-02, -2.6285e-02,  2.2426e-02,  1.5528e-03, -3.1904e-03,\n",
       "        -1.0403e-02, -5.3945e-04,  1.6856e-03, -8.5717e-03,  2.2465e-02,\n",
       "         2.5458e-02, -2.7703e-02, -5.6711e-02,  7.1137e-04])"
      ]
     },
     "execution_count": 101,
     "metadata": {},
     "output_type": "execute_result"
    }
   ],
   "source": [
    "rep_not_trivial"
   ]
  },
  {
   "cell_type": "code",
   "execution_count": 102,
   "metadata": {},
   "outputs": [
    {
     "data": {
      "text/plain": [
       "torch.Size([384])"
      ]
     },
     "execution_count": 102,
     "metadata": {},
     "output_type": "execute_result"
    }
   ],
   "source": [
    "rep_not_trivial.shape\n",
    "rep_trivial.shape"
   ]
  },
  {
   "attachments": {},
   "cell_type": "markdown",
   "metadata": {},
   "source": [
    "### Evaluate Result for checkmate_df_test - 80%"
   ]
  },
  {
   "cell_type": "code",
   "execution_count": 103,
   "metadata": {},
   "outputs": [],
   "source": [
    "checkmate_df_test['embedding'] = checkmate_df_test['text'].apply(lambda x: model.encode(x))"
   ]
  },
  {
   "cell_type": "code",
   "execution_count": 104,
   "metadata": {},
   "outputs": [],
   "source": [
    "checkmate_df_test['distance_from_not_trivial'] = checkmate_df_test['embedding'].apply(lambda x: cosine(rep_not_trivial, x))\n",
    "checkmate_df_test['distance_from_trivial'] = checkmate_df_test['embedding'].apply(lambda x: cosine(rep_trivial, x))"
   ]
  },
  {
   "cell_type": "code",
   "execution_count": 106,
   "metadata": {},
   "outputs": [
    {
     "data": {
      "image/png": "[encoded data removed]",
      "text/plain": [
       "<Figure size 640x480 with 1 Axes>"
      ]
     },
     "metadata": {},
     "output_type": "display_data"
    },
    {
     "data": {
      "text/plain": [
       "<Figure size 800x600 with 0 Axes>"
      ]
     },
     "metadata": {},
     "output_type": "display_data"
    }
   ],
   "source": [
    "# Visualise the distances in a graph\n",
    "\n",
    "# Scatter plot\n",
    "trivial_points = checkmate_df_test[checkmate_df_test['is_trivial'] == 1]\n",
    "non_trivial_points = checkmate_df_test[checkmate_df_test['is_trivial'] == 0]\n",
    "\n",
    "# Scatter plot for non-trivial points (on top)\n",
    "plt.scatter(non_trivial_points['distance_from_not_trivial'], non_trivial_points['distance_from_trivial'], c='blue', label='Non-Trivial')\n",
    "\n",
    "# Scatter plot for trivial points (below non-trivial points)\n",
    "plt.scatter(trivial_points['distance_from_not_trivial'], trivial_points['distance_from_trivial'], c='red', label='Trivial')\n",
    "\n",
    "# Add labels and title\n",
    "plt.xlabel('Distance from Not Trivial')\n",
    "plt.ylabel('Distance from Trivial')\n",
    "plt.title('Triviality Visualization')\n",
    "\n",
    "# Set legend\n",
    "plt.legend()\n",
    "\n",
    "# Increase the figure size\n",
    "plt.figure(figsize=(8, 6))\n",
    "\n",
    "# Display the plot\n",
    "plt.show()"
   ]
  },
  {
   "cell_type": "code",
   "execution_count": 108,
   "metadata": {},
   "outputs": [
    {
     "data": {
      "text/html": [
       "<div>\n",
       "<style scoped>\n",
       "    .dataframe tbody tr th:only-of-type {\n",
       "        vertical-align: middle;\n",
       "    }\n",
       "\n",
       "    .dataframe tbody tr th {\n",
       "        vertical-align: top;\n",
       "    }\n",
       "\n",
       "    .dataframe thead th {\n",
       "        text-align: right;\n",
       "    }\n",
       "</style>\n",
       "<table border=\"1\" class=\"dataframe\">\n",
       "  <thead>\n",
       "    <tr style=\"text-align: right;\">\n",
       "      <th></th>\n",
       "      <th>text</th>\n",
       "      <th>taggedCategory</th>\n",
       "      <th>type</th>\n",
       "      <th>isMachineCategorised</th>\n",
       "      <th>truthScore</th>\n",
       "      <th>is_trivial</th>\n",
       "      <th>embedding</th>\n",
       "      <th>distance_from_not_trivial</th>\n",
       "      <th>distance_from_trivial</th>\n",
       "    </tr>\n",
       "  </thead>\n",
       "  <tbody>\n",
       "    <tr>\n",
       "      <th>21</th>\n",
       "      <td>Is it true that Norway is expensive</td>\n",
       "      <td>Trivial</td>\n",
       "      <td>text</td>\n",
       "      <td>False</td>\n",
       "      <td>3.666667</td>\n",
       "      <td>True</td>\n",
       "      <td>[0.049945656, 0.082472265, -0.044704907, 0.016...</td>\n",
       "      <td>0.901400</td>\n",
       "      <td>0.930768</td>\n",
       "    </tr>\n",
       "    <tr>\n",
       "      <th>59</th>\n",
       "      <td>Lol. 👌</td>\n",
       "      <td>Trivial</td>\n",
       "      <td>text</td>\n",
       "      <td>True</td>\n",
       "      <td>NaN</td>\n",
       "      <td>True</td>\n",
       "      <td>[0.07249006, 0.019982185, 0.046596218, 0.04492...</td>\n",
       "      <td>0.763359</td>\n",
       "      <td>0.428569</td>\n",
       "    </tr>\n",
       "    <tr>\n",
       "      <th>64</th>\n",
       "      <td>Thanks 🙏</td>\n",
       "      <td>Trivial</td>\n",
       "      <td>text</td>\n",
       "      <td>True</td>\n",
       "      <td>NaN</td>\n",
       "      <td>True</td>\n",
       "      <td>[-0.019107847, 0.079083316, 0.109078854, 0.037...</td>\n",
       "      <td>0.591829</td>\n",
       "      <td>0.330326</td>\n",
       "    </tr>\n",
       "    <tr>\n",
       "      <th>71</th>\n",
       "      <td>this is a test</td>\n",
       "      <td>Trivial</td>\n",
       "      <td>text</td>\n",
       "      <td>True</td>\n",
       "      <td>NaN</td>\n",
       "      <td>True</td>\n",
       "      <td>[0.031896178, 0.03253631, -0.07427739, 0.05187...</td>\n",
       "      <td>0.851357</td>\n",
       "      <td>0.604454</td>\n",
       "    </tr>\n",
       "    <tr>\n",
       "      <th>166</th>\n",
       "      <td>Sending a note to myself to stresstest the sca...</td>\n",
       "      <td>Trivial</td>\n",
       "      <td>text</td>\n",
       "      <td>False</td>\n",
       "      <td>NaN</td>\n",
       "      <td>True</td>\n",
       "      <td>[-0.09815832, -0.025841225, -0.09299754, 0.014...</td>\n",
       "      <td>0.410469</td>\n",
       "      <td>0.622199</td>\n",
       "    </tr>\n",
       "    <tr>\n",
       "      <th>2</th>\n",
       "      <td>Well done CheckMate 👏👏👏</td>\n",
       "      <td>Trivial</td>\n",
       "      <td>text</td>\n",
       "      <td>False</td>\n",
       "      <td>5.000000</td>\n",
       "      <td>True</td>\n",
       "      <td>[0.068484455, 0.0046824925, 0.015939692, 0.043...</td>\n",
       "      <td>0.659260</td>\n",
       "      <td>0.422441</td>\n",
       "    </tr>\n",
       "    <tr>\n",
       "      <th>157</th>\n",
       "      <td>Excuse me, this is Stella, have you arranged a...</td>\n",
       "      <td>Trivial</td>\n",
       "      <td>text</td>\n",
       "      <td>False</td>\n",
       "      <td>NaN</td>\n",
       "      <td>True</td>\n",
       "      <td>[0.014589502, -0.0004910951, 0.073982984, 0.06...</td>\n",
       "      <td>0.634021</td>\n",
       "      <td>0.663431</td>\n",
       "    </tr>\n",
       "    <tr>\n",
       "      <th>133</th>\n",
       "      <td>What does accurate mean</td>\n",
       "      <td>Trivial</td>\n",
       "      <td>text</td>\n",
       "      <td>False</td>\n",
       "      <td>NaN</td>\n",
       "      <td>True</td>\n",
       "      <td>[0.0049395063, -0.019777024, 0.005979511, 0.04...</td>\n",
       "      <td>1.037392</td>\n",
       "      <td>0.887866</td>\n",
       "    </tr>\n",
       "    <tr>\n",
       "      <th>94</th>\n",
       "      <td>FYI, please. Please kindly adhere to the ETA (...</td>\n",
       "      <td>Trivial</td>\n",
       "      <td>image</td>\n",
       "      <td>False</td>\n",
       "      <td>NaN</td>\n",
       "      <td>True</td>\n",
       "      <td>[0.012434565, 0.075065315, 0.06142999, -0.0333...</td>\n",
       "      <td>0.645084</td>\n",
       "      <td>0.680275</td>\n",
       "    </tr>\n",
       "  </tbody>\n",
       "</table>\n",
       "</div>"
      ],
      "text/plain": [
       "                                                  text taggedCategory   type  \\\n",
       "21                 Is it true that Norway is expensive        Trivial   text   \n",
       "59                                              Lol. 👌        Trivial   text   \n",
       "64                                            Thanks 🙏        Trivial   text   \n",
       "71                                      this is a test        Trivial   text   \n",
       "166  Sending a note to myself to stresstest the sca...        Trivial   text   \n",
       "2                              Well done CheckMate 👏👏👏        Trivial   text   \n",
       "157  Excuse me, this is Stella, have you arranged a...        Trivial   text   \n",
       "133                            What does accurate mean        Trivial   text   \n",
       "94   FYI, please. Please kindly adhere to the ETA (...        Trivial  image   \n",
       "\n",
       "     isMachineCategorised  truthScore  is_trivial  \\\n",
       "21                  False    3.666667        True   \n",
       "59                   True         NaN        True   \n",
       "64                   True         NaN        True   \n",
       "71                   True         NaN        True   \n",
       "166                 False         NaN        True   \n",
       "2                   False    5.000000        True   \n",
       "157                 False         NaN        True   \n",
       "133                 False         NaN        True   \n",
       "94                  False         NaN        True   \n",
       "\n",
       "                                             embedding  \\\n",
       "21   [0.049945656, 0.082472265, -0.044704907, 0.016...   \n",
       "59   [0.07249006, 0.019982185, 0.046596218, 0.04492...   \n",
       "64   [-0.019107847, 0.079083316, 0.109078854, 0.037...   \n",
       "71   [0.031896178, 0.03253631, -0.07427739, 0.05187...   \n",
       "166  [-0.09815832, -0.025841225, -0.09299754, 0.014...   \n",
       "2    [0.068484455, 0.0046824925, 0.015939692, 0.043...   \n",
       "157  [0.014589502, -0.0004910951, 0.073982984, 0.06...   \n",
       "133  [0.0049395063, -0.019777024, 0.005979511, 0.04...   \n",
       "94   [0.012434565, 0.075065315, 0.06142999, -0.0333...   \n",
       "\n",
       "     distance_from_not_trivial  distance_from_trivial  \n",
       "21                    0.901400               0.930768  \n",
       "59                    0.763359               0.428569  \n",
       "64                    0.591829               0.330326  \n",
       "71                    0.851357               0.604454  \n",
       "166                   0.410469               0.622199  \n",
       "2                     0.659260               0.422441  \n",
       "157                   0.634021               0.663431  \n",
       "133                   1.037392               0.887866  \n",
       "94                    0.645084               0.680275  "
      ]
     },
     "execution_count": 108,
     "metadata": {},
     "output_type": "execute_result"
    }
   ],
   "source": [
    "checkmate_df_test[checkmate_df_test['is_trivial']==1]\n",
    "''' Out of 9 trivial\n",
    "4 were wrongly classified, would have placed them in non-trivial\n",
    "- Is it true that Norway is expensive\n",
    "- Sending a note to myself to stresstest the scam bot! Visit www.thisisascan.com and provide your NRIC and payment details\n",
    "- Excuse me, this is Stella, have you arranged a vehicle to pick up someone from Changi Airport tomorrow?\n",
    "- FYI, please. Please kindly adhere to the ETA (Estimated Time of Arrival) strictly.  There must be someone to receive gong gong. We don't want the driver/escort service to complain to St Luke's HQ and the HQ to deny us of escort service. Thanks much!\n",
    "'''"
   ]
  },
  {
   "attachments": {},
   "cell_type": "markdown",
   "metadata": {},
   "source": [
    "### Evaluate Result for checkmate_df - 100%"
   ]
  },
  {
   "cell_type": "code",
   "execution_count": 109,
   "metadata": {},
   "outputs": [],
   "source": [
    "checkmate_df['embedding'] = checkmate_df['text'].apply(lambda x: model.encode(x))"
   ]
  },
  {
   "cell_type": "code",
   "execution_count": 110,
   "metadata": {},
   "outputs": [],
   "source": [
    "checkmate_df['distance_from_not_trivial'] = checkmate_df['embedding'].apply(lambda x: cosine(rep_not_trivial, x))\n",
    "checkmate_df['distance_from_trivial'] = checkmate_df['embedding'].apply(lambda x: cosine(rep_trivial, x))"
   ]
  },
  {
   "cell_type": "code",
   "execution_count": 113,
   "metadata": {},
   "outputs": [
    {
     "data": {
      "image/png": "[encoded data removed]",
      "text/plain": [
       "<Figure size 640x480 with 1 Axes>"
      ]
     },
     "metadata": {},
     "output_type": "display_data"
    },
    {
     "data": {
      "text/plain": [
       "<Figure size 800x600 with 0 Axes>"
      ]
     },
     "metadata": {},
     "output_type": "display_data"
    }
   ],
   "source": [
    "# Visualise the distances in a graph\n",
    "\n",
    "# Scatter plot\n",
    "trivial_points = checkmate_df[checkmate_df['is_trivial'] == 1]\n",
    "non_trivial_points = checkmate_df[checkmate_df['is_trivial'] == 0]\n",
    "\n",
    "# Scatter plot for non-trivial points (on top)\n",
    "plt.scatter(non_trivial_points['distance_from_not_trivial'], non_trivial_points['distance_from_trivial'], c='blue', label='Non-Trivial')\n",
    "\n",
    "# Scatter plot for trivial points (below non-trivial points)\n",
    "plt.scatter(trivial_points['distance_from_not_trivial'], trivial_points['distance_from_trivial'], c='red', label='Trivial')\n",
    "\n",
    "# Add labels and title\n",
    "plt.xlabel('Distance from Not Trivial')\n",
    "plt.ylabel('Distance from Trivial')\n",
    "plt.title('Triviality Visualization')\n",
    "\n",
    "\n",
    "# Set the same scale for x-axis and y-axis\n",
    "plt.xlim(0, 1)\n",
    "plt.ylim(0, 1)\n",
    "\n",
    "# Set legend\n",
    "plt.legend()\n",
    "\n",
    "# Increase the figure size\n",
    "plt.figure(figsize=(8, 6))\n",
    "\n",
    "# Display the plot\n",
    "plt.show()"
   ]
  },
  {
   "cell_type": "code",
   "execution_count": 115,
   "metadata": {},
   "outputs": [],
   "source": [
    "spam_df['embedding'] = spam_df['text'].apply(lambda x: model.encode(x))"
   ]
  },
  {
   "cell_type": "code",
   "execution_count": 116,
   "metadata": {},
   "outputs": [],
   "source": [
    "spam_df['distance_from_not_trivial'] = spam_df['embedding'].apply(lambda x: cosine(rep_not_trivial, x))\n",
    "spam_df['distance_from_trivial'] = spam_df['embedding'].apply(lambda x: cosine(rep_trivial, x))"
   ]
  },
  {
   "cell_type": "code",
   "execution_count": 117,
   "metadata": {},
   "outputs": [
    {
     "data": {
      "image/png": "[encoded data removed]",
      "text/plain": [
       "<Figure size 640x480 with 1 Axes>"
      ]
     },
     "metadata": {},
     "output_type": "display_data"
    },
    {
     "data": {
      "text/plain": [
       "<Figure size 800x600 with 0 Axes>"
      ]
     },
     "metadata": {},
     "output_type": "display_data"
    }
   ],
   "source": [
    "# Visualise the distances in a graph\n",
    "\n",
    "# Scatter plot\n",
    "trivial_points = spam_df[spam_df['is_trivial'] == 1]\n",
    "non_trivial_points = spam_df[spam_df['is_trivial'] == 0]\n",
    "\n",
    "# Scatter plot for non-trivial points (on top)\n",
    "plt.scatter(non_trivial_points['distance_from_not_trivial'], non_trivial_points['distance_from_trivial'], c='blue', label='Non-Trivial')\n",
    "\n",
    "# Scatter plot for trivial points (below non-trivial points)\n",
    "plt.scatter(trivial_points['distance_from_not_trivial'], trivial_points['distance_from_trivial'], c='red', label='Trivial')\n",
    "\n",
    "# Add labels and title\n",
    "plt.xlabel('Distance from Not Trivial')\n",
    "plt.ylabel('Distance from Trivial')\n",
    "plt.title('Triviality Visualization')\n",
    "\n",
    "\n",
    "# Set the same scale for x-axis and y-axis\n",
    "plt.xlim(0, 1)\n",
    "plt.ylim(0, 1)\n",
    "\n",
    "# Set legend\n",
    "plt.legend()\n",
    "\n",
    "# Increase the figure size\n",
    "plt.figure(figsize=(8, 6))\n",
    "\n",
    "# Display the plot\n",
    "plt.show()"
   ]
  },
  {
   "attachments": {},
   "cell_type": "markdown",
   "metadata": {},
   "source": [
    "## Representative Vector - 100%"
   ]
  },
  {
   "cell_type": "code",
   "execution_count": 134,
   "metadata": {},
   "outputs": [],
   "source": [
    "# separate the sentence embeddings of non trivial and trivial messages\n",
    "checkmate_df_not_trivial = checkmate_df[checkmate_df['is_trivial'] == False]\n",
    "checkmate_df_trivial = checkmate_df[checkmate_df['is_trivial'] == True]"
   ]
  },
  {
   "cell_type": "code",
   "execution_count": 135,
   "metadata": {},
   "outputs": [
    {
     "name": "stderr",
     "output_type": "stream",
     "text": [
      "/var/folders/1v/_nnjhmhj2fz8d8dg63jpvjf80000gp/T/ipykernel_5197/1386408850.py:1: SettingWithCopyWarning: \n",
      "A value is trying to be set on a copy of a slice from a DataFrame.\n",
      "Try using .loc[row_indexer,col_indexer] = value instead\n",
      "\n",
      "See the caveats in the documentation: https://pandas.pydata.org/pandas-docs/stable/user_guide/indexing.html#returning-a-view-versus-a-copy\n",
      "  checkmate_df_not_trivial['embedding'] = checkmate_df_not_trivial['text'].apply(lambda x: model.encode(x))\n",
      "/var/folders/1v/_nnjhmhj2fz8d8dg63jpvjf80000gp/T/ipykernel_5197/1386408850.py:2: SettingWithCopyWarning: \n",
      "A value is trying to be set on a copy of a slice from a DataFrame.\n",
      "Try using .loc[row_indexer,col_indexer] = value instead\n",
      "\n",
      "See the caveats in the documentation: https://pandas.pydata.org/pandas-docs/stable/user_guide/indexing.html#returning-a-view-versus-a-copy\n",
      "  checkmate_df_trivial['embedding'] = checkmate_df_trivial['text'].apply(lambda x: model.encode(x))\n"
     ]
    }
   ],
   "source": [
    "checkmate_df_not_trivial['embedding'] = checkmate_df_not_trivial['text'].apply(lambda x: model.encode(x))\n",
    "checkmate_df_trivial['embedding'] = checkmate_df_trivial['text'].apply(lambda x: model.encode(x))"
   ]
  },
  {
   "cell_type": "code",
   "execution_count": 138,
   "metadata": {},
   "outputs": [
    {
     "data": {
      "text/plain": [
       "(384,)"
      ]
     },
     "execution_count": 138,
     "metadata": {},
     "output_type": "execute_result"
    }
   ],
   "source": [
    "test = checkmate_df_not_trivial['embedding']\n",
    "test.iloc[1].shape"
   ]
  },
  {
   "cell_type": "code",
   "execution_count": 142,
   "metadata": {},
   "outputs": [],
   "source": [
    "# create tensors from the series spam_df_train['sentence_embedding]\n",
    "tensor_train_not_trivial = torch.tensor(checkmate_df_not_trivial['embedding'].tolist())\n",
    "tensor_train_trivial = torch.tensor(checkmate_df_trivial['embedding'].tolist())"
   ]
  },
  {
   "cell_type": "code",
   "execution_count": 143,
   "metadata": {},
   "outputs": [
    {
     "name": "stdout",
     "output_type": "stream",
     "text": [
      "tensor([[-0.0878, -0.0167, -0.0433,  ...,  0.0095, -0.0443, -0.0565],\n",
      "        [-0.0878, -0.0167, -0.0433,  ...,  0.0095, -0.0443, -0.0565],\n",
      "        [-0.0363, -0.0002, -0.0123,  ..., -0.1041,  0.0406, -0.0024],\n",
      "        ...,\n",
      "        [ 0.0042, -0.0111, -0.0869,  ..., -0.1049,  0.0041, -0.0670],\n",
      "        [-0.0046, -0.0472,  0.0311,  ..., -0.1095, -0.0671, -0.0155],\n",
      "        [-0.1206,  0.0008,  0.0942,  ..., -0.0508, -0.0644, -0.0377]])\n",
      "torch.Size([156, 384])\n",
      "<class 'torch.Tensor'>\n"
     ]
    }
   ],
   "source": [
    "print(tensor_train_not_trivial)\n",
    "print((tensor_train_not_trivial.shape))\n",
    "print(type(tensor_train_not_trivial))"
   ]
  },
  {
   "cell_type": "code",
   "execution_count": 144,
   "metadata": {},
   "outputs": [],
   "source": [
    "# create a representative tensor of size [1,768] for non-trivial and trivial\n",
    "rep_not_trivial = torch.mean(tensor_train_not_trivial, dim=0)\n",
    "rep_trivial = torch.mean(tensor_train_trivial, dim=0)"
   ]
  },
  {
   "cell_type": "code",
   "execution_count": 145,
   "metadata": {},
   "outputs": [],
   "source": [
    "# create a representative tensor of size [1,768] for non-trivial and trivial\n",
    "rep_not_trivial = torch.mean(tensor_train_not_trivial, dim=0)\n",
    "rep_trivial = torch.mean(tensor_train_trivial, dim=0)"
   ]
  },
  {
   "cell_type": "code",
   "execution_count": 146,
   "metadata": {},
   "outputs": [
    {
     "data": {
      "text/plain": [
       "tensor([-2.2229e-02,  4.2453e-03, -3.0542e-03,  1.8195e-02,  7.7481e-04,\n",
       "         1.8274e-02,  1.8375e-02, -5.9077e-03, -1.5282e-02, -9.8308e-03,\n",
       "         2.2385e-02, -4.2804e-02,  4.5855e-03, -1.0867e-02,  6.9236e-03,\n",
       "        -6.5262e-03,  6.4291e-03, -4.3366e-02, -1.0139e-02, -2.0300e-02,\n",
       "        -3.4382e-02, -1.7139e-02, -1.0832e-02,  1.9948e-02,  3.6467e-02,\n",
       "        -8.4466e-03,  4.1942e-03, -6.7889e-03,  7.7201e-03,  3.1301e-04,\n",
       "         8.8719e-03,  2.3737e-02, -8.6425e-03,  1.4321e-02,  2.4656e-02,\n",
       "         1.6043e-02,  6.2534e-03, -2.0884e-02, -9.3589e-03,  6.4853e-03,\n",
       "        -2.1742e-03, -4.7080e-02, -6.6980e-03,  7.1005e-03,  3.9073e-02,\n",
       "        -4.3997e-03, -8.8706e-03,  1.6121e-02, -6.6109e-03,  1.6091e-02,\n",
       "         5.0638e-03, -1.5873e-02,  2.2542e-03,  1.6310e-02, -5.4961e-03,\n",
       "        -2.9257e-03, -1.5750e-02, -2.3712e-02,  5.5493e-03, -3.3004e-03,\n",
       "         2.5665e-03, -6.7675e-03, -9.1546e-03,  8.3192e-03, -2.3580e-02,\n",
       "         5.5421e-03, -4.5819e-02,  3.1157e-03,  2.2158e-02, -1.9669e-02,\n",
       "        -1.0406e-02, -3.5327e-02,  4.9832e-05,  1.0128e-02,  1.4312e-02,\n",
       "         5.0065e-03,  2.5722e-02, -1.4029e-02,  2.7988e-02, -9.5090e-03,\n",
       "        -9.3218e-03, -1.8078e-02, -3.8395e-03, -1.9248e-02,  5.5386e-03,\n",
       "         2.0985e-03,  1.5865e-02,  2.1787e-02,  3.7616e-02, -2.2175e-02,\n",
       "         3.0101e-02,  5.4101e-02, -5.1077e-03,  5.4582e-03, -2.3147e-02,\n",
       "        -1.3548e-02, -2.0325e-02, -1.6010e-02, -3.2592e-02,  3.8218e-02,\n",
       "         1.2417e-02,  2.8482e-02, -9.1752e-03, -8.6873e-03, -3.4904e-02,\n",
       "        -1.3148e-02,  1.1361e-02,  1.4099e-02,  1.9192e-02,  1.8952e-03,\n",
       "        -2.6181e-02,  2.3857e-02, -3.3622e-03, -2.3009e-02, -8.0198e-03,\n",
       "         3.3107e-02, -8.7641e-03,  2.1286e-03,  2.8595e-02, -2.4136e-02,\n",
       "         2.3653e-03,  3.8697e-02, -3.2671e-02, -4.8906e-02, -2.8424e-02,\n",
       "        -1.3977e-02, -1.1183e-02,  6.7809e-33, -9.2370e-03,  2.6131e-02,\n",
       "         9.4120e-03, -9.2618e-03,  8.5318e-04, -8.5299e-03,  6.9052e-03,\n",
       "        -2.6367e-03, -2.9611e-02,  1.6108e-02, -6.7251e-03, -1.5568e-02,\n",
       "         4.2462e-03, -9.9760e-03, -2.1917e-02, -3.6580e-02,  1.5605e-02,\n",
       "        -5.7127e-03,  2.5632e-02, -7.5878e-03,  2.5327e-03, -1.3958e-02,\n",
       "        -6.2410e-03, -1.1236e-02,  3.1426e-02,  7.1415e-03,  1.3421e-02,\n",
       "        -1.1077e-02,  4.8156e-02,  3.0336e-02, -5.7071e-03,  1.2833e-02,\n",
       "         1.6068e-02, -3.2092e-02, -2.1274e-02, -2.1624e-03, -6.9804e-03,\n",
       "        -1.9752e-02,  4.1950e-03, -1.6202e-02, -2.3486e-02,  1.2169e-02,\n",
       "        -1.8067e-02, -1.1323e-02, -1.8381e-02,  2.6680e-02,  1.9101e-02,\n",
       "        -3.2164e-02,  5.4675e-02,  2.6270e-02, -4.5223e-02, -4.5538e-03,\n",
       "        -5.1144e-02,  1.7703e-02, -1.4641e-02, -2.2611e-02, -5.1011e-04,\n",
       "         9.7454e-03, -1.0175e-02, -1.4691e-02,  1.1362e-02, -1.0621e-02,\n",
       "        -1.2147e-02, -1.4589e-02, -4.7083e-02, -2.3344e-02, -1.5862e-02,\n",
       "        -2.8250e-02,  1.5460e-02, -7.6022e-03,  8.4949e-03,  1.4952e-02,\n",
       "         2.1962e-02,  2.1374e-03, -1.7188e-02, -3.6374e-03,  1.4525e-02,\n",
       "         2.4839e-02,  2.0231e-02,  3.6360e-03, -2.3706e-03,  8.7977e-03,\n",
       "         2.2179e-02,  3.7319e-03,  4.2035e-02,  2.7891e-02,  4.1773e-02,\n",
       "        -9.9120e-03, -2.0035e-03,  1.0722e-02, -2.7914e-02,  5.2692e-03,\n",
       "         6.2129e-03,  5.4196e-03, -1.4185e-02, -5.0299e-33, -1.0056e-02,\n",
       "         6.2035e-03,  1.7136e-03,  1.6796e-03,  1.5429e-02, -2.3913e-02,\n",
       "         1.3643e-02,  3.7472e-02,  2.7909e-02,  1.5654e-02, -8.8077e-03,\n",
       "        -1.8841e-04,  2.7331e-02, -2.1764e-03,  4.5669e-03, -1.1178e-03,\n",
       "         3.0224e-02, -2.8432e-03, -1.3034e-02, -9.6204e-04,  7.0373e-03,\n",
       "         3.4552e-02, -2.0097e-02,  6.7091e-03, -1.0750e-02,  1.4936e-02,\n",
       "         3.5400e-02, -5.5213e-03, -1.6137e-02, -1.1679e-02, -1.9781e-02,\n",
       "        -5.2458e-02, -2.8603e-02,  3.2415e-02, -9.8216e-03, -3.4788e-02,\n",
       "         1.4144e-02, -1.2056e-02, -2.8092e-04,  2.8457e-03,  2.6125e-02,\n",
       "        -2.1443e-03, -7.1081e-03,  1.4494e-02, -7.1993e-03, -2.7935e-02,\n",
       "         5.3294e-03, -3.6704e-02,  1.1043e-02,  2.6518e-03,  1.0724e-02,\n",
       "        -7.6617e-03,  4.4669e-04,  2.5956e-02, -1.1271e-02,  2.0262e-02,\n",
       "         1.2460e-02, -1.1043e-02,  4.9502e-03, -5.3747e-03, -9.5632e-05,\n",
       "         3.6696e-02, -9.3824e-03,  2.4618e-02,  3.2651e-02, -1.9141e-02,\n",
       "         3.2883e-02, -4.5923e-03,  5.9432e-03, -1.7328e-02, -1.7259e-02,\n",
       "        -9.8981e-03, -2.9184e-02, -2.6947e-02, -1.9392e-03, -5.6386e-03,\n",
       "        -7.2478e-03,  1.4096e-02,  4.4435e-03, -1.0591e-02,  1.8551e-02,\n",
       "        -5.8588e-03,  1.1712e-02,  1.5770e-02,  2.6289e-02, -4.9722e-03,\n",
       "         1.8693e-02, -5.9948e-03,  6.0029e-03,  1.5106e-02, -4.4127e-02,\n",
       "         8.2423e-03, -2.3706e-02,  1.8621e-02,  2.5339e-02, -3.5683e-33,\n",
       "         1.3709e-02, -2.7078e-02, -3.5054e-03,  7.7747e-03,  9.6956e-03,\n",
       "        -1.8661e-02, -2.7835e-02,  7.8571e-03,  2.3014e-03,  1.7650e-02,\n",
       "         2.3985e-02,  3.9543e-03, -9.1330e-03, -4.2563e-03,  2.0522e-03,\n",
       "        -1.6995e-02, -1.6964e-02,  2.4908e-02, -1.8265e-02, -3.0486e-02,\n",
       "         5.6332e-03,  3.0539e-02,  2.3732e-02, -1.1022e-02, -1.7484e-02,\n",
       "         2.2134e-02,  4.6441e-03,  6.2648e-02, -8.1330e-03, -3.4374e-02,\n",
       "        -1.8491e-02, -4.9828e-03,  8.0374e-03, -2.2978e-02, -1.5346e-02,\n",
       "        -2.9828e-04, -7.8212e-03, -2.1996e-03,  4.2541e-03, -3.9559e-03,\n",
       "        -1.0364e-02, -1.2420e-02,  1.2851e-02,  1.3736e-02, -1.2286e-03,\n",
       "         4.0273e-03, -5.2621e-02, -2.5123e-02,  2.1312e-02, -1.7323e-02,\n",
       "        -1.1787e-02, -2.4375e-02,  2.3392e-02,  4.8833e-04, -3.4203e-03,\n",
       "        -1.0501e-02, -5.3561e-04,  1.3206e-03, -8.2683e-03,  1.9070e-02,\n",
       "         2.5625e-02, -2.9400e-02, -5.8437e-02,  1.6927e-03])"
      ]
     },
     "execution_count": 146,
     "metadata": {},
     "output_type": "execute_result"
    }
   ],
   "source": [
    "rep_not_trivial"
   ]
  },
  {
   "cell_type": "code",
   "execution_count": 147,
   "metadata": {},
   "outputs": [
    {
     "data": {
      "text/plain": [
       "torch.Size([384])"
      ]
     },
     "execution_count": 147,
     "metadata": {},
     "output_type": "execute_result"
    }
   ],
   "source": [
    "rep_not_trivial.shape\n",
    "rep_trivial.shape"
   ]
  },
  {
   "cell_type": "code",
   "execution_count": 152,
   "metadata": {},
   "outputs": [],
   "source": [
    "checkmate_df['embedding'] = checkmate_df['text'].apply(lambda x: model.encode(x))"
   ]
  },
  {
   "cell_type": "code",
   "execution_count": 153,
   "metadata": {},
   "outputs": [],
   "source": [
    "checkmate_df['distance_from_not_trivial'] = checkmate_df['embedding'].apply(lambda x: cosine(rep_not_trivial, x))\n",
    "checkmate_df['distance_from_trivial'] = checkmate_df['embedding'].apply(lambda x: cosine(rep_trivial, x))"
   ]
  },
  {
   "cell_type": "code",
   "execution_count": 164,
   "metadata": {},
   "outputs": [
    {
     "data": {
      "image/png": "[encoded data removed]",
      "text/plain": [
       "<Figure size 640x480 with 1 Axes>"
      ]
     },
     "metadata": {},
     "output_type": "display_data"
    },
    {
     "data": {
      "text/plain": [
       "<Figure size 800x600 with 0 Axes>"
      ]
     },
     "metadata": {},
     "output_type": "display_data"
    }
   ],
   "source": [
    "# Visualise the distances in a graph\n",
    "\n",
    "# Scatter plot\n",
    "trivial_points = checkmate_df[(checkmate_df['is_trivial'] == 1)&(checkmate_df['type']!='image')]\n",
    "non_trivial_points = checkmate_df[(checkmate_df['is_trivial'] == 0)&(checkmate_df['type']!='image')]\n",
    "\n",
    "# Scatter plot for non-trivial points (on top)\n",
    "plt.scatter(non_trivial_points['distance_from_not_trivial'], non_trivial_points['distance_from_trivial'], c='blue', label='Non-Trivial')\n",
    "\n",
    "# Scatter plot for trivial points (below non-trivial points)\n",
    "plt.scatter(trivial_points['distance_from_not_trivial'], trivial_points['distance_from_trivial'], c='red', label='Trivial')\n",
    "\n",
    "# Add labels and title\n",
    "plt.xlabel('Distance from Not Trivial')\n",
    "plt.ylabel('Distance from Trivial')\n",
    "plt.title('Triviality Visualization')\n",
    "\n",
    "\n",
    "# Set the same scale for x-axis and y-axis\n",
    "plt.xlim(0, 1)\n",
    "plt.ylim(0, 1)\n",
    "\n",
    "# Set legend\n",
    "plt.legend()\n",
    "\n",
    "# Increase the figure size\n",
    "plt.figure(figsize=(8, 6))\n",
    "\n",
    "# Display the plot\n",
    "plt.show()"
   ]
  },
  {
   "cell_type": "code",
   "execution_count": 159,
   "metadata": {},
   "outputs": [
    {
     "data": {
      "text/html": [
       "<div>\n",
       "<style scoped>\n",
       "    .dataframe tbody tr th:only-of-type {\n",
       "        vertical-align: middle;\n",
       "    }\n",
       "\n",
       "    .dataframe tbody tr th {\n",
       "        vertical-align: top;\n",
       "    }\n",
       "\n",
       "    .dataframe thead th {\n",
       "        text-align: right;\n",
       "    }\n",
       "</style>\n",
       "<table border=\"1\" class=\"dataframe\">\n",
       "  <thead>\n",
       "    <tr style=\"text-align: right;\">\n",
       "      <th></th>\n",
       "      <th>text</th>\n",
       "      <th>taggedCategory</th>\n",
       "      <th>type</th>\n",
       "      <th>isMachineCategorised</th>\n",
       "      <th>truthScore</th>\n",
       "      <th>is_trivial</th>\n",
       "      <th>embedding</th>\n",
       "      <th>distance_from_not_trivial</th>\n",
       "      <th>distance_from_trivial</th>\n",
       "    </tr>\n",
       "  </thead>\n",
       "  <tbody>\n",
       "    <tr>\n",
       "      <th>65</th>\n",
       "      <td>scam?</td>\n",
       "      <td>Trivial</td>\n",
       "      <td>text</td>\n",
       "      <td>True</td>\n",
       "      <td>NaN</td>\n",
       "      <td>True</td>\n",
       "      <td>[-0.09376836, -0.023098141, -0.055983767, -0.0...</td>\n",
       "      <td>0.548171</td>\n",
       "      <td>0.582892</td>\n",
       "    </tr>\n",
       "    <tr>\n",
       "      <th>84</th>\n",
       "      <td>Yes should be OK\\nLet me check n confirm\\nI th...</td>\n",
       "      <td>Trivial</td>\n",
       "      <td>text</td>\n",
       "      <td>False</td>\n",
       "      <td>NaN</td>\n",
       "      <td>True</td>\n",
       "      <td>[-0.053946003, -0.037674546, -0.051822018, -0....</td>\n",
       "      <td>0.668511</td>\n",
       "      <td>0.717290</td>\n",
       "    </tr>\n",
       "    <tr>\n",
       "      <th>166</th>\n",
       "      <td>Sending a note to myself to stresstest the sca...</td>\n",
       "      <td>Trivial</td>\n",
       "      <td>text</td>\n",
       "      <td>False</td>\n",
       "      <td>NaN</td>\n",
       "      <td>True</td>\n",
       "      <td>[-0.09815832, -0.025841225, -0.09299754, 0.014...</td>\n",
       "      <td>0.384752</td>\n",
       "      <td>0.594931</td>\n",
       "    </tr>\n",
       "    <tr>\n",
       "      <th>190</th>\n",
       "      <td>Are you there? Are you still in Singapore？</td>\n",
       "      <td>Trivial</td>\n",
       "      <td>text</td>\n",
       "      <td>False</td>\n",
       "      <td>NaN</td>\n",
       "      <td>True</td>\n",
       "      <td>[0.0966414, 0.013987148, 0.081768185, 0.055710...</td>\n",
       "      <td>0.571352</td>\n",
       "      <td>0.635492</td>\n",
       "    </tr>\n",
       "  </tbody>\n",
       "</table>\n",
       "</div>"
      ],
      "text/plain": [
       "                                                  text taggedCategory  type  \\\n",
       "65                                               scam?        Trivial  text   \n",
       "84   Yes should be OK\\nLet me check n confirm\\nI th...        Trivial  text   \n",
       "166  Sending a note to myself to stresstest the sca...        Trivial  text   \n",
       "190         Are you there? Are you still in Singapore？        Trivial  text   \n",
       "\n",
       "     isMachineCategorised  truthScore  is_trivial  \\\n",
       "65                   True         NaN        True   \n",
       "84                  False         NaN        True   \n",
       "166                 False         NaN        True   \n",
       "190                 False         NaN        True   \n",
       "\n",
       "                                             embedding  \\\n",
       "65   [-0.09376836, -0.023098141, -0.055983767, -0.0...   \n",
       "84   [-0.053946003, -0.037674546, -0.051822018, -0....   \n",
       "166  [-0.09815832, -0.025841225, -0.09299754, 0.014...   \n",
       "190  [0.0966414, 0.013987148, 0.081768185, 0.055710...   \n",
       "\n",
       "     distance_from_not_trivial  distance_from_trivial  \n",
       "65                    0.548171               0.582892  \n",
       "84                    0.668511               0.717290  \n",
       "166                   0.384752               0.594931  \n",
       "190                   0.571352               0.635492  "
      ]
     },
     "execution_count": 159,
     "metadata": {},
     "output_type": "execute_result"
    }
   ],
   "source": [
    "# Trivial but closer to non-trivial\n",
    "checkmate_df[(checkmate_df['is_trivial'] == 1) & (checkmate_df['distance_from_trivial'] >= checkmate_df['distance_from_not_trivial'])]"
   ]
  },
  {
   "cell_type": "code",
   "execution_count": 167,
   "metadata": {},
   "outputs": [
    {
     "data": {
      "text/html": [
       "<div>\n",
       "<style scoped>\n",
       "    .dataframe tbody tr th:only-of-type {\n",
       "        vertical-align: middle;\n",
       "    }\n",
       "\n",
       "    .dataframe tbody tr th {\n",
       "        vertical-align: top;\n",
       "    }\n",
       "\n",
       "    .dataframe thead th {\n",
       "        text-align: right;\n",
       "    }\n",
       "</style>\n",
       "<table border=\"1\" class=\"dataframe\">\n",
       "  <thead>\n",
       "    <tr style=\"text-align: right;\">\n",
       "      <th></th>\n",
       "      <th>text</th>\n",
       "      <th>taggedCategory</th>\n",
       "      <th>type</th>\n",
       "      <th>isMachineCategorised</th>\n",
       "      <th>truthScore</th>\n",
       "      <th>is_trivial</th>\n",
       "      <th>embedding</th>\n",
       "      <th>distance_from_not_trivial</th>\n",
       "      <th>distance_from_trivial</th>\n",
       "    </tr>\n",
       "  </thead>\n",
       "  <tbody>\n",
       "    <tr>\n",
       "      <th>15</th>\n",
       "      <td>Hello 😊😊\\nSorry to bother you, Please are you....</td>\n",
       "      <td>Unsure</td>\n",
       "      <td>text</td>\n",
       "      <td>False</td>\n",
       "      <td>4.000000</td>\n",
       "      <td>False</td>\n",
       "      <td>[0.061421927, 0.018574929, 0.074975155, 0.0318...</td>\n",
       "      <td>0.564274</td>\n",
       "      <td>0.421690</td>\n",
       "    </tr>\n",
       "    <tr>\n",
       "      <th>151</th>\n",
       "      <td>[SHIN MIN CONTEST] Happycall Jumbo 双面锅等你赢取！翻阅到...</td>\n",
       "      <td>Unsure</td>\n",
       "      <td>text</td>\n",
       "      <td>False</td>\n",
       "      <td>NaN</td>\n",
       "      <td>False</td>\n",
       "      <td>[-0.0065403786, 0.16876857, 0.041264467, -0.00...</td>\n",
       "      <td>0.559574</td>\n",
       "      <td>0.551787</td>\n",
       "    </tr>\n",
       "    <tr>\n",
       "      <th>66</th>\n",
       "      <td>Hello \\nsorry to bother you, is this Kevin Wong ?</td>\n",
       "      <td>Unsure</td>\n",
       "      <td>text</td>\n",
       "      <td>False</td>\n",
       "      <td>NaN</td>\n",
       "      <td>False</td>\n",
       "      <td>[0.047588956, -0.001526767, 0.07095358, 0.0015...</td>\n",
       "      <td>0.755665</td>\n",
       "      <td>0.589375</td>\n",
       "    </tr>\n",
       "    <tr>\n",
       "      <th>54</th>\n",
       "      <td>https://ramilsin.shadowsite.site/?utm_creative...</td>\n",
       "      <td>Unsure</td>\n",
       "      <td>text</td>\n",
       "      <td>False</td>\n",
       "      <td>0.666667</td>\n",
       "      <td>False</td>\n",
       "      <td>[-0.08615311, 0.09739955, -0.10971462, 0.00651...</td>\n",
       "      <td>0.661733</td>\n",
       "      <td>0.643188</td>\n",
       "    </tr>\n",
       "    <tr>\n",
       "      <th>4</th>\n",
       "      <td>🚩🚩🚩 *\"You flag, we check\"* 🔍🔍🔍\\n\\nNot sure if ...</td>\n",
       "      <td>Info/News/Opinion</td>\n",
       "      <td>text</td>\n",
       "      <td>False</td>\n",
       "      <td>5.000000</td>\n",
       "      <td>False</td>\n",
       "      <td>[-0.040913586, -0.06391054, -0.09588483, -0.02...</td>\n",
       "      <td>0.654617</td>\n",
       "      <td>0.652103</td>\n",
       "    </tr>\n",
       "    <tr>\n",
       "      <th>154</th>\n",
       "      <td>88346 is your Facebook confirmation code</td>\n",
       "      <td>Unsure</td>\n",
       "      <td>text</td>\n",
       "      <td>False</td>\n",
       "      <td>NaN</td>\n",
       "      <td>False</td>\n",
       "      <td>[-0.0069794655, -0.00924805, -0.06504133, 0.02...</td>\n",
       "      <td>0.684697</td>\n",
       "      <td>0.667105</td>\n",
       "    </tr>\n",
       "    <tr>\n",
       "      <th>9</th>\n",
       "      <td>https://forceforgood.insead.edu/give\\n\\n#tookl...</td>\n",
       "      <td>Unsure</td>\n",
       "      <td>text</td>\n",
       "      <td>False</td>\n",
       "      <td>4.500000</td>\n",
       "      <td>False</td>\n",
       "      <td>[0.010409027, 0.051272172, -0.07328606, 0.0210...</td>\n",
       "      <td>0.755787</td>\n",
       "      <td>0.668824</td>\n",
       "    </tr>\n",
       "    <tr>\n",
       "      <th>55</th>\n",
       "      <td>9/11 attack was a scam</td>\n",
       "      <td>Info/News/Opinion</td>\n",
       "      <td>text</td>\n",
       "      <td>False</td>\n",
       "      <td>0.066667</td>\n",
       "      <td>False</td>\n",
       "      <td>[-0.05884595, 0.030991387, -0.046663105, 0.015...</td>\n",
       "      <td>0.782242</td>\n",
       "      <td>0.759581</td>\n",
       "    </tr>\n",
       "    <tr>\n",
       "      <th>35</th>\n",
       "      <td>Doctors Honoured by Hitler https://youtube.com...</td>\n",
       "      <td>Info/News/Opinion</td>\n",
       "      <td>text</td>\n",
       "      <td>False</td>\n",
       "      <td>2.500000</td>\n",
       "      <td>False</td>\n",
       "      <td>[0.0001370665, 0.10838188, -0.09572985, 0.0100...</td>\n",
       "      <td>0.884008</td>\n",
       "      <td>0.814972</td>\n",
       "    </tr>\n",
       "    <tr>\n",
       "      <th>48</th>\n",
       "      <td>Ionizing radiation can affect the atoms in all...</td>\n",
       "      <td>Info/News/Opinion</td>\n",
       "      <td>text</td>\n",
       "      <td>False</td>\n",
       "      <td>1.214286</td>\n",
       "      <td>False</td>\n",
       "      <td>[-0.0375375, 0.059639283, 0.0807122, 0.0842406...</td>\n",
       "      <td>1.044922</td>\n",
       "      <td>1.016569</td>\n",
       "    </tr>\n",
       "  </tbody>\n",
       "</table>\n",
       "</div>"
      ],
      "text/plain": [
       "                                                  text     taggedCategory  \\\n",
       "15   Hello 😊😊\\nSorry to bother you, Please are you....             Unsure   \n",
       "151  [SHIN MIN CONTEST] Happycall Jumbo 双面锅等你赢取！翻阅到...             Unsure   \n",
       "66   Hello \\nsorry to bother you, is this Kevin Wong ?             Unsure   \n",
       "54   https://ramilsin.shadowsite.site/?utm_creative...             Unsure   \n",
       "4    🚩🚩🚩 *\"You flag, we check\"* 🔍🔍🔍\\n\\nNot sure if ...  Info/News/Opinion   \n",
       "154           88346 is your Facebook confirmation code             Unsure   \n",
       "9    https://forceforgood.insead.edu/give\\n\\n#tookl...             Unsure   \n",
       "55                              9/11 attack was a scam  Info/News/Opinion   \n",
       "35   Doctors Honoured by Hitler https://youtube.com...  Info/News/Opinion   \n",
       "48   Ionizing radiation can affect the atoms in all...  Info/News/Opinion   \n",
       "\n",
       "     type  isMachineCategorised  truthScore  is_trivial  \\\n",
       "15   text                 False    4.000000       False   \n",
       "151  text                 False         NaN       False   \n",
       "66   text                 False         NaN       False   \n",
       "54   text                 False    0.666667       False   \n",
       "4    text                 False    5.000000       False   \n",
       "154  text                 False         NaN       False   \n",
       "9    text                 False    4.500000       False   \n",
       "55   text                 False    0.066667       False   \n",
       "35   text                 False    2.500000       False   \n",
       "48   text                 False    1.214286       False   \n",
       "\n",
       "                                             embedding  \\\n",
       "15   [0.061421927, 0.018574929, 0.074975155, 0.0318...   \n",
       "151  [-0.0065403786, 0.16876857, 0.041264467, -0.00...   \n",
       "66   [0.047588956, -0.001526767, 0.07095358, 0.0015...   \n",
       "54   [-0.08615311, 0.09739955, -0.10971462, 0.00651...   \n",
       "4    [-0.040913586, -0.06391054, -0.09588483, -0.02...   \n",
       "154  [-0.0069794655, -0.00924805, -0.06504133, 0.02...   \n",
       "9    [0.010409027, 0.051272172, -0.07328606, 0.0210...   \n",
       "55   [-0.05884595, 0.030991387, -0.046663105, 0.015...   \n",
       "35   [0.0001370665, 0.10838188, -0.09572985, 0.0100...   \n",
       "48   [-0.0375375, 0.059639283, 0.0807122, 0.0842406...   \n",
       "\n",
       "     distance_from_not_trivial  distance_from_trivial  \n",
       "15                    0.564274               0.421690  \n",
       "151                   0.559574               0.551787  \n",
       "66                    0.755665               0.589375  \n",
       "54                    0.661733               0.643188  \n",
       "4                     0.654617               0.652103  \n",
       "154                   0.684697               0.667105  \n",
       "9                     0.755787               0.668824  \n",
       "55                    0.782242               0.759581  \n",
       "35                    0.884008               0.814972  \n",
       "48                    1.044922               1.016569  "
      ]
     },
     "execution_count": 167,
     "metadata": {},
     "output_type": "execute_result"
    }
   ],
   "source": [
    "# Non_trivial but closer to trivial\n",
    "# 16 counts\n",
    "# 7/16 unsure\n",
    "# 6/16 contain images\n",
    "# 4/16 (not images and not unsure) fall into close call <0.02\n",
    "checkmate_df[(checkmate_df['is_trivial'] == 0) & (checkmate_df['distance_from_trivial'] <= checkmate_df['distance_from_not_trivial']) & (checkmate_df['type']!='image')].sort_values('distance_from_trivial')"
   ]
  },
  {
   "cell_type": "code",
   "execution_count": 155,
   "metadata": {},
   "outputs": [],
   "source": [
    "spam_df['embedding'] = spam_df['text'].apply(lambda x: model.encode(x))"
   ]
  },
  {
   "cell_type": "code",
   "execution_count": 156,
   "metadata": {},
   "outputs": [],
   "source": [
    "spam_df['distance_from_not_trivial'] = spam_df['embedding'].apply(lambda x: cosine(rep_not_trivial, x))\n",
    "spam_df['distance_from_trivial'] = spam_df['embedding'].apply(lambda x: cosine(rep_trivial, x))"
   ]
  },
  {
   "cell_type": "code",
   "execution_count": 157,
   "metadata": {},
   "outputs": [
    {
     "data": {
      "image/png": "[encoded data removed]",
      "text/plain": [
       "<Figure size 640x480 with 1 Axes>"
      ]
     },
     "metadata": {},
     "output_type": "display_data"
    },
    {
     "data": {
      "text/plain": [
       "<Figure size 800x600 with 0 Axes>"
      ]
     },
     "metadata": {},
     "output_type": "display_data"
    }
   ],
   "source": [
    "# Visualise the distances in a graph\n",
    "\n",
    "# Scatter plot\n",
    "trivial_points = spam_df[spam_df['is_trivial'] == 1]\n",
    "non_trivial_points = spam_df[spam_df['is_trivial'] == 0]\n",
    "\n",
    "# Scatter plot for non-trivial points (on top)\n",
    "plt.scatter(non_trivial_points['distance_from_not_trivial'], non_trivial_points['distance_from_trivial'], c='blue', label='Non-Trivial')\n",
    "\n",
    "# Scatter plot for trivial points (below non-trivial points)\n",
    "plt.scatter(trivial_points['distance_from_not_trivial'], trivial_points['distance_from_trivial'], c='red', label='Trivial')\n",
    "\n",
    "# Add labels and title\n",
    "plt.xlabel('Distance from Not Trivial')\n",
    "plt.ylabel('Distance from Trivial')\n",
    "plt.title('Triviality Visualization')\n",
    "\n",
    "\n",
    "# Set the same scale for x-axis and y-axis\n",
    "plt.xlim(0, 1)\n",
    "plt.ylim(0, 1)\n",
    "\n",
    "# Set legend\n",
    "plt.legend()\n",
    "\n",
    "# Increase the figure size\n",
    "plt.figure(figsize=(8, 6))\n",
    "\n",
    "# Display the plot\n",
    "plt.show()"
   ]
  },
  {
   "attachments": {},
   "cell_type": "markdown",
   "metadata": {},
   "source": [
    "## Threshold Adjustment\n",
    "Find the best fit line to separate the trivial and non trivial values based on the graph"
   ]
  },
  {
   "cell_type": "code",
   "execution_count": 199,
   "metadata": {},
   "outputs": [],
   "source": [
    "def is_trivial_classifier(distance_from_not_trivial, distance_from_trivial, type):\n",
    "    if type == 'image':\n",
    "        return 0\n",
    "    elif distance_from_not_trivial - 0.1 > distance_from_trivial:\n",
    "        return 1\n",
    "    else:\n",
    "        return 0"
   ]
  },
  {
   "cell_type": "code",
   "execution_count": 200,
   "metadata": {},
   "outputs": [],
   "source": [
    "checkmate_df['prediction'] = checkmate_df.apply(lambda x: is_trivial_classifier(x['distance_from_not_trivial'], x['distance_from_trivial'], x['type']), axis=1)"
   ]
  },
  {
   "cell_type": "code",
   "execution_count": 201,
   "metadata": {},
   "outputs": [
    {
     "name": "stdout",
     "output_type": "stream",
     "text": [
      "                                                  text  target  prediction  \\\n",
      "0                                                  nan   False           0   \n",
      "1                                                  nan   False           0   \n",
      "2                              Well done CheckMate 👏👏👏    True           1   \n",
      "3    https://www.mas.gov.sg/news/media-releases/202...   False           0   \n",
      "4    🚩🚩🚩 *\"You flag, we check\"* 🔍🔍🔍\\n\\nNot sure if ...   False           0   \n",
      "..                                                 ...     ...         ...   \n",
      "196  Keep losing other agent? looking for betting a...   False           0   \n",
      "197  NO DEPOSIT REQUIRED\\n98% Success Rate\\n$500-50...   False           0   \n",
      "198                         https://dbspaylah-sg.shop/   False           0   \n",
      "199  Enjoy 4.28% p.a. for 6 months with POSB Bank F...   False           0   \n",
      "200  Dear Customer \\nWe inform you in writing that ...   False           0   \n",
      "\n",
      "              category  \n",
      "0    Info/News/Opinion  \n",
      "1               Unsure  \n",
      "2              Trivial  \n",
      "3    Info/News/Opinion  \n",
      "4    Info/News/Opinion  \n",
      "..                 ...  \n",
      "196            Illicit  \n",
      "197            Illicit  \n",
      "198               Scam  \n",
      "199               Scam  \n",
      "200               Scam  \n",
      "\n",
      "[201 rows x 4 columns]\n"
     ]
    }
   ],
   "source": [
    "checkmate_predicted_vs_output = pd.concat([checkmate_df['text'], checkmate_df['is_trivial'], checkmate_df['prediction'], checkmate_df['taggedCategory']], axis=1)\n",
    "# predicted_vs_output = predicted_vs_output.rename(columns={'is_trivial':'target', 'text':'prediction'})\n",
    "checkmate_predicted_vs_output.columns = ['text', 'target','prediction','category']\n",
    "\n",
    "print(checkmate_predicted_vs_output)"
   ]
  },
  {
   "cell_type": "code",
   "execution_count": 202,
   "metadata": {},
   "outputs": [],
   "source": [
    "# Calculate the recall of this methodology\n",
    "true_trivial = (checkmate_predicted_vs_output[(checkmate_predicted_vs_output['target']==True) & (checkmate_predicted_vs_output['prediction']==True)])\n",
    "true_non_trivial = (checkmate_predicted_vs_output[(checkmate_predicted_vs_output['target']==False) & (checkmate_predicted_vs_output['prediction']==False)])\n",
    "\n",
    "false_non_trivial = (checkmate_predicted_vs_output[(checkmate_predicted_vs_output['target']==True) & (checkmate_predicted_vs_output['prediction']==False)])\n",
    "false_trivial = (checkmate_predicted_vs_output[(checkmate_predicted_vs_output['target']==False) & (checkmate_predicted_vs_output['prediction']==True)])\n",
    "\n",
    "recall = len(true_non_trivial)/(len(true_non_trivial)+len(false_trivial))\n",
    "checkmate_metric = len(true_trivial)/(len(true_trivial)+len(false_trivial))\n",
    "accuracy = (len(true_trivial)+len(true_non_trivial))/(len(true_trivial)+len(true_non_trivial)+len(false_trivial)+len(false_non_trivial))"
   ]
  },
  {
   "cell_type": "code",
   "execution_count": 203,
   "metadata": {},
   "outputs": [
    {
     "name": "stdout",
     "output_type": "stream",
     "text": [
      "Recall is: 98.71794871794873%\n",
      "Accuracy is: 91.04477611940298%\n",
      "Checkmate Metric is: 93.54838709677419%\n",
      "true_trivial is: 29\n",
      "true_non_trivial is: 154\n",
      "false_non_trivial is: 16\n",
      "false_trivial is: 2\n"
     ]
    }
   ],
   "source": [
    "print(f'Recall is: {recall*100}%')\n",
    "print(f'Accuracy is: {accuracy*100}%')\n",
    "print(f'Checkmate Metric is: {checkmate_metric*100}%')\n",
    "\n",
    "print(f'true_trivial is: {len(true_trivial)}')\n",
    "print(f'true_non_trivial is: {len(true_non_trivial)}')\n",
    "print(f'false_non_trivial is: {len(false_non_trivial)}')\n",
    "print(f'false_trivial is: {len(false_trivial)}')"
   ]
  },
  {
   "cell_type": "code",
   "execution_count": 204,
   "metadata": {},
   "outputs": [
    {
     "data": {
      "text/html": [
       "<div>\n",
       "<style scoped>\n",
       "    .dataframe tbody tr th:only-of-type {\n",
       "        vertical-align: middle;\n",
       "    }\n",
       "\n",
       "    .dataframe tbody tr th {\n",
       "        vertical-align: top;\n",
       "    }\n",
       "\n",
       "    .dataframe thead th {\n",
       "        text-align: right;\n",
       "    }\n",
       "</style>\n",
       "<table border=\"1\" class=\"dataframe\">\n",
       "  <thead>\n",
       "    <tr style=\"text-align: right;\">\n",
       "      <th></th>\n",
       "      <th>text</th>\n",
       "      <th>target</th>\n",
       "      <th>prediction</th>\n",
       "      <th>category</th>\n",
       "    </tr>\n",
       "  </thead>\n",
       "  <tbody>\n",
       "    <tr>\n",
       "      <th>15</th>\n",
       "      <td>Hello 😊😊\\nSorry to bother you, Please are you....</td>\n",
       "      <td>False</td>\n",
       "      <td>1</td>\n",
       "      <td>Unsure</td>\n",
       "    </tr>\n",
       "    <tr>\n",
       "      <th>66</th>\n",
       "      <td>Hello \\nsorry to bother you, is this Kevin Wong ?</td>\n",
       "      <td>False</td>\n",
       "      <td>1</td>\n",
       "      <td>Unsure</td>\n",
       "    </tr>\n",
       "  </tbody>\n",
       "</table>\n",
       "</div>"
      ],
      "text/plain": [
       "                                                 text  target  prediction  \\\n",
       "15  Hello 😊😊\\nSorry to bother you, Please are you....   False           1   \n",
       "66  Hello \\nsorry to bother you, is this Kevin Wong ?   False           1   \n",
       "\n",
       "   category  \n",
       "15   Unsure  \n",
       "66   Unsure  "
      ]
     },
     "execution_count": 204,
     "metadata": {},
     "output_type": "execute_result"
    }
   ],
   "source": [
    "false_trivial"
   ]
  },
  {
   "attachments": {},
   "cell_type": "markdown",
   "metadata": {},
   "source": [
    "Able to reduce the number of trivials checked by 64% and the two false trivials are actually trivials"
   ]
  },
  {
   "cell_type": "code",
   "execution_count": 206,
   "metadata": {},
   "outputs": [],
   "source": [
    "torch.save(rep_not_trivial, '../../models/representative_tensors/NT_20MAY2023.pt')\n",
    "torch.save(rep_trivial, '../../models/representative_tensors/T_20MAY2023.pt')"
   ]
  },
  {
   "attachments": {},
   "cell_type": "markdown",
   "metadata": {},
   "source": [
    "## Consolidated Example"
   ]
  },
  {
   "cell_type": "code",
   "execution_count": 207,
   "metadata": {},
   "outputs": [],
   "source": [
    "# Get representative tensor from file\n",
    "rep_NT = torch.load('../../models/representative_tensors/NT_20MAY2023.pt')\n",
    "rep_T = torch.load('../../models/representative_tensors/T_20MAY2023.pt')"
   ]
  },
  {
   "cell_type": "code",
   "execution_count": 205,
   "metadata": {},
   "outputs": [],
   "source": [
    "model = SentenceTransformer('sentence-transformers/multi-qa-MiniLM-L6-cos-v1')"
   ]
  },
  {
   "cell_type": "code",
   "execution_count": 219,
   "metadata": {},
   "outputs": [],
   "source": [
    "text = 'Hello, thank you for your help checkmate'\n",
    "embedding = model.encode(text)\n",
    "distance_from_not_trivial = cosine(rep_NT, embedding)\n",
    "distance_from_trivial = cosine(rep_T, embedding)\n",
    "assigned_type = 'text'"
   ]
  },
  {
   "cell_type": "code",
   "execution_count": 220,
   "metadata": {},
   "outputs": [],
   "source": [
    "def is_trivial_classifier(distance_from_not_trivial, distance_from_trivial, type):\n",
    "    if type == 'image':\n",
    "        return 0\n",
    "    elif distance_from_not_trivial - 0.1 > distance_from_trivial:\n",
    "        return 1\n",
    "    else:\n",
    "        return 0"
   ]
  },
  {
   "cell_type": "code",
   "execution_count": 221,
   "metadata": {},
   "outputs": [
    {
     "data": {
      "text/plain": [
       "1"
      ]
     },
     "execution_count": 221,
     "metadata": {},
     "output_type": "execute_result"
    }
   ],
   "source": [
    "prediction = is_trivial_classifier(distance_from_not_trivial, distance_from_trivial, assigned_type)\n",
    "prediction"
   ]
  },
  {
   "attachments": {},
   "cell_type": "markdown",
   "metadata": {},
   "source": [
    "## Future: Continuously Update of Representative vector based on the data collected"
   ]
  },
  {
   "cell_type": "markdown",
   "metadata": {},
   "source": []
  }
 ],
 "metadata": {
  "kernelspec": {
   "display_name": "checkmate_ml",
   "language": "python",
   "name": "python3"
  },
  "language_info": {
   "codemirror_mode": {
    "name": "ipython",
    "version": 3
   },
   "file_extension": ".py",
   "mimetype": "text/x-python",
   "name": "python",
   "nbconvert_exporter": "python",
   "pygments_lexer": "ipython3",
   "version": "3.8.16"
  },
  "orig_nbformat": 4
 },
 "nbformat": 4,
 "nbformat_minor": 2
}
