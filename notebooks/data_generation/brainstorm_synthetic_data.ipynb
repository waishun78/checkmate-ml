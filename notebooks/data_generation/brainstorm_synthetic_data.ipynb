{
 "cells": [
  {
   "attachments": {},
   "cell_type": "markdown",
   "metadata": {},
   "source": [
    "# Brainstorm Synthetic Data\n",
    "Generate more texts for news/conversational messages that have news as there is a lack of this particular message category."
   ]
  },
  {
   "cell_type": "code",
   "execution_count": 52,
   "metadata": {},
   "outputs": [],
   "source": [
    "from transformers import pipeline\n",
    "# Replace this with your own checkpoint\n",
    "from transformers import AutoTokenizer, AutoModelForSeq2SeqLM\n",
    "import pandas as pd\n",
    "from datasets import Dataset"
   ]
  },
  {
   "attachments": {},
   "cell_type": "markdown",
   "metadata": {},
   "source": [
    "## Test Back Translation\n",
    "Exploring back translation for generating more data"
   ]
  },
  {
   "cell_type": "code",
   "execution_count": 32,
   "metadata": {},
   "outputs": [
    {
     "data": {
      "application/vnd.jupyter.widget-view+json": {
       "model_id": "ed59457e17d54268b47e38e3a36be744",
       "version_major": 2,
       "version_minor": 0
      },
      "text/plain": [
       "Downloading:   0%|          | 0.00/2.38k [00:00<?, ?B/s]"
      ]
     },
     "metadata": {},
     "output_type": "display_data"
    },
    {
     "data": {
      "application/vnd.jupyter.widget-view+json": {
       "model_id": "43a7cd03d47e42eb996da0bcc278157d",
       "version_major": 2,
       "version_minor": 0
      },
      "text/plain": [
       "Downloading:   0%|          | 0.00/792k [00:00<?, ?B/s]"
      ]
     },
     "metadata": {},
     "output_type": "display_data"
    },
    {
     "data": {
      "application/vnd.jupyter.widget-view+json": {
       "model_id": "2b881538da3148b884e620ccbf88c49b",
       "version_major": 2,
       "version_minor": 0
      },
      "text/plain": [
       "Downloading:   0%|          | 0.00/2.42M [00:00<?, ?B/s]"
      ]
     },
     "metadata": {},
     "output_type": "display_data"
    },
    {
     "data": {
      "application/vnd.jupyter.widget-view+json": {
       "model_id": "8f538f5e35f14c48b4cc7a792a367452",
       "version_major": 2,
       "version_minor": 0
      },
      "text/plain": [
       "Downloading:   0%|          | 0.00/2.20k [00:00<?, ?B/s]"
      ]
     },
     "metadata": {},
     "output_type": "display_data"
    },
    {
     "data": {
      "application/vnd.jupyter.widget-view+json": {
       "model_id": "da31452d96a046d1b06d1e127049892a",
       "version_major": 2,
       "version_minor": 0
      },
      "text/plain": [
       "Downloading:   0%|          | 0.00/1.52k [00:00<?, ?B/s]"
      ]
     },
     "metadata": {},
     "output_type": "display_data"
    },
    {
     "data": {
      "application/vnd.jupyter.widget-view+json": {
       "model_id": "848c9a5c6ce841d780d7ff881637bdd6",
       "version_major": 2,
       "version_minor": 0
      },
      "text/plain": [
       "Downloading:   0%|          | 0.00/892M [00:00<?, ?B/s]"
      ]
     },
     "metadata": {},
     "output_type": "display_data"
    }
   ],
   "source": [
    "\n",
    "tokenizer = AutoTokenizer.from_pretrained(\"din0s/t5-base_fr-finetuned-en-to-it\")\n",
    "\n",
    "model = AutoModelForSeq2SeqLM.from_pretrained(\"din0s/t5-base_fr-finetuned-en-to-it\")"
   ]
  },
  {
   "cell_type": "code",
   "execution_count": 33,
   "metadata": {},
   "outputs": [],
   "source": [
    "inputs = tokenizer(\"Hi there, lovely Evening, we are currently launching a new coins (AMD.CC) in coming MAY, so we are conducting a simple survey to know more about Singapore crypto fans.May i ask you some questions?\", return_tensors=\"pt\").input_ids"
   ]
  },
  {
   "cell_type": "code",
   "execution_count": 34,
   "metadata": {},
   "outputs": [],
   "source": [
    "outputs = model.generate(inputs, max_new_tokens=40)"
   ]
  },
  {
   "cell_type": "code",
   "execution_count": 35,
   "metadata": {},
   "outputs": [],
   "source": [
    "text = tokenizer.decode(outputs[0], skip_special_tokens=True)"
   ]
  },
  {
   "cell_type": "code",
   "execution_count": 36,
   "metadata": {},
   "outputs": [],
   "source": [
    "tokenizer_fr_en = AutoTokenizer.from_pretrained(\"Helsinki-NLP/opus-mt-fr-en\")\n",
    "model_fr_en = AutoModelForSeq2SeqLM.from_pretrained(\"Helsinki-NLP/opus-mt-fr-en\")"
   ]
  },
  {
   "cell_type": "code",
   "execution_count": 37,
   "metadata": {},
   "outputs": [],
   "source": [
    "inputs = tokenizer_fr_en(text, return_tensors=\"pt\").input_ids"
   ]
  },
  {
   "cell_type": "code",
   "execution_count": 38,
   "metadata": {},
   "outputs": [],
   "source": [
    "outputs2 = model_fr_en.generate(inputs, max_new_tokens=40)"
   ]
  },
  {
   "cell_type": "code",
   "execution_count": 39,
   "metadata": {},
   "outputs": [],
   "source": [
    "text = tokenizer_fr_en.decode(outputs2[0], skip_special_tokens=True)"
   ]
  },
  {
   "cell_type": "code",
   "execution_count": 40,
   "metadata": {},
   "outputs": [
    {
     "name": "stdout",
     "output_type": "stream",
     "text": [
      ", lovingly Evening, we are currently launching a new corner (AMD.CC) in coming MAY, so we are conducting a simple survey to know more about Singapore crypt fans\n"
     ]
    }
   ],
   "source": [
    "print(text)"
   ]
  },
  {
   "attachments": {},
   "cell_type": "markdown",
   "metadata": {},
   "source": [
    "## Back-Translation"
   ]
  },
  {
   "attachments": {},
   "cell_type": "markdown",
   "metadata": {},
   "source": [
    "### En-Fr"
   ]
  },
  {
   "cell_type": "code",
   "execution_count": 43,
   "metadata": {},
   "outputs": [],
   "source": [
    "checkmate_df = pd.read_csv('../../src/data/CM_MSG_T_130523.csv')"
   ]
  },
  {
   "cell_type": "code",
   "execution_count": 71,
   "metadata": {},
   "outputs": [],
   "source": [
    "# Translation from English to French\n",
    "tokenizer_en_fr = AutoTokenizer.from_pretrained(\"Helsinki-NLP/opus-mt-en-fr\")\n",
    "model_en_fr = AutoModelForSeq2SeqLM.from_pretrained(\"Helsinki-NLP/opus-mt-en-fr\")"
   ]
  },
  {
   "cell_type": "code",
   "execution_count": 72,
   "metadata": {},
   "outputs": [],
   "source": [
    "checkmate_dataset = Dataset.from_pfrom transformers import AutoTokenizer, AutoModelWithLMHead, TranslationPipeline\n",
    "\n",
    "pipeline = TranslationPipeline(\n",
    "model=AutoModelWithLMHead.from_pretrained(\"SEBIS/legal_t5_small_multitask_cs_en\"),\n",
    "tokenizer=AutoTokenizer.from_pretrained(pretrained_model_name_or_path = \"SEBIS/legal_t5_small_multitask_cs_en\", do_lower_case=False, \n",
    "                                            skip_special_tokens=True),\n",
    "    device=0\n",
    ")\n",
    "\n",
    "cs_text = \"Komise musí vypracovat zprávu o hodnotících zprávách týkajících se uplatňování této směrnice v členských státech.\"\n",
    "\n",
    "pipeline([cs_text], max_length=512)andas(checkmate_df)"
   ]
  },
  {
   "cell_type": "code",
   "execution_count": 73,
   "metadata": {},
   "outputs": [],
   "source": [
    "texts = []\n",
    "for i in checkmate_dataset['text']:\n",
    "    if i is None:\n",
    "        texts.append('')\n",
    "    else:\n",
    "        texts.append(i)"
   ]
  },
  {
   "cell_type": "code",
   "execution_count": 79,
   "metadata": {},
   "outputs": [
    {
     "data": {
      "text/plain": [
       "['',\n",
       " '',\n",
       " 'Well done CheckMate 👏👏👏',\n",
       " '1. National School Games (NSG) 2023 (Secondary Schools): 10 to 25 April at Choa Chu Kang Stadium\\n    EOI Link: https://form.jotform.com/223399002605452',\n",
       " 'https://www.mas.gov.sg/news/media-releases/2023/mas-statement-on-additional-tier-1-instruments-issued-by-singapore-banks',\n",
       " 'TN 95546718362782 is out for del. Allow for contactless del here: https://2g.to/EkEqr/3jI',\n",
       " 'https://form.gov.sg/63f594b42413ea0011831e7e',\n",
       " '🚩🚩🚩 *\"You flag, we check\"* 🔍🔍🔍\\n\\nNot sure if a message is legit? Worried about falling victim to scams? Use CheckMate to verify the trustworthiness of dubious messages you come across.\\n\\nClick https://bit.ly/add-checkmate* to add the crowdsourced-powered bot to your WhatsApp contact.\\n\\nWhenever you\\'re uncertain about a message, simply forward it to CheckMate. You can send text messages, links, or images!\\n\\nYou will receive an alert whether the message can be trusted or not after it\\'s verified and voted on by a network of trusted volunteers.\\n\\nThat\\'s all there is to it!\\n\\nJust so you know, CheckMate is not the same as ScamShield  (https://scamshield.org.sg). \\n\\nCheckMate focuses on more than just scams; it tackles misinformation too. If a message is identified as a scam, you can choose to have CheckMate forward it to ScamShield on your behalf. To learn more about CheckMate and its collaboration with ScamShield visit https://checkmate.sg. \\n\\nBe an early user of CheckMate which was just launched and share your thoughts at https://bit.ly/checkmate-feedback\\n\\n _CheckMate is developed by a diverse and multidisciplinary team of volunteers under the #TechForGood non-profit, better.sg. The CheckMates come from all walks of life, but united by a common purpose - to help counter misinformation and scams in the community._',\n",
       " '[Sent by Gov.sg – 10 Feb]\\n\\n*Exiting acute phase of the COVID-19 pandemic*\\n🔹 Return to DORSCON Green on 13 Feb\\n\\n*Community measures* \\n➡️ From 13 Feb:\\n🔹 Masks not required on public transport & indoor healthcare settings (except in areas with & interacting with patients) \\n🔹 Standing down of Protocols 1-2-3. Rest at home if you have ARI symptoms. See a doctor if symptoms are serious\\n\\n*Get vaccinated and boosted*\\n➡️ Those eligible and aged:\\n• 6 mths to 4 yrs: 2 doses of Moderna/SpikeVax or 3 doses of Pfizer-BioNTech/Comirnaty\\n• 5 to 11 yrs: 3 doses of mRNA or Novavax, or 4 doses of Sinovac\\n• 12 to 59 yrs: will be offered booster 1 year after last dose\\n• 60 & above/medically vulnerable persons should take booster 1 year after last dose\\n\\n*Stepping Down TraceTogether (TT) & SafeEntry*\\n➡️ Can uninstall TT App & return tokens at CCs from 13 Feb to 12 Mar\\n\\n*Border measures*\\n➡️ From 13 Feb, pre-departure test not required for non-fully vax travellers entering SG \\n\\nMore: go.gov.sg/mohpr090223',\n",
       " 'https://forceforgood.insead.edu/give\\n\\n#tooklessthanaminute 🎉',\n",
       " '',\n",
       " 'https://www.8world.com/singapore/covid-19-spiked-in-last-two-weeks-docs-say-might-see-further-increase-2087346',\n",
       " 'Wear mask in trains, buses and crowded places if you are not well.\\nPrevention is better than cure.\\n\\nS’pore Covid-19 Cases Exceed 10,000 For 2 Straight Weeks, Hospitalisation Incidents Also Increase\\nhttps://mustsharenews.com/covid-19-cases-march-2023/',\n",
       " 'https://us02web.zoom.us/meeting/register/tZwvf-isqTwqGN39jpDsUre-acYd-zPu6079',\n",
       " 'Hello 😊😊\\nSorry to bother you, Please are you...ctbl1 ',\n",
       " \"Hey Jolyn! We haven't seen you in the studio yet. Don't worry, we can help you book your first session! What day do you want to come in?\",\n",
       " 'Hello, no matter how busy work remember to eat Oh',\n",
       " 'Protein powders: When should you use them?\\nhttps://www.bbc.com/future/article/20230426-protein-powders-when-should-you-use-them',\n",
       " 'Hi all, especially for our younger colleagues who did not experience the 2008 gfc. What you are seeing now is instructive lesson on so many fronts. While not totally related first svb and not credit suisse. Soon, credit suisse will be a historical footnote. No bank can survive a bank run and its all about confidence regardless of the ratios or theoretical buffer. You should keep track of these developments as it will be lessons for the future.',\n",
       " \"https://www.dailymail.co.uk/health/article-11915563/World-Health-Organization-says-healthy-kids-teens-dont-need-Covid-vaccinations.html\\n\\nThe World Health Organization (WHO) revised its Covid vaccine recommendations and suggested that healthy children and adolescents may not need a shot.\\n\\nIn guidance released Tuesday, the global health agency deemed healthy young people 'low priority' for Covid jabs. \\n\\nIt said the public health impact of vaccinating healthy children and adolescents is 'much lower than the established benefits of traditional essential vaccines for children' like measles and polio.\",\n",
       " 'https://www.astroawani.com/berita-malaysia/imam-dipukul-lelaki-kurang-siuman-ketika-solat-subuh-412628',\n",
       " 'Is it true that Norway is expensive',\n",
       " 'So...... Starts walking!!!\\n\\nhttps://www.thevibes.com/articles/lifestyles/89113/8000-steps-once-or-twice-a-week-cuts-mortality-risk-study',\n",
       " '👵Written by a 90 year old, 42 lessons life taught me 💖\\nIt is something we should all read at least once a week! Make sure you read to the end!\\n\\nWritten by Regina Brett, 90 years old, of the Plain Dealer, Cleveland, Ohio.\\n\\n\"To celebrate growing older, I once wrote the 42 lessons life taught me. It is the most requested column I\\'ve ever written.\\nMy odometer rolled over to 90 in August, so here is the column once more:\\n\\n1. Life isn\\'t fair, but it\\'s still good.\\n2. When in doubt, just take the next small step.\\n3. Life is too short – enjoy it..\\n4. Your job won\\'t take care of you when you are sick. Your friends and family will.\\n5. Pay off your credit cards every month.\\n6. You don\\'t have to win every argument. Stay true to yourself.\\n7. Cry with someone. It\\'s more healing than crying alone.\\n8. Save for retirement starting with your first pay check.\\n9. When it comes to chocolate, resistance is futile.\\n10. Make peace with your past so it won\\'t screw up the present.\\n\\n11. It\\'s OK to let your children see you cry.\\n12. Don\\'t compare your life to others. You have no idea what their journey is all about.\\n13. If a relationship has to be a secret, you shouldn\\'t be in it...\\n14 Take a deep breath. It calms the mind.\\n15. Get rid of anything that isn\\'t useful. Clutter weighs you down in many ways.\\n16. Whatever doesn\\'t kill you really does make you stronger.\\n17. It\\'s never too late to be happy. But it’s all up to you and no one else.\\n18. When it comes to going after what you love in life, don\\'t take no for an answer.\\n19. Burn the candles, use the nice sheets, wear the fancy lingerie. Don\\'t save it for a special occasion. Today is special.(amen 💖💖💖)\\n20. Over prepare, then go with the flow.\\n\\n21. Be eccentric now. Don\\'t wait for old age to wear purple.💖\\n22. The most important sex organ is the brain.\\n23. No one is in charge of your happiness but you.\\n24. Frame every so-called disaster with these words \\'In five years, will this matter?\\'\\n25. Always choose life.\\n26. Forgive but don’t forget.\\n27. What other people think of you is none of your business.\\n28. Time heals almost everything. Give time time.\\n29. However good or bad a situation is, it will change.\\n30. Don\\'t take yourself so seriously. No one else does..\\n\\n31. Believe in miracles.\\n32. Don\\'t audit life. Show up and make the most of it now.\\n33. Growing old beats the alternative -- dying young.\\n34. Your children get only one childhood.\\n35. All that truly matters in the end is that you loved.\\n36. Get outside every day. Miracles are waiting everywhere. (I love this one)\\n37. If we all threw our problems in a pile and saw everyone else\\'s, we\\'d grab ours back.\\n38. Envy is a waste of time. Accept what you already have not what you need.\\n39. The best is yet to come...\\n40. No matter how you feel, get up, dress up and show up.\\n41. Yield.\\n42. Life isn\\'t tied with a bow, but it\\'s still a gift.\"\\n\\n(¯`v´¯)\\n`*.¸.*´ ✽¸.•♥♥•.¸✽✽¸.•♥♥•.✽¸✽',\n",
       " 'Tracking No QXSGD01808049 has been successfully delivered by QXPRESS. Hope to see you again',\n",
       " '📢 HUUUURRY! Use your code GLASSSKIN10 & start your Glass Skin journey! Get 10% off, free shipping & additional 1pc travel size (min. $120 nett spend)\\u200b, specially for you!\\u200b\\n\\u200b\\n✨ Shop Clearly Corrective Dark Spot Solution Starter Set now https://bit.ly/3lzXCDR\\n\\u200b\\nChat with our Kiehl’s Skin Pro to find out more: \\u200b\\u200b\\n\\u200b\\nT&C Unsub:SMS UNK to 84668920 <ADV>',\n",
       " '🙋\\u200d♀ If you know anyone born between 1950-1959, you can ask them to go SMRT to top up $100 ezylink for Merdeka Generation effective today.\\n\\nHow to top up the $100? \\n1. Go to a Add Value Machine at the mrt station.\\n2. Place your Passion Senior Citizen card on the card reader.\\n3. Tap on the word ‘Merdeka’ on the screen. \\n4. Press Redeem All. \\n5. Wait 15 secs. \\n6. Top up completed. You may tap on the word ‘receipt’ if you want it. 😊',\n",
       " 'Hi, last year one of my colleague met you at your campus for a career profiling survey and you mentioned that you are graduating in 2024. Would you be keen in an internship starting 14 Jul to 23rd Sep in the financial sector? It includes an overseas boot camp. Do reply and let me know. Tks.',\n",
       " 'https://traqr.gevme.com/step/1?qr=JTdCJTIyZXZlbnRJRCUyMiUzQSUyMjY3NzQ1NDEwJTIyJTJDJTIycXJDb2RlSUQlMjIlM0ElMjI4NGExOWQzMS0yMTE1LTQ5MWUtYjEzNS1jOTg0MDFmNjI3ZDklMjIlMkMlMjJ0aXRsZSUyMiUzQSUyMiU1QlZWTkMlMkMlMjBBQUMlMkMlMjBTQ0VDJTVEJTIwRUpIQSUyMEthbXBvbmclMjBGZXN0aXZhbCUyMiUyQyUyMnNlc3Npb25JRCUyMiUzQSUyMjhlMTg0ZmQzLWU0OGItNGJjNC04N2RmLTgwNzNjNjQ2NmE2OCUyMiUyQyUyMm9yZ0NvbW1pdHRlZUNvZGUlMjIlM0ElMjI5NjIwTkMlMjIlN0Q=',\n",
       " 'Suck lozenges n  rub tiger balm on nose , last night towards morning I was sneezing n coughing too but.today ok',\n",
       " \"Hello, my name is Sarah, from CME Group. We've taken notice of your work experiences and resume listed on Linked In . Are you still looking for a job?\",\n",
       " 'https://traqr.gevme.com/scan/67745410/84a19d31-2115-491e-b135-c98401f627d9',\n",
       " 'https://www.theonlinecitizen.com/2023/05/03/price-of-4-room-hdb-flats-in-new-town-sold-at-27000-and-not-40000-in-1980/#:~:text=SINGAPORE%20%E2%80%94%20At%20the%20May%20Day,committed%20to%20looking%20after%20workers.',\n",
       " \"Hi! I pray this msg find you in good health. Have been thinking and believe I have to reply you. Remember you address me abt my faith.  It is solely based on faith alone. I have to say it is not blind faith but evidential faith. Archaeology and history proves my faith. Delve into it, I pray. Places, (like Hezekial tunnel, Sennacherib's prism which tables the wars of the assyrian King,  people the Bible talks about really exist. Look at Israel. Persecuted but now a nation. God did say He will leave a remnant though the israelittes were a stiff necked people.  The Bible, written by different authors, over thousands of years, speaks congruently on the issue of God, His plans, His heart, Israel, history. It is the only book that has prophecies came true and yet to come true (like the book of revelation). Therefore (the Bible) is reliable. I believe in heaven and hell. I believe God is perfect and He will punish sins on judgement day. But the good news is He gave forgiveness to those who turn to Jesus Christ, repents and follow Him, obey His commandments. I have all reasons to believe in the bible.  I refer you to J Warner Wallace of cold case Christianity. Amen.\",\n",
       " \"[8/04, today's Zaobao Chinese Morning newspapers special  report]: \\nRecent week from 26/3 to 1/4, new Covid-19 cases: 28,410.\\nEvery day: 4,060\\n181 need hospital stay.\\n\\nInfectious Diseases specialist Dr Paul Tambyah says:  \\nthe situation has returned to 2019 when there was daily new cases reporting.  \\n\\nCovid-19 Pandemic  is not over yet.  We still need to wear masks, wash hands, avoid crowds and observe distancing!\\n\\n[8/04 今天的早报特别消息]：\\n最近一周从 26/3 到 1/4，新的 Covid-19 病例有：28,410。\\n每一天的新病例：4,060。\\n每日181人需要住医院接受治疗。\\n\\n 传染病专家 Paul Tambyah 医生说：情况又回到了 2019 年，每天都有报告新病例的时候。\\n\\nCovid-19 大流行还没有结束。 大家出门还是要戴口罩、勤洗手、避免多人聚集、保持距离！\",\n",
       " 'Doctors Honoured by Hitler https://youtube.com/shorts/AbFkSrmw-sU?feature=share',\n",
       " 'https://m.facebook.com/story.php/?story_fbid=pfbid02U7NuZDvuzPVGea38SgVeRMR85MEj7JgjfQpjCr6DKTL1ajrpRWFyH1X3cd4KxZR5l&id=100064632344369',\n",
       " 'This is one of the most profound description of the Chinese race by Chan- Lui Lee PH.D.\\nYou are one of them.\\nPls.read and be proud that your forefather left China many years ago to migrate to. Malaysia for abetter future. This is in the DNA of every China man that the next generation will be better than the next \\nHappy reading.👏🏻👏🏻👍🏼\\nThis is nice and quite correct and yet truthful summary of Chinese people around the World:\\n\\nBeing Chinese\\n\\nThe simple plain truth about the Chinese!\\n\\nThis Chinese-Australian professor has a funny but true explanation\\nabout the Chinese people. Why do Chinese people work so hard to\\nsucceed in life?\\n\\nChinese people don\\'t go about bombing, terrorizing others and causing religious hatred. We live peacefully with everyone on Earth.\\n\\nHere is the plain truth.\\n\\n#1. There are over 1 billion of us on this earth. We are like photostat copies of each other. You get rid of one, 5 magically appears (like ballot boxes). Yes, it is scary, especially for us. We acknowledge that we are replaceable, thus we are not particularly \\'special\\'. If you think you are smart, there are a few thousand more people smarter than you. If you think you are strong, there are a few thousand people stronger than you.\\n\\n#2. We have been crawling all over this earth for far more centuries that most civilizations. Our DNA is designed for survival. We are like cockroaches. Put us anywhere on earth and we will make a colony and thrive. We survive on anything around us and make the best of it. Some keep migrating but others will stay and multiply.\\n\\n#3. NOBODY cares if we succeed as individuals or not. But our families take pride in knowing we have succeeded. Yes, some will fail. We take nothing for granted. We don\\'t expect privileges to fall on our laps.\\n\\nNo one owes us anything.\\n\\n#4. We know we have nothing to lose if we try to succeed. Thus, we have no fear trying. That is why Chinese are addicted to gambling. We thrive on taking risks. All or nothing.\\n\\n#5. From young we are taught to count every cent. What we take for granted like money management, I have found out recently, is not something other cultures practice at home with their children. It surprised me. But truth is not all societies or cultures teach their young this set of skills because it is rude to them. Yes, most of us can count because we are forced to and the logic of money is pounded into us from the beginning of time (when mama tells us how much she has spent on our milk and diapers)\\n\\n#6. We acknowledge life cycles. We accept that wealth in a family stays for three generations (urban myth?). Thus, every 4th generation will have to work from scratch. I.e. first generation earns the money from scratch, second generation spends the money on education, third generation gets spoiled and wastes all the inheritance. Then we are back to square one. Some families hang on to their wealth a little longer than most.\\n\\n\\n#7. It is our culture to push our next generation to do better than the last. Be smarter. Be stronger. Be faster. Be more righteous. Be more pious. Be more innovative. Be more creative. Be richer. Be everything that you can be in this lifetime.\\n\\n\\n#8. Our society judges us by our achievements... and we have no choice but to do something worthwhile because Chinese New Year comes around every year and Chinese relatives have no qualms about asking you straight in your face - how much are you making? When was your last promotion? How big is your office? What car do you drive? Where do you stay? You have boyfriend? You have girlfriend? When are you getting married? When are you having children? When is the next child? When you getting a boy? Got maid yet? Does your company send you overseas? etc etc etc. It NEVER ENDS... so, we can\\'t stop chasing the illusive train - we are damned to a materialistic society. If you are not Chinese, consider yourself lucky!\\n\\n\\n#9. We have been taught from young that if you have two hands, two feet, two eyes, and a mouth, what are you doing with it? \"People with no hands can do better than you !\"\\n\\n\\n#10. Ironically, the Chinese also believe in giving back to save their wretched materialistic souls. Balance is needed. The more their children succeed in life, the more our parents will give back to society as gratitude for the good fortune bestowed on their children.\\n\\nYes. That is true. And that is why our society progresses forward in all conditions.\\n\\nNobody pities us.\\n\\nWe accept that.\\n\\nNo one owes us anything.\\n\\nWe know that.\\n\\nThere are too many of us for charity to reach all of us.\\n\\nWe acknowledge that.\\n\\nBut that does not stop us from making a better life.\\n\\nThis lifetime.\\n\\nOpportunity is as we make of it.\\n\\nSo, pardon us if we feel obliged to make a better place for ourselves in this country we call home.\\n\\nIt is in our DNA to progress forward for a more comfortable life.\\n\\nBut if history were to be our teacher, look around this globe.\\n\\nEvery country has a Chinatown (seriously) but how many government/countries are \\'taken\\' over by the Chinese people.\\n\\nDon\\'t be afraid of us overwhelming your majority, we are not looking to conquer.\\n\\nIf we have moved away from China and Chinese governed countries, we are NOT looking for another country to administer.\\n\\nOur representatives are only there to look after our collective welfare. They are duty bound.\\n\\nWe prefer to blend in and enjoy the fruits of our labor.\\n\\nWe enjoy the company of like minded people of all races.\\n\\nAfter all, we are only passing through a small period in the history of time... so, use our skills and we can all progress forward together.\\n\\n\\nChan-Lui Lee, Ph.D.\\nHonorary Life Membern & Past President, AFS\\nMelbourne,',\n",
       " 'There are two ways to fight a $200 million F-35:\\n\\n🔹You build another stealth fighter, or\\n🔹You puncture the tires of that F-35.\\n\\nThat’s an analogy for using dedollarization to neutralize the American Empire.\\n\\nChina doesn’t want to fight a war with the US and its vassals in Asia. \\n\\nInstead, China will puncture US dollar, which is the foundation of the military industrial complex.\\n\\nFor all those unaware of the tsunami of dedollarization that has just begun all over the world:\\n\\nMAIN ARTICLE \\nBeautiful Things are Happening in Geopolitics!\\nTrue freedom is flourishing from Asia and Africa to Latin America, as the juggernaut of multipolar world rolls forward\\n\\nWhere to begin? There has been an overload of positive news from all over the world! There are outbreaks of peace between intense geopolitical rivals, which would have been unthinkable before… developing countries are suddenly breaking free from the clutches of a rigged global financial system… and a new world order is emerging at an astonishing pace. \\n\\nLet’s take a look at the astounding developments that presage an epochal realignment of geopolitics and geo-economics.\\n\\nWe can break down the historic events into three categories:\\n\\nPeace Movement: In an earth-shattering move, Saudi Arabia and Iran agreed to establish diplomatic ties — brokered by China. Saudi Arabia and Iran are also poised to join BRICS and SCO. \\n\\nNext, Syria’s President Assad visited the UAE — an equally astounding rapprochement. He has also been invited to the upcoming Arab Summit. \\n\\nThe third one is about the former Taiwanese President who went on a 12-day trip across mainland China — an unprecedented event since the Chinese civil war ended in 1949. All these are terrible for America’s power, which rests upon chaos, wars, and divide-and-rule.\\n\\nDe-dollarization: Suddenly everyone is finding ways to decouple from the US dollar. Countries are boldly announcing plans to circumvent USD when they trade (especially when buying oil) and engage in e-commerce and tourism. \\n\\nIt’s not just Russia but also US allies and partners like India, Africa, ASEAN, Latin America, Saudi Arabia, and even some European countries are jumping on this bandwagon. The BRICS group is poised to announce its own gold/commodity-backed currency during its summit in August this year. And for the first time, China just bought natural gas (LNG) in Yuan! Hello, petroyuan! Watch out, petrodollar!\\n\\nRevolt against American Hegemony: There is a global revolt against the American Empire. Check out these recent rebellious events:\\n\\n“Mexico is not a colony of the USA” — thundered Mexican President Amlo a couple of days ago on the 85th anniversary of Mexico’s nationalization of oil. This progressive leader nationalized Lithium a month ago, to the great displeasure of his northern Big Brother.\\n\\nSimilarly, El Salvador’s Young and dynamic President Bukele warned the US that Monroe Doctrine is dead. (Bukele has cracked down on violent gangs and drug trafficking, which may have disrupted CIA’s revenue).\\n\\nAnother LatAm country, Honduras, just dumped Taiwan and recognized PRC in mainland China.\\n\\nHeck, even some German leaders are talking about fixing the Nord Stream pipeline and renewing trade with Russia.\\n\\nAnd how about Putin, the supposedly international pariah under 10,000+ US/EU sanctions? Few days ago, 40+ African countries sent representatives to Moscow to attend a conference titled “Africa and Russia in a multipolar world.” Not subtle at all.\\n\\nThen a day later, Xi Jinping visited Moscow for a three-day visit and said that “Changes unseen in a century are happening; and we (Russia and China) are leading this.”\\n\\nAdd to all this is the sudden interest shown by numerous countries in joining BRICS.\\n\\nMeanwhile, Americans are not only in denial about dedollarization but also about its impact on the dollar’s global reserve currency status.\\n\\nHere’s the simple truth: If people don’t need dollar for trade, they don’t need dollar in the foreign exchange reserves either. In the near future, technology and multi-currency trade will turn reserve currencies into an archaic and colonialist notion.\\n\\nDollar itself won’t just disappear but its hegemony will be gone. The US dollar will be one among major currencies such as Euro and Chinese Yuan.\\n\\nUS in Denial\\n\\nAmericans are in for a rude awakening. The mainstream media, pundits and politicians are still engaging in bravado about the supremacy of the US dollar. However, events can unfold like an avalanche.\\n\\nSo, now you have an idea about the bigger picture of the tectonic paradigm shift occurring all over the world. Let’s take a look at these events and see what they mean to the world and even how they affect us.\\n\\nXi-Putin Meeting\\n\\nRussia and China are jump-starting a multipolar world, while the US and Europe are stuck in the delusional past.\\n\\nFirst, Xi’s visit is highly symbolic, showing the world that China got Russia’s back. During the visit, both leaders called each other “Dear friend.” The camaraderie is real. 10 years ago, in March 2013, as the newly elected leader of China, the first trip Xi made was to… Russia to meet Putin. Thus, making another trip on the anniversary is very meaningful.\\n\\nThen, there is the de-dollarization, the mother of all geopolitical phenomenon. Weaken the dollar’s hegemony, you have neutralized America’s unipolar prowess. Putin essentially heralded the death of petrodollar and the birth of petroyuan by making these two points:\\n\\nAlready 2/3rd of Russia-China trade is happening with Yuan and Ruble.\\n\\nFurthermore, Russia will use Chinese Yuan to trade with Asia, Africa and Latin America.\\n\\nHere’s an astonishing chart of how Russia decoupled from dollar and Euro within a couple of months and switched to Yuan and Rubles for trade with China:\\n\\nThen there are other profound changes: Russia using yuan as the main currency in foreign exchange reserves, Russian companies issuing RMB bonds, Russian banks allowing people to open yuan accounts and so on.\\n\\nThe implications of these moves are enormous, as they combine decoupling from US dollar with internationalization of yuan. Double whammy for the US.\\n\\nDe-dollarization\\n\\nOnce Russia and China can establish secure and easy alternatives for non-dollar and non-Western systems, everyone will start using them, at least for some of their trades. Why have a middle-man for trade and commerce that could be accomplished in local currencies?\\n\\nThe use of dollar means (1) forced to hoard $$ in foreign exchange reserves (2) paying commissions (3) being subjected to US diktats in fear of sanctions (4) losing sovereignty and (5) extra friction in doing business.\\n\\nOld world order: If you run out of US dollars, you must go begging to the IMF, which will impose austerity and privatization — i.e., let Western corporations plunder your country.\\n\\nNew world order: You buy oil in your local currency! Or, use another option like the RMB.\\n\\nOld world order: If you are a developing nation, you need to go beg to the IMF and the World Bank.\\n\\nNew world order: If you are a developing nation, China will not only give you the money but will build the infrastructure you need.\\n\\nBy the way, de-dollarization is already spreading like wild fire! Consider these examples:\\n\\nIndia just signed a deal with Malaysia to enable trade in Indian Rupees; and India is working with 18 other countries to do trade in Rupees. These include not only neighbors like Bangladesh and developing countries in Africa, but also staunch US allies/vassals like Germany, UK and New Zealand. India is also in talks with the UAE to buy oil for rupee. Petro-rupee… who would have thought of that?\\n\\nMalaysia, Indonesia, Singapore and Thailand now have a digital payment system that enables settlements in local currencies. They have even standardized the QR code payments. No need for the dollar middleman anymore. Now, all ten ASEAN countries — with 600 million people — want to adopt this system and eliminate the use of foreign currencies such as US dollar and Japanese yen in the intra-ASEAN trade.\\n\\nFor the first time, China just bought liquefied natural gas (LNG) from the UAE using Yuan. Kind of a shocking news that should really be on the front page of CN and BBC.\\n\\nAlready, 15% of China’s trade and cross-border payments are happening in yuan — that was about ¥8 trillion in 2022.\\n\\nKenya’s President announced that Saudi Arabia and the UAE will sell oil for Kenyan Shilling! Ghana is buying oil in gold. True freedom for African countries.\\n\\nKenya and Iraq have made it possible for people and businesses to buy things on Alibaba — the Chinese e-commerce giant — with yuan. No need for US dollar in a globalized, hi-tech world.\\n\\nEgypt has joined the BRICS Bank — the New Development Bank. Who needs the predatory IMF and World Bank, who anyway hate giving out loans for infrastructure projects and real development? Egypt is also issuing RMB-denominated bonds.\\n\\nIndonesia’s President Jokowi has told his people to stop using Visa and Mastercard. And the reason he gave? How the US confiscated Russia’s foreign exchange reserves.\\n\\nDuring his visit to China, the Malaysian PM Ibrahim proposed an Asian Monetary Fund to rival the IMF and to reduce dependence on US dollar.\\n\\nBy the way, the new head of BRICS bank is none other than Dilma Rousseff, the former President of Brazil. She was spied on by the NSA, the US spying agency. Later, the US staged a soft coup and removed her from the office by leaking a recorded conversation. Now, she will live in China and manage the New Development Bank. Her influence will likely bring Brazil into BRI - Belt and Road Initiative.\\n\\nBrazil, which is the largest economy in Latin America, is now enabling yuan payments for Brazilian exporters. No more dollar, thank you. As a sign of things to come, the transactions will go through CIPS — the Chinese version of SWIFT. This is a complete decoupling from the post-WW2 financial world order.\\n\\nIn January, Argentina joined 40+ other countries and established a currency-swap agreement with China. It is also trying to set up a new currency for trade within Latin America, especially with Brazil.\\n\\nThe big kahuna in this radical transformation is, of course, Saudi Arabia — the most influential Arab country and the de facto leader of OPEC. Saudi prince MBS is a visionary and shrewd person who understands geopolitics. Consider that public schools in Saudi Arabia are now teaching Chinese language!\\n\\nMBS is making all sorts of long-term deals with China. For his $1 trillion futuristic city - Neom - he is getting yuan-denominated loans from Chinese banks! And Saudi Aramco signed a $12 billion deal to build refineries in China. In the future, Saudis can more quickly export petroleum products to other Asian countries.\\n\\nSaudi Prince Salman has also applied for BRICS membership; and under China’s stewardship, he has made peace with Iran, thus transforming Middle East politics. Peace is also good for China, which wants uninterrupted land mass for its freight trains.\\n\\nWhile modernizing Saudi’s economy, he knows that China will be Saudi’s #1 oil customer for at least two more decades.\\n\\nThe Saudi-Iran deal is also a geopolitical coup de grace for China. It may very well be the cornerstone for petroyuan — i.e., oil being sold for Chinese RMB. Obviously, this detente paves the way for both Saudi Arabia and Iran to join BRICS. (Even Forbes magazine predicts that Saudi Arabia will become an official member of BRICS at the Aug 2023 Summit).\\n\\nMore than 12 countries have sent in their applications for BRICS membership, as South Africa’s foreign minister admitted — South Africa holds the current BRICS presidency.\\n\\nBRICS expansion map. “BRICS+”?\\nImagine a BRICS+ with three oil giants — Russia, Saudi Arabia and Iran. And perhaps even UAE, Mexico, Venezuela and Nigeria. The “BRICS+” can account for 60% of world’s oil production! How hard will it be to create a new currency that’s backed by oil? Or even a combo of commodities — oil, natural gas, wheat, iron ore etc.? Remember that Russia and Iran are #1 and #2 in natural gas reserves of the world.\\n\\nEndless possibilities in a multipolar world!\\n\\n(As I have explained in the previous article, Chinese Yuan can/will become a global trade currency without it becoming a major global reserve currency. Note: Already 70+ countries are using Chinese RMB in their foreign exchange reserves portfolio. Brazil recently announced that Yuan has surpassed the Euro in Brazilian FOREX! This is especially astounding given that, as recently as 2018, Brazil had no yuan in its FOREX!)\\n\\nHow long before the local de-dollarization stories are replicated worldwide? This is just a matter of scaling that needs the right governance and technology.\\n\\nImagine a future when any person in any country can directly and instantly trade with anyone in the world!\\n\\nAll the US sanctions and bullying will become meaningless. Already, look how most of the world is ignoring US/EU sanctions on Russia.\\n\\nThe proof is in the pudding. Look at how Russia’s exports of crude oil, petroleum products, LNG and coal have been virtually unaffected by US/EU sanctions. The message from Global South to the imperialists about the Ukraine war is clear: “Your monkey, Your circus.”\\n\\nBRICS and BRI — Challenging US Hegemony\\n\\nBRICS started off as a virtual concept created by Goldman Sachs. Then, after the 2008 financial crisis, BRICS became more serious, although the US constantly sabotaged it from becoming meaningful. The weakest links are Brazil and India. Brazil has a lot of pro-US elites; and India is probably hesitant to allow BRICS to grow too strong because it will mean a stronger China.\\n\\nRight now, BRICS is larger than the US in terms of nominal GDP and larger than the G7 nations in terms of PPP GDP.\\n\\nThus, BRICS has a lot of potential. With a few more members, BRICS won’t be held hostage by Indian and Brazilian politics.\\n\\nThe new President of “BRICS Bank” - formally, the New Development Bank - is Dilma Rousseff, who is the former President of Brazil. She has moved to Shanghai! Imagine that — former world leaders moving to and living in China.\\n\\nSimilarly, China’s Belt and Road Initiative has great potential to transform the world. With 147 members, the BRI is a transformative paradigm. Hopefully, some European countries will also grow spines, reject the life as American vassals, and embrace the BRI and a cooperative world. All the propaganda about debt traps or failures of projects is cynical and either exaggerated or blatantly false. If these holier-than-thou people are so concerned about debt trap, they should join the BRI, propose noble reforms and offer cheap loans.\\n\\nPeace and Development\\n\\nPoor countries have enormous challenges with the basics and are caught in a Catch-22. To get out of poverty, they need to build infrastructure; but to build infrastructure, they need money! These countries suffer when there are endless perpetual wars that disrupt global supply chains and trade. Plus, Western institutions don’t give loans for infrastructure. US military bases? Yes. Hydropower dams and internet connections? No!\\n\\nThe Middle East, for example, has so much wealth but many Arab countries are poor and/or destroyed by wars. This is why peace between Saudi Arabia, Iran, Syria and the UAE is a game changer. The leaders are finally realizing how much more they can accomplish through cooperation. It’s as if there is a spiritual awakening!\\n\\nHistoric Saudi-Iran peace deal brokered by China (in Beijing). Syrian president Assad and his wife in UAE for peace summit\\nThe only ones to benefit from conflicts are the US and the EU. Divide Sunnis and Shiites, Arabs and Persians… the US gets to be the hegemon of a pivotal region. Plus, keeping Iran down helps US/EU oil/gas companies make enormous profits. Of course, selling weapons is also a big industry in the US.\\n\\nNeedless to say, what’s happening in the Middle East is amazing. After decades of brutal civil wars, proxy wars and religious wars, Arab leaders are having an epiphany: “Hey, how about we cooperate with one another and find win-win ideas for peace and prosperity?”\\n\\nThis process is not easy. It requires enormous diplomacy and willingness to forgive. However, the dividends of peace and development will be astronomical. And they can lay the framework for other countries to resolve their issues as well.\\n\\nImagine peace between:\\n\\nNorth and South Korea\\n\\nIndia versus China/Pakistan\\n\\nChina and Japan\\n\\nRussia and Europe\\n\\nOne final note: The Saudi-Iran peace deal is also a proof of another phenomenon: China’s growing geopolitical clout and mastery. It’s not just a “workshop of the world” anymore. Who knows, maybe the Chinese will play a great role in ending the Ukraine war as well.\\n\\nArrogance and Ignorance\\n\\nThe globalist magazine Economist had a clever cover page that shows the axis of China-Russia-Iran-Saudi.\\n\\n25 years ago, geopolitical mastermind Brzezinski wrote in his book — Grand Chessboard — that the biggest threat to American hegemony will be the coalition of China, Iran and Russia. Well, thanks to terribly flawed US foreign policy, that grand alliance is coming to fruition. Add Saudi Arabia to this group, and you get far-reaching geopolitical multiplier effects.\\n\\nThe Economist article is replete with anti-China propaganda and classic misconceptions. Such ignorance is why the West missed the reemergence of China as a global power. But Western intellectuals are just doubling down on their failed analyses. \\n\\nApart from the usual trope about “authoritarian CCP,” the author’s faux pas is to dismiss China’s foreign policy as “transactional.” \\n\\nIt’s quite the opposite. China makes 20- and 30-year deals with Russia, Iran, and Saudi Arabia. And the deals are also holistic — covering everything from trade and technology to infrastructure and agriculture to cultural exchange and beyond. For example, Saudi Aramco just agreed to invest $10 billion on a massive refinery in China. Saudis will also store millions of barrels in China to export quickly to other Asian countries.\\n\\nAlso, the cover art shows China as a hegemonic power and others as satellites. However, this is a Western projection. In reality, China and Russia are partners, who are breaking the American stranglehold on the world. Also, many are starting to have a different opinion about who is the true “axis of evil” — US, UK, NATO and the little Nazis of Ukraine.\\n\\nWhile American politicians like to constantly demonize “communist” China, guess who’s going to Beijing? Singapore Prime Minister this week (for 6 days!); Malaysian PM and Spanish Prime Minister also this week; French President Macron and EU President Ursula von der Leyen in early April; Brazil’s Lula the following week and so on.\\n\\nThe hubris and ignorance in Washington/London/Brussels bubble are astounding. On one hand, US sanctions (weaponization of USD) and warmongering are accelerating the death of dollar hegemony, which underpins American power and prosperity. On the other hand, Europeans are meekly accepting their vassal state and sacrificing their economy, security — and potentially their lives — as geopolitical pawns in the proxy war against Russia.\\n\\nMoreover, the US/EU financial systems have become Ponzi schemes on top of unsustainable debt and mind-boggling amount of derivatives. The de-industrialized Western economies can’t even supply Ukraine with enough ammunition. The American economy is a “fugazi” — financial capitalism with fake wealth created by printing trillions of dollars and hiding failures with bailouts, a.k.a. socialism for oligarchs and banksters.\\n\\nAll these are possible only because of the rigged global system.\\n\\nConclusion\\n\\nThe American Empire is based on three things: Dollar, Military, and Divide-and-Rule.\\n\\nAnd all three pillars of the Matrix are crumbling in real time.\\n\\nEverything is changing in the blink of an eye. The East is uniting and rising; and the West is on a self-destruction path. A multipolar world is blossoming and the centers of gravity for economy and diplomacy are shifting to Asia. The de-dollarization movement is gaining momentum faster than anyone could have imagined.\\n\\nPeace is emasculating mighty America. If Saudis and Iranians are friends, if Taiwan and China forge a compromise, if India and China settle their borders… America’s ability to manufacture wars and control others will evaporate.\\n\\nAs for military dominance, Russia and China already have hypersonic missiles, while the US program has failed and is now at least a decade behind. As for US Navy, it is not only unable to build enough warships but is also dependent on China for precision tools, electronics, rare earth minerals and even aluminum. In essence, the USA is turning into a paper tiger.\\n\\nThe best-case scenario is that Western leaders understand that their domination is over and will work with China, Russia and others to implement a new world order based on cooperation, equality and mutual prosperity. However, I am not holding my breath for that to happen.',\n",
       " 'https://fb.watch/kec4vyuIlj/?mibextid=qC1gEa',\n",
       " 'LIMITED TIME till end of this month!Save up to $3000 on your self care.Ask your Hairstylist or https://www.99percenthairstudio.com/super-savings',\n",
       " \"Dear all,\\nPlease be careful.. There is a HIGH TECHNOLOGY SCAM going on at this time called *SIM SWAP FRAUD*, it is said that hundreds of people have been affected, they suddenly found that their bank accounts were *EMPTY*\\n\\n  How does it work?\\n\\n 1) The new scam called SIM SWAP starts like this... Your phone network will suddenly go blank / zero (No Signal / Zero Bar) and after a while, you will get a call.\\n\\n 2)The caller will tell you that he is calling from (your mobile phone company) depending on your network and that there is a problem in your mobile network.\\n\\n 3)He will instruct you to Please press 1 on your phone to regain network.  - *PLEASE*... at this stage\\n  don't Press anything, Just hang up or *END* the call.  If you press 4) the network will appear suddenly and in a moment *your HP Will go blank again (Zero Bar) and with that action, your phone *ALREADY HACKED*.\\n\\n  In a few seconds they will empty your bank account, and you won't receive any notification.. about it.\\n  It will appear as if your line has been disconnected with no Network, meanwhile your SIM has been *CHANGED*\\n\\n  The danger here is, you won't get any transaction alerts.\\n\\n  Let's be more careful\",\n",
       " \"Date: 24 March 2023 at 2:24:03 pm AEDT\\nTo: \\n\\n\\ufeff\\nForwarded as received.\\n\\n\\n\\n\\n*LAPORAN WIKILEAKS MENDEDAHKAN SIMPANAN TETAP KELUARGA DAN KRONI MAHATHIR DI BANK ISRAEL, SINGAPURA.*\\n\\nFW: WikiLeaks Releases Secret Bank Accounts of Mahathir's family and his cronies\\nrotary district conference 2011-2012\\n1/7/11 Ananda Pillai.\\n\\n* MAHATHIR, THE THIEF & HIS FAMILY*\\n\\nSubject:  WikiLeaks Releases Secret Bank Accounts of Mahathir's family and his cronies\\n\\n*FIXED DEPOSIT ACCOUNTS OF MAHATHIR'S WIFE AND 5 OF HIS CHILDREN AS WELL AS HIS CRONIES*\\n\\nThe information regarding the *Fixed Deposit Accounts* of Mahathir's wife and 3 of his children are as below.\\nThese accounts were opened at an Israeli Singapore-based bank in the neighboring country of Singapore .\\n\\n*The bank is ISRAELI NATIONAL BANK.*\\nThat vast amount of monies could have been derived through the following:\\ni. Deposited by an agent of the Israeli Government or any other foreign government.\\nii. Derived from various companies of Mahathir's cronies.\\niii. Or could be part of the RM1Bil missing from UMNO's account which Anwar Ibrahim brought up before he was dismissed from UMNO.\\n\\nDetails of accounts are as follow:\\n\\nFamily of Dr. Mahathir:\\n\\n*1. Name : Ms Siti Hasmah Bte Mohamed Ali*\\nPost : Wife of Prime Minister\\nPassport No. : D 173596 (M)\\nBank : Israeli National Bank\\nType of Account : Fixed Deposit (Foreign Currency)\\n3 years\\nAccount No : GB-6921-4212- 712 (F)\\n*Amount : USD 6,650,000.00*\\nDate of opening account : 19/03/95\\nDate of Maturity : 19/03/98\\n(Maturity continuity to 19/03/2001)\\n\\n*2. Name : Ms Siti Hasmah Bte Mohamed Ali*\\nPost : Wife of Prime Minister\\nPassport No. : D 173596 (M)\\nBank : Israeli National Bank\\nType of Account : Fixed Deposit (Foreign Currency)\\n3 years\\nAccount No : AGF-2192-2442- 722-(X)\\n*Amount : USD 4,000,000.00*\\nDate of opening account : 25/06/95\\nDate of Maturity : 25/06/98\\n(Maturity continued to 25/06/2001)\\n(Extension interest agreed upon)\\n\\n*3. Name : Ms Siti Hasmah Bte Mohamed Ali*\\nPost : Wife of Prime Minister\\nPassport No. : D 173596 (M)\\nBank : Israeli National Bank\\nType of Account : Fixed Deposit (Foreign Currency)\\n3 years\\nAccount No : DD-3919-714- 271-(A)\\n*Amount : USD 5,500,000.00*\\nDate of opening account : 06/12/95\\nDate of Maturity : 06/12/98\\n\\n*4. Name : Ms Siti Hasmah Bte Mohamed Ali*\\nPost : Wife of Prime Minister\\nPassport No. : D 173596 (M)\\nBank : Israeli National Bank\\nType of Account : Fixed Deposit (Foreign Currency)\\n3 years\\nAccount No : FA-4196-2493- 313 (A)\\n*Amount : USD 8,000,000.00*\\nDate of opening account : 09/06/97\\nDate of Maturity : 09/06/00\\n\\n*5. Name : Ms Siti Hasmah Bte Mohamed Ali*\\nPost : Wife of Prime Minister\\nPassport No. : D 173596 (M)\\nBank : Israeli National Bank\\nType of Account : Fixed Deposit (Foreign Currency)\\n3 years\\nAccount No : FB-5614-1499- 515 (C)\\n*Amount : USD 9,800,000.00*\\nDate of opening account : 12/11/97\\nDate of Maturity : 12/11/2000\\n\\n*6. Name : Ms Siti Hasmah Bte Mohamed Ali*\\nPost : Wife of Prime Minister\\nPassport No. : D 173596 (M)\\nBank : Israeli National Bank\\nType of Account : Fixed Deposit (Foreign Currency)\\n3 years\\nAccount No : CE-2418-7172- 492 (E)\\n*Amount : USD 5,000,000.00*\\nDate of opening account : 07/03/98\\nDate of Maturity : 07/03/01\\n\\n*7. Name : Ms Marina Bte Mahathir*\\nPost : Daughter ; Malaysia AIDS Council President\\nPassport No. : R 671918 (M)\\nBank : Israeli National Bank\\nType of Account : Fixed Deposit (Foreign Currency)\\n3 years\\nAccount No : C-719-418-210 (M)\\n*Amount : USD 13,000,000.00*\\nDate of opening account : 17/06/96\\nDate of Maturity : 17/06/99\\n\\n*8. Name : Ms Marina Bte Mahathir*\\nPost : Daughter ; Malaysia AIDS Council President\\nPassport No. : R 671918 (M)\\nBank : Israeli National Bank\\nType of Account : Fixed Deposit (Foreign Currency)\\n3 years\\nAccount No : F-817-200-11 (C)\\n*Amount : USD 12,500,000.00*\\nDate of opening account : 03/12/96\\nDate of Maturity : 03/12/99\\n\\n*9. Name : Ms Marina Bte Mahathir*\\nPost : Daughter ; Malaysia AIDS Council President\\nPassport No. : R 671918 (M)\\nBank : Israeli National Bank\\nType of Account : Fixed Deposit (Foreign Currency)\\n5 years\\nAccount No : G-211-922-718- 2 (D)\\n*Amount : USD 15,000,000.00*\\nDate of opening account : 12/07/97\\nDate of Maturity : 12/07/02\\n\\n*10. Name : Mr Mokhzani Bin Mahathir*\\nPost : Son of Prime Minister\\nPassport No. : R 719325 (M)\\nBank : Israeli National Bank\\nType of Account : Fixed Deposit (Foreign Currency)\\n3 years\\nAccount No : M-3121-3149- 512 (D)\\n*Amount : USD 7,000,000.00*\\nDate of opening account : 03/12/95\\nDate of Maturity : 03/12/98\\n\\n*11. Name : Mr Mokhzani Bin Mahathir*\\nPost : Son of Prime Minister\\nPassport No. : R 719325 (M)\\nBank : Israeli National Bank\\nType of Account : Fixed Deposit (Foreign Currency)\\n3 years\\nAccount No : DA-9159-7211- 819 (M)\\n*Amount : USD 4,500,000.00*\\nDate of opening account : 20/05/96\\nDate of Maturity : 20/05/99\\n\\n*12. Name : Mr Mokhzani Bin Mahathir*\\nPost : Son of Prime Minister\\nPassport No. : R 719325 (M)\\nBank : Israeli National Bank\\nType of Account : Fixed Deposit (Foreign Currency)\\n3 years\\nAccount No : ME-3138-5144- 219 (A)\\n*Amount : USD 10,000,000.00*\\nDate of opening account : 08/09/97\\nDate of Maturity : 08/09/00\\n\\n*13. Name : Mr Mokhzani Bin Mahathir*\\nPost : Son of Prime Minister\\nPassport No. : R 719325 (M)\\nBank : Israeli National Bank\\nType of Account : Current Account\\nAccount No : A-7213-4441- 223 (MB)\\n*Amount : USD 15,500,000.00*\\nDate of opening account : 11/12/97\\nWithdrawal : USD 5,000,000.00 on 10/02/98\\nCheque No. F2912718\\nDeposit : USD 9,500,000.00\\n*Last Balance : USD 19,500,000.00*\\n\\n*14. Name : Mr Mokhzani Bin Mahathir*\\nPost : Son of Prime Minister\\nPassport No. : R 719325 (M)\\nBank : Israeli National Bank\\nType of Account : Fixed Deposit (Foreign Currency)\\n1 years\\nAccount No : F-3518-3279- 441 (ND)\\n*Amount : USD 10,000,000.00*\\nDate of opening account : 08/09/98\\nDate of Maturity : 08/09/99\\n\\n*15. Name : Mr Mokhzani Bin Mahathir*\\nPost : Son of Prime Minister\\nPassport No. : R 719325 (M)\\nBank : Israeli National Bank\\nType of Account : Fixed Deposit (Foreign Currency)\\n1 years\\nAccount No : F-3532-3310- 501 (NG)\\n*Amount : USD 15,500,000.00*\\nDate of opening account : 21/09/98\\nDate of Maturity : 21/09/99\\n\\n*16. Name : Mr Mirzan Bin Mahathir*\\nPost : Son of Prime Minister\\nPassport No. : R 914315 (M)\\nBank : Israeli National Bank\\nType of Account : Fixed Deposit (Foreign Currency)\\n3 years\\nAccount No : LA-5716-3919- 862 (C)\\n*Amount : USD 15,000,000.00*\\nDate of opening account : 16/08/96\\nDate of Maturity : 16/08/99\\n\\n*17. Name : Mr Mirzan Bin Mahathir*\\nPost : Son of Prime Minister\\nPassport No. : R 914315 (M)\\nBank : Israeli National Bank\\nType of Account : Fixed Deposit\\n2 years\\nAccount No : CM-6983-7419- 365 (F)\\n*Amount : S $ 10,000,000.00*\\nDate of opening account : 29/06/97\\nDate of Maturity : 29/06/99\\n\\n*18. Name : Mr Mirzan Bin Mahathir*\\nPost : Son of Prime Minister\\nPassport No. : R 914315 (M)\\nBank : Israeli National Bank\\nType of Account : Fixed Deposit\\n2 years\\nAccount No : JE-8145-6073- 396 (L)\\n*Amount : S$ 5,000,000.00*\\nDate of opening account : 15/11/97\\nDate of Maturity : 15/11/99\\n\\n*19. Name : Mr Mirzan Bin Mahathir*\\nPost : Son of Prime Minister\\nPassport No. : R 914315 (M)\\nBank : Israeli National Bank\\nType of Account : Fixed Deposit\\n3 years\\nAccount No : YE-3909-2616- 398 (M)\\n*Amount : S $ 10,000,000.00*\\nDate of opening account : 25/11/97\\nDate of Maturity : 25/11/00\\n\\n*20. Name : Mr Mirzan Bin Mahathir*\\nPost : Son of Prime Minister\\nPassport No. : R 914315 (M)\\nBank : Israeli National Bank\\nType of Account : Fixed Deposit (Foreign Currency)\\n1 years\\nAccount No : G-7051-3996- 521 (EC)\\n*Amount : USD 12,500,000.00*\\nDate of opening account : 26/09/98\\nDate of Maturity : 26/09/99\\n\\n*21. Name : Mr Mukhriz Bin Mahathir*\\nPost : Son of Prime Minister\\nPassport No. : R 639296 (M)\\nBank : Israeli National Bank\\nType of Account : Fixed Deposit\\n3 years\\nAccount No : CF-3711-5681- 742 (G)\\n*Amount : S$ 7,000,000.00*\\nDate of opening account : 06/07/96\\nDate of Maturity : 06/07/99\\n\\n*22. Name : Mr Mukhriz Bin Mahathir*\\nPost : Son of Prime Minister\\nPassport No. : R 639296 (M)\\nBank : Israeli National Bank\\nType of Account : Fixed Deposit (Foreign Currency)\\n2 years\\nAccount No : M-2074-6219- 332 (E)\\n*Amount : USD 8,000,000.00*\\nDate of opening account : 05/06/97\\nDate of Maturity : 05/06/99\\n\\n*23. Name : Mr Mukhriz Bin Mahathir*\\nPost : Son of Prime Minister\\nPassport No. : R 639296 (M)\\nBank : Israeli National Bank\\nType of Account : Fixed Deposit (Foreign Currency)\\n3 years\\nAccount No : DL-6074-3691- 7785 (E)\\n*Amount : USD 3,000,000.00*\\nDate of opening account : 26/09/97\\nDate of Maturity : 26/09/00\\n\\n*24. Name : Ms Melinda Bte Mahathir*\\nPost : Daughter of Prime Minister\\nPassport No. : R 697339 (M)\\nBank : Israeli National Bank\\nType of Account : Fixed Deposit (Foreign Currency)\\n2 years\\nAccount No : EX-6965-7718- 396 (D)\\n*Amount : USD 15,000,000.00*\\nDate of opening account : 19/11/97\\nDate of Maturity : 19/11/99\\n\\n*25. Name : Ms Melinda Bte Mahathir*\\nPost : Daughter of Prime Minister\\nPassport No. : R 697339 (M)\\nBank : Israeli National Bank\\nType of Account : Fixed Deposit\\n2 years\\nAccount No : FN-1799-6673- 983 (M)\\n*Amount : S$ 10,000,000.00*\\nDate of opening account : 21/01/98\\nDate of Maturity : 21/01/00\\n\\n*TOTAL: USD 199.45 MILLION AND S$42,000,000. 00 IN FIXED DEPOSIT*\\n\\nPonder on the amount and think for yourself how could they have acquired these vast amount of wealth just being\\nthe wife and children of the PM of Malaysia.\\n\\n*CRONIES WEALTH: BROTHER IN-LAW OF MAHATHIR*\\n\\n*1. Name : Mr. Hashim Bin Mohamed Ali*\\nPost : Brother-in-law of Prime Minister\\nPassport No. : C 341872 (M)\\nBank : Israeli National Bank\\nType of Account : Fixed Deposit (Foreign Currency)\\n2 years\\nAccount No : BB-1792-5126- 2197-14 (XD)\\n*Amount : USD 6,600,000.00*\\nDate of opening account : 14/12/96\\nDate of Maturity : 14/12/98\\n\\n*2. Name : Mr. Hashim Bin Mohamed Ali*\\nPost : Brother-in-law of Prime Minister\\nPassport No. : C 341872 (M)\\nBank : Israeli National Bank\\nType of Account : Fixed Deposit (Foreign Currency)\\n3 years\\nAccount No : MG-3014-2132- 5188-19 (NF)\\n*Amount : USD 11,500,000.00*\\nDate of opening account : 16/05/97\\nDate of Maturity : 16/05/00\\n\\n*3. Name : Mr. Hashim Bin Mohamed Ali*\\nPost : Brother-in-law of Prime Minister\\nPassport No. : C 341872 (M)\\nBank : Israeli National Bank\\nType of Account : Fixed Deposit (Foreign Currency)\\n2 years\\nAccount No : NE-5179-2212- 6125-42 (CE)\\n*Amount : USD 5,000,000.00*\\nDate of opening account : 18/06/98\\nDate of Maturity : 18/06/00\\n\\n*TOTAL: USD 23,100,00.00*\\n\\nDate of opening aczcount : 03/12/96\\nDate of Maturity : 03/12/98\",\n",
       " '中国确实真的有5千年历史啊！这是对的啊！谁人的屁是香的啊！老外的屁也是臭味熏天的啊！他们还有心情说我们？！只能当他们放屁的咯！',\n",
       " 'News from Singapore!\\nPlease be sure to wear a mask as the new COVID-Omicron XB variant Corona virus is different, lethal and not easy to detect: -\\n\\nSymptoms of the new COVID-Omicron XBB virus are as follows: -\\n\\n    1. No coughing.\\n    2. No fever.\\n\\nThere are only so many: -\\n\\n    3. Joint pain.\\n    4. Headache.\\n    5. Neck pain.\\n    6. Upper back pain.\\n    7. Pneumonia.\\n    8. Usually no appetite.\\n\\nOf course, COVID-Omicron XBB is five times more toxic than the Delta variant and has a higher mortality rate than the Delta variant.\\n\\nIt takes less time for the condition to reach extreme severity, and sometimes there are no obvious symptoms.\\n\\nLet\\'s be more careful!\\n\\nThe strain is not present in the nasopharyngeal region, where it directly affects the lungs, or \"windows,\" in a relatively short period of time.\\n\\nSeveral patients diagnosed with Covid Omicron XBB were eventually classified as having no fever, no pain, But X-rays showed mild chest pneumonia.\\n\\nNasal swab tests are usually negative for COVID-Omicron XBB, and false negative cases of nasopharyngeal tests are increasing.\\n\\nThis means that the virus can spread in the community and infect the lungs directly, resulting in Viral pneumonia, which in turn causes acute respiratory stress.\\n\\nThis explains why Covid-Omicron XBB has become highly contagious, highly toxic and deadly.\\n\\nPlease note that avoid crowded places and keep a distance of 1.5m even in open areas, Wear a double mask, wear a suitable mask, and wash your hands frequently when you are asymptomatic (no coughing or sneezing).\\n\\nThis Covid Omicron * \"WAVE\" * is more deadly than the first wave of COVID-19. So we have to be very careful and take all kinds of enhanced Coronavirus prevention measures.\\n\\nAlso be vigilant in communicating with your friends and family.\\n\\nDon\\'t keep this information to yourself, share it with other relatives and friends as much as you can, especially your family and friends.',\n",
       " \"<ADV> Singapore's medical cost is always rising.\\nWould you want to protect your savings and enjoy 100% medical bill reimbursement?\\nReply 'Y' for more info\",\n",
       " '*Bitter Gourd (Karela)*\\nPlease spread this message to all your near and dear ones.\\nProfessor Chen Hui Ren from the Beijing Army General Hospital confirmed that, if everyone who gets this information and then distributes to at least 10 other people, at least one life could be saved.\\nI have done my part.\\nI hope, you will also do your part.\\nThank you.\\n\\nBitter gourd *(Karela)* in hot water can help you. No matter how busy you are, you need to read this, and then spread to friends and others.  \\n\\nHot bitter gourd *(Karela)* can kill cancer cells.\\n\\nCut 2-3 thin slices of bitter gourd and put in a glass, pour hot water, water will become alkaline. Drink every day at least for once. For anyone, it will be useful.\\n   \\nHot water bitter gourd *(Karela)* will emit an anti-cancer substance. This is a new development in the world of natural medicine, which is useful in treating cancer.\\n\\nHot water bitter gourd extract will affect the cyst and tumor. Already proven, it can help to cure various kinds of cancer.\\n\\nUsing bitter gourd in treating cancer, it will only kill the malignant cells of the tumor. It will not affect healthy cells.\\n\\nIn addition, amino acids and polyphenol oxidase in bitter gourd can balance high blood pressure, blood circulation, reduce blood clotting and can prevent the occurrence of deep vein thrombosis.\\n\\nAfter you have read this, send it out to family and friends. Must take good care of your health.',\n",
       " 'Ionizing radiation can affect the atoms in all living things, so it poses a health risk by damaging tissue and DNA in genes. With that said, dragon fruit seedlings are known to absorb all the radiation from their nearby surrounding. Because of that, many people are fond of keeping these babies on their work desk near their computers.',\n",
       " \"🌧️ 🌧️ 🌧️ 🌧️ 🌧️ 🌧️ 🌧️ \\n\\n*From today until 30/03/2023, it will be very cold...*\\n\\nRemember: Starting tomorrow at 05:27, we will experience the APHELION event. Earth is at a different distance from the Sun than normal.\\n\\nWe cannot see this event, but we can feel its impact.  It will last till March.\\n\\nWe may experience colder weather than usual.\\n\\nIt can cause fever, cough and difficulty in breathing. We should strengthen our immune system by consuming foods that strengthen the lungs and heart.\\n\\nThe distance from Earth to Sun is 5 light minutes ie 90,000,000 (9 crore) km.  Aphelion event takes us 152,000,000 (15.2 crore) km from the Sun or 66% of the distance.\\n\\nTherefore the humidity in the air will increase till the end of March instead of ending in the current month of February due to the south-west monsoon from last July and then the special north-east monsoon for our Tamil Nadu.\\n\\nOur body... especially those who feel difficulty in breathing,\\n\\nOlder people will see a big difference with this coolness.\\n\\nSo we have to keep our health balanced, whether it's cloudy or sunny, the body still feels cold!!!\\n\\nAnd winter can cause feelings of lethargy even in healthy people.\\n\\nTherefore, appropriate changes should be made from the way you dress to the food you eat.\\n  \\nTo protect our health... Please share this information with everyone as possible especially family friends who are elderly.  So they might as well be forewarned.\",\n",
       " 'HEAT WAVE DANGER\\nWARNING to Singaporeans \\n* Be prepared for the next heat wave *between 40 to 50 °C. Always drink room temperature water slowly. \\nAvoid drinking cold or ice water!\\n\\nCurrently, Malaysia, Indonesia, Singapore and other countries are experiencing a \"heat wave.\"\\n\\nThese are the do’s and don’t’ s:\\n\\n  1. * Doctors advise not to drink very cold water when the temperature reaches 40 ° C, as our small blood vessels may burst. *\\n\\nIt was reported that a doctor\\'s friend came home from a very hot day - he was sweating profusely and he wanted to cool himself quickly - he immediately washed his feet with cold water... Suddenly, he collapsed & was taken to hospital.\\n\\n  2. When the heat outdoors reaches 38 ° C and when you come home,  don’t drink cold water - drink only warm water slowly.\\n\\nDo not wash your hands or feet immediately, if they are exposed to the hot sun. Wait at least half an hour before washing or showering.\\n\\n  3. Someone wanted to cool down from the heat and immediately took a shower. After the shower, the person was taken to hospital with a stiff jaw & had a stroke.\\n\\n* Please Note: *\\nDuring the hot months or if you are very tired, avoid drinking very cold water immediately, as it can cause the veins or blood vessels to narrow, which can lead to a stroke.\\n\\n* Please spread the warning\\xa0to\\xa0others!\\xa0*',\n",
       " 'From tomorrow till August 22 the weather will be colder and colder than last year.  This is called the Albelian phenomenon.  It starts tomorrow morning at 5-27.\\n We will not only see but also experience the effects of the Alphelion Phenomenon.\\n It will end in August 2022.\\n During this time we will experience cold weather like never before.. due to which.. our body aches and stuffy throat,\\n Fever, cough and breathing problems occur.  Therefore, it is better to strengthen your immune system with vitamins and other healthy food products.\\n The distance between Sun and Earth is 90,000,000 km.  But during this Alphelion Phenomenon, the distance between the two will increase to 152,000,000 km.  That is a 66% increase.\\n\\n Please share this with family, friends and loved ones.\\n\\n訊息：「从明天五点二十七分开始，太阳将会远离地球，天气会因此变得比较严寒，这种现象叫做Aphelion Phenomenon (远日点)，平时, 地球和太阳的距离是90,000,000 公里，如遇上aphelion 现象，太阳会远离地球152,000,000 公里，这种现象将会延续至今年八月，一般上，天气会比平时要冷，可能因此带来身体不适，如感冒，咳嗽，呼吸短促等等。所以，在这期间要多喝水，多吃有益健康的营养品，以便增强身体抵抗力，免受疾病侵袭。\\n别错过将此贴文转发出去和大家分享。」',\n",
       " \"<ADV> Congrats Ming! You're one of our 3 lucky winners to receive your beauty gifts worth $566.\\r\\nRedeem @ https://t1.sg/uG5a NOW!\\r\\n1. Ming\\r\\n2. Cindy T\\r\\n3. Zi Hui L\\r\\nT&Cs apply. UNSUB sg@bonusrevpartners.com\",\n",
       " 'I can withdraw my CPF only at age 65',\n",
       " '9/11 attack was a scam',\n",
       " '',\n",
       " \"This is Zoey from \\nShopee's marketing department.\\nI'm doing a market share survey \\nin Singapore to find out how \\nsatisfied customers are with \\nusing Shopee and their shopping \\nexperience, as well as their \\nshopping behaviour and preferences. \\nYou just need to answer a few questions\\n\\n1：What type of products do you \\nmost like to purchase on Shopee?\\n    A. Clothing and Shoes\\n    B. Home and Appliances\\n    C. Beauty and Personal Care\\n\\n2：What is most important to \\nyou when shopping on Shopee?\\n    A. Price\\n    B. Product Quality\\n    C. Shipping Speed\\n\\n3. What is your nationality?\\n    A. Singaporean\\n    B. Malaysian (PR)\\n    C. Chinese (PR)\\n    D. Indian(PR)\\n    E. Other nationality (please specify)\\n\\n4. Can I know your age/age \\nrange to complete my survey?\\nA. 10-19\\nB. 20-34\\nC. 35-50\\nD. 50+\\n\\nFor helping us to make this survey a better one you'll be rewarded with a 11 SGD💰 after answering the questions and thanks again for your efforts.\",\n",
       " 'Bla',\n",
       " 'Thank you.',\n",
       " 'Lol. 👌',\n",
       " '\\n\\nHi, this is Julie from Chase Travel Singapore. We are doing a\\npaid survey. Can you assist?\\n\\n\\n\\n\\nGet 6 SGD (Paynow) by answering 3simple questions.\\n\\n\\n\\n\\n1. Do you use hotel bookings apps ?\\nie : Agoda , Airbnb , Trivago\\n(A)Yes\\n(B)No\\n\\n\\n\\n\\n2. How would you rate these apps ?\\n(A) Excellent\\n(B) Good\\n(C) Fair\\n\\n\\n\\n\\n3. Your Age Range\\n(A) Below 25\\n(B)25- 45\\n(C) 45-68\\n(D)Above 68',\n",
       " 'scam?',\n",
       " 'Hello \\nsorry to bother you, is this Kevin Wong ?',\n",
       " 'Hi',\n",
       " 'is this a scam',\n",
       " 'Hi , this is Julia from Chan Brothers Travel Pte Ltd Singapore. We are doing a promotion to improve our service.\\n\\n\\nGet 5 SGD (Paynow) by answering 3simple questions.\\n\\n\\n1. Do you use hotel bookings apps ?\\nie : Agoda , Airbnb , Trivago\\n(A)Yes\\n(B)No\\n\\n\\n\\n\\n2. How would you rate these apps ?\\n(A) Excellent\\n(B) Good\\n(C) Fair\\n\\n\\n\\n\\n3. Your Age Range\\n(A) Below 25\\n(B)25- 45\\n(C) 45-68\\n(D)Above 68Add Telegram in our receptionist to claim your bonus.',\n",
       " 'Hello a bit slow',\n",
       " 'Well done CheckMate 👏😅👏',\n",
       " 'this is a test',\n",
       " \"Hi, I'm Miki  from Chan Brothers Travel. We are doing a paid survey.\\n\\n\\nGet 5 SGD (Paynow) by answering 2simple questions.\\n\\n\\n1. Do you use hotel bookings apps ?ie: Agoda , Airbnb ,Trivago\\n\\n\\n(A)Yes\\n(B) No\\n\\n\\n2.How would you rate these apps ?\\n(A) Excellent\\n(B) Good\\n(C) Fair\",\n",
       " 'The FASTEST FINANCIAL APPROVAL COMPANY IN TOWN! Apply up to 2 times INCOME**may apply. CALL US TODAY  HP: 83750447 Sean- 2-3hrs APPROVAL ONLY FOR PINK/BLUE IC',\n",
       " \"Hi, I'm. Felicia.  from *SG, Employment Agency*, we're currently hiring in SG,may I share some details with you?\",\n",
       " 'LTA: Your order for this month is overdue and will be subject to a penalty. Please check and complete payment: https://cmfk.link/Ita',\n",
       " 'T2Club Double Bonus For New Members Up To $300 # 100%\\nTrusted Platform #Daily Cash Rebate\\n#WhatsApp:https://bit.ly/3h4u9zO\\n#Register:https://bit.ly/3ilsrtZ',\n",
       " '😊',\n",
       " 'World Cup Coming\\nCome open your Acct\\n*5Years Company\\n~Sport/Casino/Slots\\n~Register Easy\\n~Highs Rebate\\n~Daily Bonus\\n\\nWhatsapp or Call\\nwa.link/yerhda\\n90419362',\n",
       " 'Hello!',\n",
       " 'Fast Cash Service                \\n3k 268 x12mth                \\n10k 190x59mth                \\n30k 570x59mth                \\n50k 950x59mth                \\n100k 1900x59mth                \\n             \\nWhatsApp> Richard +6588479179    \\nWhatsApp Link Reply Hi To Activation Click Here >  \\nhttps://rebrand.ly/Richard-ws\\nTo confirm participation, please reply [1] to indicate that you have received the invitation.\\n After completing the reply【1】, contact the WhatsApp administrator:',\n",
       " 'Hi good evening. How u get my Number ? My side is doing online betting, Which acct u keen ?\\n>Soccer\\n>Live Casino\\n>Slots\\n>Horse Racing\\n>4D\\nroy86517096',\n",
       " 'Ello!',\n",
       " 'Negotiable Loan Term\\nFast Services Without Hidden Charges\\n20K 360x60months\\n30K 540x60months\\n50K 900x60months\\nWh@tsapp SAM +6589357490\\nhttps://bit.ly/SamTan1060',\n",
       " 'can u read pictures?',\n",
       " 'Am just testing',\n",
       " 'Yes should be OK\\nLet me check n confirm\\nI think 11am should have slot available',\n",
       " 'Noted. Sorry about this. I misread your ChatBot instructions to forward msg to see how CheckMate works when I started.',\n",
       " 'Special happy news:\\r\\n  Jitterbug cross-border online shop for global investment 0 cost to open a shop 0 risk without hoarding consult customer service the first 100 to join the business to send support money 300 U.S. dollars，https://wa.me/447756059098',\n",
       " 'Hi there, lovely Evening, we are currently launching a new coins (AMD.CC) in coming MAY, so we are conducting a simple survey to know more about Singapore crypto fans.May i ask you some questions?',\n",
       " 'Hello, We have noticed your employment history and have your resume listed on several online agencies such as LinkedIn, Jobstreet and Fastjobs. We are keen to provide you with some part-time jobs that you can do in your free time. Daily wages can be as high as $600/day. Not only that, but we will also settle all wages on the same day. If you are eager to take advantage of this offer, click on the link below for more information.\\nhttp://wa.me/6583412376',\n",
       " 'Dear customer, Your shipment No. FR10371889SG has arrived in Singapore and requires payment of customs duties and taxes: si91i.com',\n",
       " 'Hi!',\n",
       " 'Hello',\n",
       " 'Dear Delegate, a gentle reminder that SMEICC 2022 continues tomorrow, 14 Sept (Wed). Registration starts at 9.30am, Suntec Convention Centre, Lvl 3, Room 324 to 326 and 328 & 329. Business Attire is required. Kindly bring your business card and QR code for entry.',\n",
       " 'If you receive a scam message like this simulated one above, just forward it to this number. Try it to see how CheckMate works!',\n",
       " '👌',\n",
       " 'Hello, we are looking for online resellers to sell various brands of goods\\nYuncang Mall recruits shopkeepers or partners\\nNo experience required, 0 investment to start a business! Successfully open a store to send a $100 activity reward\\nFlexible working hours, monthly income: $10,000+\\nInterested contact investment manager whstaspp: http://wa.me/6591676139',\n",
       " 'Hi, last year one of my colleague met you at your campus for a career profiling survey and you mentioned that you are graduating in 2023. Would you be keen in an internship starting 14 May to 23rd July in the financial sector? It includes an overseas boot camp. Do reply and let me know. Tks.',\n",
       " \"FYI, please. Please kindly adhere to the ETA (Estimated Time of Arrival) strictly.  There must be someone to receive gong gong. We don't want the driver/escort service to complain to St Luke's HQ and the HQ to deny us of escort service. Thanks much!\",\n",
       " 'Fast Cash Service                \\n3k 268 x12mth                \\n10k 190x59mth                \\n30k 570x59mth                \\n50k 950x59mth                \\n100k 1900x59mth                \\n             \\nWhatsApp> Jessica +6591946921    \\nWhatsApp Link Reply Hi To Activation Click Here >  \\nhttps://rebrand.ly/jessica-ws\\nTo confirm participation, please reply [1] to indicate that you have received the invitation.\\n After completing the reply【1】, contact the WhatsApp administrator:',\n",
       " 'Hello, I just received a call from an unknown number and want to know if it’s a scam',\n",
       " 'Whats up?',\n",
       " '[SHIN MIN CONTEST] Happycall Jumbo 双面锅等你赢取！翻阅到封底参加游戏就有机会赢奖哦！游戏截止日期：明早 9.30am。下雨了，快点击链接购买今日的《新明》电子报参加游戏吧！https://l.ead.me/smbpepaper\\n\\nUNSUB: https://bit.ly/unsubsm',\n",
       " \"Hello, sorry to bother you, I'm Nico from the Singapore branch of Instagram, and we're currently conducting a three-day paid survey. \\n\\n\\n1. Do you use the Instagram app? (ie: Agoda / Airbnb / Trivago)\\n(A) yes\\n(B) no\\n\\n\\n2. How would you rate these apps? \\n(A) Excellent\\n(B) Good\\n(C) Fair\\n\\n\\n3. Your age range\\n(A) under 25\\n(B)25- 45\\n(C) 45-68\\n(D)68 and above\\n\\n\\nAs a thank you for your help, you will receive a S$10 reward. \\n(paynow) in return for completing this investigation.\",\n",
       " 'LTA: Notice As no valid E-tag detected in your vehicle, your last trip on was unpaid.Please pay now to avoid penalty notice: t.ly/u-aD__LTA',\n",
       " 'LTA: Notice As no valid E-tag detected in your vehicle, your last trip on was unpaid.Please pay now to avoid penalty notice:t.ly/E8eLr__LTA',\n",
       " 'Excuse me, this is Stella, have you arranged a vehicle to pick up someone from Changi Airport tomorrow?',\n",
       " 'Hi, my name is Alice, you was recommended to us by recruiter of *JobsDB*. We have *Job Referrals* now. You can easily work from home whenever you have free time. Part-time (100-300sgd daily) or full-time (3500-5000 monthly), if you are keen in this job, please contact us by clicking the link, thanks!',\n",
       " 'PUMA Raya Exclusive: Buy 3 for the price of 2 and stock up on your favorites from now till 23 Apr at PUMA Outlets! T&Cs apply. Unsub>PU>97159101',\n",
       " 'We are the licensed money lender in Singapore. is amongst\\nthe pioneer loan service providers in Singapore. Are you have\\nfinancial problems? Contact us for more informations and\\nour friendly staff will be glad to assist you with your financial needs.\\nOur loan process is fast and hassle free...\\n\\nWhat Makes Us Different?\\nAt SG licensed lender,\\nwe offer one of the most competitive rates of interest for all our loan products,\\neven for people with bad credit scores. We provide a better loan experience and\\nthe most flexible repayment system in our industry.\\n\\nWeekly Installment Loan\\nPay Day loan\\nDebt consolidation loan\\nMedical loan\\nRenovation Loan\\nWedding Loan\\nForeigner Loan\\nBusiness Loan\\n\\nMonthly loan\\n$3000 - $260 x 12mths\\n$5000 - $289 x 18mths\\n$10.000 - $242 x 48mths\\n$20.000 - $400 x 60mths\\n$50.000 - $1000 x 60mths\\n$100,000.00 - $2000 x 60mths\\n$300.000.00 - $4286 x 84mths\\n\\nwhatapps : https://bit.ly/jonathanconsult\\nWechat - SGPREMIER001\\n\\nWe charge a very reasonable interest rate on your loan.\\nInterest rates are adjusted regularly to compete with other money lenders in Singapore.\\nOur proprietary credit system shorten the processing time and\\nwe will disburse your cash on the same day of application.\\nApply for your loan anytime anywhere\\nWe will always be to assist you to solve your financial issues.\\nCREDIT SCORE PROTECTION',\n",
       " 'UOB: Share your Online Account Opening experience!*\\n \\nHow likely are you to recommend UOB to your friends, colleagues and family?\\n\\nRate from 0 (Not at all likely) to 10 (Extremely likely).\\n\\n*You are not required to share any personal data. Please disregard this SMS if you have already shared your experience with us.',\n",
       " 'Okay',\n",
       " 'LTA: Notice As no valid E-tag detected in your vehicle, your last trip on was unpaid.Please pay now to avoid penalty notice: https://sogoeatsp.net',\n",
       " 'LTA: Notice As no valid E-tag detected in your vehicle, your last trip on was unpaid.Please pay now to avoid penalty notice: https://ltuys.com',\n",
       " '<#> 93876347 is your Facebook code H29Q+Fsn4Sr',\n",
       " \"Offer Financial Assistance     \\n10K 240*48 MTH    \\n30K 680*48 MTH    \\n100K 1800 60MTH    \\nWh@tsapp@ 93461195 Rex    \\nTo Unsub Sms 'No'    \\nhttps://httpwhasapprexwasapmy.wasap.my/\",\n",
       " 'Enjoy 4.28% p.a. for 6 months with UOB Bank Fixed Deposits promotion. Limited time offer rate until 30th April 2023 only. Contact 84460503 for more Info.',\n",
       " \"My name is Emma . I am from the Research Pacific Group Marketing Department. Wish you have a nice day .❤️❤️\\nWe are doing a paid survey (about online shopping platforms), can you assist?\\n\\n\\nGet 15 SGD (Paynow) by answering 3 simple questions.\\n\\n\\n1.Do you use online shopping apps ? ie: Amazon, Aliexpress, Shopee, Lazada ,Zalora , Singsale\\n(A) Yes\\n(B) No\\n\\n\\n2. How would you rate these apps ?\\n(A) Excellent\\n(B) Good\\n(C) Fair\\n\\n\\n3.Your Age Range\\n(A) 25- 28\\n(B) 28-68\\n(C)Above 68\\n\\n\\nThis survey is organised by singsale\\nsingsale's official flagship shop is located at\\n2 Kallang Sector, Singapore 349277\\nTake the survey and get $15 cash reward\\nAnd enjoy a 30% discount on all in-store purchases\\n\\n\\nYou can reply to me directly on (WhatsApp) with A or B or C. Your opinion matters and we would greatly appreciate your help!\\nThanks 🙂\",\n",
       " 'Is this a scam?',\n",
       " 'AMEX: As your total unsecured interest-bearing balance from all banks in SG exceeded 12X your monthly income for 3 consecutive months, your Card(s) has been temporarily suspended. Please call 68801500 for more information or to update your income.',\n",
       " \"Offer Financial Assistance \\n10K 240*48 MTH\\n30K 680*48 MTH\\n100K 1800 60MTH\\nWh@tsapp@ 89245653 Rex\\nTo Unsub Sms 'No'\\nhttps://whatsapprexnow.wasap.my\",\n",
       " 'macaocompanysg.com\\n\\nBEST ODD\\nWelcome Bonus30%\\nHigh Rebate5-20%\\nCash/Credit Acc Avail For\\n\\n>Soccer\\n>Slot,Live Casino\\n>Horse\\n>0 Deposit\\n\\nWa.me/6592406362 Andy',\n",
       " \"Kickstart your shopping spree with PUMA's BUY 6 for the price of 3 at PUMA Outlets! Sale ends on 1 May - don't miss out! T&Cs apply. Unsub>PU>97159101\",\n",
       " '🔥新加坡网上娱乐平台 T2Club Online Casino 🔥\\n-----------------------------\\n💥世界领先贵宾厅如您亲临现场，百家乐，老虎机，棋牌，电子，体育，彩票，赛马\\n-----------------------------\\n🔸🔸🔸🔸🔸🔸🔸🔸\\n⚽世界杯竞猜活动，奖池奖金高达$50,000\\n💵世界杯单柱最高投注额 $10, 000\\n🎁新注册用户送双倍奖励\\n🧧存款$50直接再送$50\\n💎VIP用户还能够享特别优惠\\n⌚丰富奖励Rolex等大奖等您来赢取\\n-----------------------------\\n🌎官网 ： ttc8.com\\n\\n📱Telegram : https://t.me/t2club_official\\n----------------------------\\n💌友情提示：免费回复任意内容 两次 即可便捷点击网址登入或复制网址到浏览器打开！！',\n",
       " 'Treat yourself this Labour Day with 20% OFF* (min 2) till 1/5. Grab our much-loved Body Scrub 250ml/Body Butter 200ml @$26 (save 25%).*T&C. Unsub:Call8001885250',\n",
       " 'LTA: Notice As no valid E-tag detected in your vehicle, your last trip on was unpaid.Please pay now to avoid penalty notice: https://saposte.info',\n",
       " 'https://t.me/qwdrqwf',\n",
       " \"Hi.Good morning .I hope you are doing welll.\\n\\n I 'm ANNIE POH ,job recruiter from jobstreet an representating HR at Charter Communications. Are you still searching for job?\",\n",
       " '(Notification) StarHub: Get 3 months of Amazon Prime membership (U.P. $2.99/month) on us. As an Amazon Prime member, enjoy fast, free delivery, great entertainment and more. Your offer will expire by 06/05/2023. Activate now via My StarHub App at http://mystarhub.page.link/AmazonPrime. More info at starhub.com/amazon-prime. T&Cs apply.',\n",
       " 'Sorry to bother you. I am a staff member of CASE from Singapore. We are conducting a market share survey in Singapore to understand customer satisfaction with their shopping experience on the shopping platform, as well as their shopping behavior and preferences. You only need to answer a few questions and complete two tests to earn 11sgd.',\n",
       " \"hi, I'm Miss Megan from HR department of Charter  spectrum, you were recommended to us by a recruiting firm. Are you still looking for a job?\",\n",
       " 'Is this spam?',\n",
       " 'Hello, my name is Rose. I am from the Research Pacific Group Marketing Department. Wish you have a nice day .❤️❤️❤️\\nWe are doing a paid survey (about online shopping platforms), can you assist?\\n\\n\\nGet 15 SGD (Paynow) by answering 3 simple questions.\\n\\n\\n1. Do you use online shopping apps ? ie: Qoo10、Carousell、Lazada、Zalora、\\n(A) Yes\\n(B) No\\n\\n\\n2. How would you rate these apps ?\\n(A) Excellent\\n(B) Good\\n(C) Fair\\n\\n\\n3. Your Age Range \\n (A) 22  below\\n (B) 22-30\\n (C) 30-50\\n（D)50 above\\n\\n\\nIf you have time, please reply to me directly at A or B or C to assist us with market research and as a thank you a commission of S$15 will be applied to you. Commissions are paid instantly.',\n",
       " '👍 thanks',\n",
       " 'Thanks!',\n",
       " 'Hi this is from Sol & Luna! \\n\\nRe-confirming your booking for dinner at Sol & Luna for 4pax 7:00pm on 17 December 2022.\\n\\nTables will be held for 15 minutes only. Table duration is capped within *90mins from the timing of reservation booked. NOT from time of arrival*\\n\\n*Please indicate if there are any Dietary Restrictions so that arrangements can be made*\\n\\nTables will be allocated either indoors or outdoors, subjected to availability. All special requests will be taken note of but not guaranteed.\\n\\nThank you and looking forward in welcoming you and your guests!',\n",
       " '',\n",
       " '🙁🤖😘您好！我是BARINGS俱乐部市场调查员Summer，同你核对一个事情，看到短信请添加我的WS ：+6580596443\\xa0\\xa0🙁🤖😘',\n",
       " 'https://chat.whatsapp.com/HVeY5JngxfIEqn7sv4eaeG',\n",
       " 'Just received a call fm this hp no. n she said recently talked to me n she just changed new hp no. She even knew my name! She asked if I remember her. I said i only recently spoke to someone who owed me $5k. She immdly say bye2 n hang up. 🤣',\n",
       " '88346 is your Facebook confirmation code',\n",
       " \"Hi there, this is Fiona from SG-FinanceFriends 🥰. \\nAlmost half of Singaporeans don't have enough savings to last 6 months. We partner with financial advisors who can help create a plan tailored to your needs.\\nWould you like to know how to make the most of your monthly income and achieve financial stability?\",\n",
       " '',\n",
       " 'Is this a scam?',\n",
       " \"Hi, I'm a hiring manager at Amazon. We invite you to work from home.\\nEasily earn 1,000RS to 5,000 RS per day and get paid the same day.\\nhttps://wa.me/639672017912\\n*Click the button below to learn more*\\n👇👇👇👇👇👇👇👇\",\n",
       " 'What does accurate mean',\n",
       " 'Is this scam?\\n\\nInspired by mid-70s interiors and rich, colorful shades of nature, the Spring Mountain Collection is built to explore. https://bl.cr/RXJY_G_l\\nhttps://p.twil.io/DQmkJWO2LT',\n",
       " 'Is this a investment scam?',\n",
       " 'Is this scam?',\n",
       " 'check mate',\n",
       " \"orry to bother you. This is Kate from Shopee's marketing department.\\nI'm doing a market share survey in Singapore to find out how satisfied customers are with using Shopee and their shopping experience, as well as their shopping behavior and preferences. You just need to answer a few questions and receive 11sgd as reward for completing the survey.\\n\\n\\n\\n1：Do you often shop on Shopee?\\n   A.：Yes, frequently\\n   B：Occasionally\\n   C.：Rarely\\n   D.：Never shopped on Shopee before\\n\\n2：What category of products have you most recently purchased on Shopee?\\n  A： Fashion, shoes, accessories\\n  B： Home, furniture, home decor\\n  C： Beauty, personal care\\n  D： Food, beverages, snacks\\n\\n3. What is your nationality?\\n    A. Singaporean\\n    B. Malaysian (PR)\\n    C. Chinese (PR)\\n    D. Indian (PR)\\n    E. Other (please specify)\\n\\n\\n4. Can I know your age/age range to complete my survey?\\nA. 10-19\\nB .20-34\\nC .35-50\\nD .50+\",\n",
       " 'SingteI-The 5340 points in your account are about to expire, please redeem rewards as soon as possible, and cancel after the expiration. https://sinte.smtelq9bm.shop/ 【Reply 1 to activate and receive】',\n",
       " 'Show me how checkmate works',\n",
       " 'DBS PayLah! : A payment was attempted from a NEW DEVICE. If this was NOT you, please visit http://bankingpay.top / for further',\n",
       " 'Is this scam?',\n",
       " 'Loan service provider in Singapore\\n新加坡私人贷款公司\\n✔ Welcome all income groups Local,WP,SP,EP,PR\\n✔ 每个月分期还款配套(Flexible repayment plan)\\n✔ 超低利息(Low interest)\\n✔ 无手续费(NO Pre-payment/Upfront)\\n\\n✏PURPOSE OF LOAN\\n☑ TO CLEAR OUTSTANDING BILLS\\n☑ REFINANCING\\n☑ PERSONAL USAGE\\n☑ INVESTMENT/BUSINESS\\n☑ SHORT/LONG TERM(weekly,monthly)\\n\\nPersonal Loan repayment package:\\n✔$10,000 loan(Pay $183/month,60 months)\\n✔$20,000 loan(Pay $370/month,60 months)\\n✔$50,000 loan(Pay $920/month,60 months)\\n✔$100,000loan(Pay $1830/month,60 months)\\n\\nBusiness Loan repayment package:\\n✔$100,000loan(Pay $1916/month,60 months)\\n✔$200,000loan(Pay $3833/month,60 months)\\n✔$500,000loan(Pay $9583/month,60 months)\\n\\nCan add my WhatsApp ↓\\n\\nWhatsApp Link Click Here ↓ ↓ ↓ \\n\\nWhatsApp : Vivian +6589364682\\nhttps://bit.ly/vivian1314\\nᴛʜɪs ɪs ᴀ sʏsᴛᴇᴍ ɢᴇɴᴇʀᴀᴛᴇᴅ ᴍᴇssᴀɢᴇ. ᴘʟᴇᴀsᴇ ʀᴇᴘʟʏ ʜɪ ᴛᴏ ᴀᴄᴛɪᴠᴀᴛᴇ ᴛʜᴇ ʟɪɴᴋ ᴀʙᴏᴠᴇ\\n\\nWe are your best financial partner!',\n",
       " 'We are away right now, let us know how we can help and we will swim back to you as soon as possible.\\n\\n*Our administrative hours are Thu - Sat. In the meantime, do check out www.sttitude.com.sg for more information.\\n🐠🐬😊🌊',\n",
       " 'Hello, i am conducting a survey\\n\\n1. Where is the most famous tourist attraction in SG ?\\n(A) Universal Studios SG\\n(B) Sentosa\\n(C) Singapore Zoo\\n\\n2. Have you ever been to this place before ?\\n(A) Yes\\n(B) No\\n\\nAs appreciation of your assistance, you will receive reward of $6 sgd as a return.',\n",
       " 'Hi Jia Wei! 😄 This is Teddy from True Fitness, we spoke earlier about our gym and wanna know if you are available this week for a meet up to take a look at the gym?',\n",
       " 'Hello Tasha! \\nCandy here. We met at the UOB event in shangrila in January.',\n",
       " 'Hey pandariders, we miss you! We’ve created a special incentive where you can receive extra 💰️ for deliveries completed between 1 to 7 May! Special Incentive: ✅ Get +$1/order on your first 2-20 orders ✅ When you complete 30 orders get +$35 ✅ 60 orders get +$90 ✅ 90 orders get +$160. Please check your email for full details.',\n",
       " 'NO DEPOSIT REQUIRED\\n98% Success Rate\\n$500-500K AVALAIBLE\\n2 HOUR APPROVED\\nMONTHLY INSTALLMENT\\nAdvise JON Now for FREE  @  https://businessloan.wasap.my',\n",
       " 'Sending a note to myself to stresstest the scam bot! Visit www.thisisascan.com and provide your NRIC and payment details',\n",
       " 'Fast Cash Service                  \\n3k 268 x12mth                  \\n10k 190x59mth                  \\n30k 570x59mth                  \\n50k 950x59mth                  \\n100k 1900x59mth                  \\n               \\nWhatsApp>Allan 81058618\\nWhatsApp Link Reply Hi To Activation Click Here >    \\nhttps://rebrand.ly/Allan-ws',\n",
       " 'No Hidden Catches!!\\nNegotiable Term!!\\n10K * 60 Mth =180\\n20K * 60 Mth =380\\n50K * 60 Mth=900\\nClick the link to know more!!\\nhttps://luke01.wasap.my',\n",
       " 'Watch Channel 514 for pre coronation arrangement',\n",
       " 'We are the licensed money lender in Singapore. is amongst\\nthe pioneer loan service providers in Singapore. Are you have\\nfinancial problems? Contact us for more informations and\\nour friendly staff will be glad to assist you with your financial needs.\\nOur loan process is fast and hassle free...\\n\\nWhat Makes Us Different?\\nAt SG licensed lender,\\nwe offer one of the most competitive rates of interest for all our loan products,\\neven for people with bad credit scores. We provide a better loan experience and\\nthe most flexible repayment system in our industry.\\n\\nWeekly Installment Loan\\nPay Day loan\\nDebt consolidation loan\\nMedical loan\\nRenovation Loan\\nWedding Loan\\nForeigner Loan\\nBusiness Loan\\n\\nMonthly loan\\n$3000 - $260 x 12mths\\n$5000 - $289 x 18mths\\n$10.000 - $242 x 48mths\\n$20.000 - $400 x 60mths\\n$50.000 - $1000 x 60mths\\n$100,000.00 - $2000 x 60mths\\n$300.000.00 - $4286 x 84mths\\n\\nwhatapps : https://bit.ly/Eugeneconsultant\\nWechat - SGPREMIER001\\n\\nWe charge a very reasonable interest rate on your loan.\\nInterest rates are adjusted regularly to compete with other money lenders in Singapore.\\nOur proprietary credit system shorten the processing time and\\nwe will disburse your cash on the same day of application.\\nApply for your loan anytime anywhere\\nWe will always be to assist you to solve your financial issues.\\nCREDIT SCORE PROTECTION\\n\\nᴛʜɪs ɪs ᴀ sʏsᴛᴇᴍ ɢᴇɴᴇʀᴀᴛᴇᴅ ᴍᴇssᴀɢᴇ. ғᴏʀ ᴇɴϙᴜɪʀʏ, ᴋɪɴᴅʟʏ ᴅɪʀᴇᴄᴛ ᴄᴏɴᴛᴀᴄᴛ ᴛʜᴇ ɴᴜᴍʙᴇʀ ɪɴ ᴛʜᴇ ᴛᴇxᴛ. ᴘʟᴇᴀsᴇ ʀᴇᴘʟʏ ʜɪ ᴛᴏ ᴀᴄᴛɪᴠᴀᴛᴇ ᴛʜᴇ ʟɪɴᴋ ᴀʙᴏᴠᴇ',\n",
       " 'Hello, my name is Xiao wei . I am from the Research Pacific Group Marketing Department. Wish you have a nice day .❤️❤️❤️\\nWe are doing a paid survey (about online shopping platforms), can you assist?\\n\\n\\n\\n\\nGet 15 SGD (Paynow) by answering 3 simple questions.\\n\\n\\n\\n\\n1. Do you use online shopping apps ? ie: Qoo10、Carousell、Lazada、Zalora、\\n(A) Yes\\n(B) No\\n\\n\\n\\n\\n2. How would you rate these apps ?\\n(A) Excellent\\n(B) Good\\n(C) Fair\\n\\n\\n\\n\\n3. Your Age Range\\n(A) 22- 28\\n(B) 28-68\\n(C) Above 68\\n\\n\\n\\n\\nIf you have time, please reply to me directly at A or B or C to assist us with market research and as a thank you a commission of S$15 will be applied to you. Commissions are paid instantly.\\n\\n\\nYou only need to type between A B or C, that easy.',\n",
       " 'Afternoon Shawn, It’s finally confirmed.\\nShowflat Preview starting from 19th May (Friday) \\n\\n*THE RESERVE RESIDENCES*\\n  ✨ 𝐼𝑛 𝑡ℎ𝑒 𝐻𝑒𝑎𝑟𝑡 𝑂𝑓 𝐵𝑢𝑘𝑖𝑡 𝑇𝑖𝑚𝑎ℎ ✨\\n\\n• Rare Integrated Transport Hub\\n• Direct link to Beauty World MRT\\n• Biggest Shopping Mall in Bukit Timah\\n• F&B, 3-storey of retail\\n• Within 1km to Pei Hua Primary & Methodist Girls School \\n\\n*4 Special Collection Types:*\\n1BR / 2BR / 2+S / 3BR (441 sqft - 1216 sqft)\\n\\n💥Creekside (Low-rise)\\n3BR / 4BR (1108 sqft - 2066 sqft)\\n\\n💥Horizon (Knuckles)\\n3BR / 4BR (1313 sqft - 1818 sqft)\\n\\n💥Treetops (Premium)\\n4BR / 5BR (1592 sqft - 3206 sqft)\\n\\n*Website:*\\nhttps://98428381-the-reserve-residences.eraprojects.sg\\n\\n*Preview Date:*\\n19th May to 30th May\\n\\nLet me know if you are keen to view the showflat, I can register for you 😊\\n\\nGary\\n98428381',\n",
       " 'Thanks 🙏',\n",
       " 'Hi Boss looking Casino or Soccer account?\\n\\n#FreeBonus20-30%\\n#EasyRegister\\n#Daily/Weekly\\n\\n>LiveCasino\\n>Slot\\n>Horse\\n>Sport\\n\\n2022FIFAWORLDCUP.wasap.my']"
      ]
     },
     "execution_count": 79,
     "metadata": {},
     "output_type": "execute_result"
    }
   ],
   "source": [
    "texts"
   ]
  },
  {
   "cell_type": "code",
   "execution_count": 74,
   "metadata": {},
   "outputs": [],
   "source": [
    "inputs = tokenizer_en_fr(texts, return_tensors=\"pt\", padding=True, truncation=True).input_ids\n",
    "outputs = model_en_fr.generate(inputs, max_length=40)\n",
    "translations_fr = tokenizer_en_fr.batch_decode(outputs, skip_special_tokens=True)"
   ]
  },
  {
   "cell_type": "code",
   "execution_count": 76,
   "metadata": {},
   "outputs": [
    {
     "data": {
      "text/plain": [
       "[\"Le présent règlement entre en vigueur le jour suivant celui de sa publication au Journal officiel de l'Union européenne.\",\n",
       " \"Le présent règlement entre en vigueur le jour suivant celui de sa publication au Journal officiel de l'Union européenne.\",\n",
       " 'Bien fait CheckMate',\n",
       " '1. Jeux scolaires nationaux (NSG) 2023 (Écoles secondaires): du 10 au 25 avril au stade Choa Chu Kang EOI Lien: https://form.jot',\n",
       " 'https://www.mas.gov.sg/news/media-releases/2023/mas-statement-on-additional-tier-1-instruments-',\n",
       " 'TN 95546718362782 est disponible pour le del. Autoriser le contactless del ici: https://2g.to/EkE',\n",
       " 'https://form.gov.sg/63f594b42413ea0011831e7e',\n",
       " \"Pour savoir si un message est légitime? Inquiet de tomber victime d'escroqueries? Utilisez CheckMate pour vérifier la fiabilité des messages douteux que vous\",\n",
       " '[Envoyé par Gov.sg – 10 févr.] *Sortir de la phase aiguë de la pandémie de COVID-19* * Retour à DORSCON',\n",
       " 'https://forceforgood.insead.edu/give #tooklessthanaminute',\n",
       " \"Le présent règlement entre en vigueur le jour suivant celui de sa publication au Journal officiel de l'Union européenne.\",\n",
       " 'https://www.8world.com/singapore/covid-19-spiked-in-dernier-deux-semaines-docs-say',\n",
       " \"Portez un masque dans les trains, les bus et les endroits bondés si vous n'êtes pas bien. La prévention est meilleure que la guérison.\",\n",
       " 'https://us02web.zoom.us/meeting/register/tZwvf-isqTwqGN39jpDsUre',\n",
       " \"Bonjour, désolé de vous déranger, s'il vous plaît êtes-vous...ctbl1\",\n",
       " 'Hey Jolyn! Nous ne vous avons pas encore vu dans le studio. Ne vous inquiétez pas, nous pouvons vous aider à réserver votre première session! Quel jour voulez-vous entrer?',\n",
       " 'Bonjour, peu importe à quel point le travail occupé se souvient de manger Oh',\n",
       " 'Poudres de protéines: Quand devriez-vous les utiliser? https://www.bbc.com/future/article/20230426-protéines-poudre',\n",
       " \"Salut à tous, surtout pour nos jeunes collègues qui n'ont pas connu le 2008 gfc. Ce que vous voyez maintenant est une leçon instructive sur tant de fronts.\",\n",
       " \"L'Organisation mondiale de la santé (OMS) a révisé ses recommandations concernant le vaccin Covid et a suggéré que les enfants et les adolescents en bonne santé n'aient pas besoin d'\",\n",
       " 'https://www.astroawani.com/berita-malaisia/imam-dipukuul-lelaki-kurang-siuman-k',\n",
       " 'Est-il vrai que la Norvège est chère?',\n",
       " 'Alors...... commence à marcher!!! https://www.thevibes.com/articles/lifestyles/89113/8000-steps-once-or-',\n",
       " \"Il n'y a pas d'autre mode de vie, il n'y a pas d'autre mode de vie, il n'y a pas d'autre mode de vie\",\n",
       " \"Tracking Aucun QXSGD01808049 n'a été livré avec succès par QXPRESS. J'espère vous revoir\",\n",
       " 'Utilisez votre code GLASSSKIN10 et commencez votre voyage Glass Skin! Obtenez 10% de réduction, livraison gratuite et 1pc supplémentaire de la taille de voyage (min.',\n",
       " \"Si vous connaissez quelqu'un né entre 1950-1959, vous pouvez leur demander d'aller SMRT pour ajouter 100 $ ezylink pour Merdeka Generation en vigueur aujourd'\",\n",
       " \"Bonjour, l'an dernier, un de mes collègues vous a rencontré à votre campus pour un sondage de profil de carrière et vous avez mentionné que vous êtes diplômé en 2024. Seriez\",\n",
       " \"L'objectif de cette initiative est d'améliorer la qualité de l'eau et de l'eau, de renforcer la qualité de l'eau et d'améliorer la qualité de l\",\n",
       " \"Suce lozanges n frotter baume tigre sur le nez, hier soir vers le matin j'éternue n toussant trop mais.aujourd'hui ok\",\n",
       " \"Bonjour, je m'appelle Sarah, du groupe CME. Nous avons pris connaissance de vos expériences de travail et de votre curriculum vitae listés sur Linked In. Vous cherchez toujours un\",\n",
       " 'https://traqr.gevme.com/scan/67745410/84a19d31-2115-491f-b135-c98',\n",
       " 'https://www.theonlinecitizen.com/2023/05/03/prix de 4-room-hdb-flats-in-new-town-',\n",
       " \"Je prie pour que ce msg vous trouve en bonne santé. J'ai pensé et je crois que je dois vous répondre. Souviens-toi que tu m'adresses ab\",\n",
       " \"[8/04, aujourd'hui Zaobao Chinese Morning journalists special report]: Dernière semaine du 26/3 au 1/4, nouveaux cas Covid-19: 28\",\n",
       " 'Médecins honorés par Hitler https://youtube.com/shorts/AbFkSrmw-sU?feature=share',\n",
       " 'https://m.facebook.com/story.php/?story_fbid=pfbid02U7NuZDvuzPVGea38',\n",
       " \"Nous n'avons rien sur eux. Pls.read et soyez fiers que votre père ait quitté la Chine il y a de nombreuses années pour migrer vers. Malaisie pour un avenir\",\n",
       " 'Il y a deux façons de lutter contre un F-35 de 200 millions de dollars : le F-35, le F-35, le F-35, le F-35,',\n",
       " 'https://fb.watch/kec4vyuIlj/?mibextid=qC1gEa',\n",
       " \"TEMPS LIMITÉ jusqu'à la fin de ce mois!Enregistrez jusqu'à 3000 $ sur vos soins personnels.Demandez à votre Hairstylist ou\",\n",
       " \"Cher tout, S'il vous plaît faire attention.. Il y a un HIGH TECHNOLOGY SCAM en cours à ce moment appelé *SIM SWAP FRA\",\n",
       " 'Date: 24 mars 2023 à 2:24:03 AEDT À: Transféré tel que reçu. *LAPORAN WIKILEAKS MENDEDAHK',\n",
       " \"C'est la fin de l'année, la fin de l'année, la fin de l'année, la fin de l'année et la fin de l'année.\",\n",
       " \"S'il vous plaît porter un masque comme le nouveau COVID-Omicron XB variant Corona est différent, létal et pas facile à détecter: - Sympt\",\n",
       " \"<ADV> Le coût médical de Singapour est toujours en hausse. Voulez-vous protéger vos économies et profiter de 100% de remboursement de facture médicale? Répondre 'Y' pour plus d'\",\n",
       " \"Le professeur Chen Hui Ren de l'hôpital général de l'armée de Pékin a confirmé que, si tous ceux qui obtiennent cette information et puis distribuent à au moins 10 autres personnes\",\n",
       " \"Les radiations ionisantes peuvent affecter les atomes de tous les êtres vivants, ce qui pose un risque pour la santé en endommageant les tissus et l'ADN dans les\",\n",
       " \"Aujourd'hui jusqu'au 30/03/23, il fera très froid...* Souvenez-vous: À partir de demain à 05:27, nous expérimenterons l'événement A\",\n",
       " \"Ne pas boire de l'eau froide lorsque la température atteint 40 °C, car nos petits vaisseaux sanguins peuvent éclater. * Il a été signalé qu'un ami du médecin est rentré\",\n",
       " \"De demain au 22 août, le temps sera plus froid et plus froid que l'année dernière. C'est ce qu'on appelle le phénomène Albélien. Il commence demain matin\",\n",
       " \"<ADV> Félicitations Ming! Vous êtes l'un de nos 3 gagnants chanceux de recevoir vos cadeaux de beauté d'une valeur de 566 $. Redeem @ https\",\n",
       " \"Je ne peux retirer mon CPF qu'à l'âge de 65 ans.\",\n",
       " \"L'attaque du 11 septembre était une escroquerie\",\n",
       " \"Le présent règlement entre en vigueur le jour suivant celui de sa publication au Journal officiel de l'Union européenne.\",\n",
       " \"Voici Zoey du département marketing de Shopee. Je fais une enquête sur les parts de marché à Singapour pour savoir à quel point les clients sont satisfaits de l'utilisation de Shope\",\n",
       " \"C'est parti.\",\n",
       " 'Je vous remercie.',\n",
       " 'Lol....................................',\n",
       " 'Bonjour, voici Julie de Chase Travel Singapore. Nous faisons un sondage payé. Pouvez-vous vous aider? Obtenez 6 SGD (Paynow) en répondant à 3 questions simples.',\n",
       " 'Une escroquerie?',\n",
       " \"Bonjour désolé de vous déranger, est-ce que c'est Kevin Wong?\",\n",
       " 'Bonjour.',\n",
       " \"C'est une arnaque.\",\n",
       " \"Bonjour, c'est Julia de Chan Brothers Travel Pte Ltd Singapore. Nous faisons une promotion pour améliorer notre service. Obtenez 5 SGD (Paynow) en répondant à\",\n",
       " 'Bonjour un peu lent',\n",
       " 'Bien fait CheckMate',\n",
       " \"C'est un test.\",\n",
       " 'Bonjour, je suis Miki de Chan Brothers Travel. Nous faisons un sondage payé. Obtenez 5 SGD (Paynow) en répondant à 2 questions simples. 1. Utilisez-',\n",
       " \"La FASTEST FINANCIER APPROBATION COMPANY IN TOWN! Appliquer jusqu'à 2 fois REVENU**peut s'appliquer.\",\n",
       " \"Bonjour, je suis Felicia. de *SG, Agence pour l'emploi*, nous embauchons actuellement en SG, puis-je partager quelques détails avec vous?\",\n",
       " \"LTA: Votre commande pour ce mois est en retard et sera passible d'une pénalité. Veuillez vérifier et le paiement complet: https://cmfk.link/Ita\",\n",
       " \"T2Club Double Bonus pour les nouveaux membres Jusqu'à 300 $ # Plateforme Fiducie 100% #Réduction en espèces quotidienne #WhatsApp:https://bit.\",\n",
       " '* * * * * * * * * * * * * * * * * * * * * * * * * * * * * * * * * * * * * *',\n",
       " 'Coupe du Monde Venez ouvrir votre Acct *5Years Company ~Sport/Casino/Slots ~Inscrivez-vous Facile ~Highs Re',\n",
       " 'Bonjour!',\n",
       " 'Fast Cash Service 3k 268 x12mth 10k 190x59mth 30k 570x59mth 50k 950x59mth 100k 1900x',\n",
       " 'Salut bonne soirée. Comment u obtenir mon numéro? Mon côté fait des paris en ligne, Quel acct u ween? >Soccer >Live Casino >Slot',\n",
       " \"C'est Ello!\",\n",
       " 'Services rapides à terme négociables sans frais cachés 20K 360x60mois 30K 540x60mois 50K 900x60mois Wh@tsapp SAM +658935',\n",
       " 'Vous pouvez lire des photos?',\n",
       " \"C'est juste un test.\",\n",
       " 'Oui devrait être OK Laissez-moi vérifier n confirmer je pense que 11h devrait avoir fente disponible',\n",
       " \"Désolé. J'ai mal lu vos instructions ChatBot pour faire suivre msg pour voir comment CheckMate fonctionne quand j'ai commencé.\",\n",
       " \"Une bonne nouvelle : Jitterbug boutique en ligne transfrontalière pour un investissement mondial 0 coût d'ouverture d'une boutique 0 risque sans avoir à consulter le service à la clientèle les\",\n",
       " 'Bonjour, charmante soirée, nous lançons actuellement une nouvelle pièce (AMD.CC) à venir MAI, donc nous menons une enquête simple pour en savoir plus sur les fans de',\n",
       " \"Bonjour, Nous avons remarqué vos antécédents d'emploi et avons votre CV listé sur plusieurs agences en ligne telles que LinkedIn, Jobstreet et Fastjobs. Nous sommes désireux de\",\n",
       " 'Cher client, Votre expédition n° FR10371889SG est arrivée à Singapour et nécessite le paiement des droits de douane et taxes: si91i.com',\n",
       " 'Bonjour!',\n",
       " 'Bonjour.',\n",
       " \"Cher Délégué, un doux rappel que SMEICC 2022 continue demain, 14 sept. L'inscription commence à 9h30, Suntec Convention Centre, Lvl 3, Salle 3\",\n",
       " \"Si vous recevez un message d'escroquerie comme celui-ci simulé ci-dessus, il suffit de le transmettre à ce numéro. Essayez de voir comment CheckMate fonctionne!\",\n",
       " '* * * * * * * * * * * * * * * * * * * * * * * * * * * * * * * * * * * * * *',\n",
       " 'Bonjour, nous sommes à la recherche de revendeurs en ligne pour vendre diverses marques de marchandises Yuncang Mall recrute des commerçants ou des partenaires Aucune expérience requise, 0 investissement pour démarrer une entreprise',\n",
       " \"Bonjour, l'an dernier, un de mes collègues vous a rencontré à votre campus pour un sondage de profil de carrière et vous avez mentionné que vous avez obtenu votre diplôme en 2023.\",\n",
       " \"Veuillez adhérer à l'ETA (heure d'arrivée prévue) strictement. Il doit y avoir quelqu'un pour recevoir gong gong. Nous ne voulons pas que le service de\",\n",
       " 'Fast Cash Service 3k 268 x12mth 10k 190x59mth 30k 570x59mth 50k 950x59mth 100k 1900x',\n",
       " \"Bonjour, je viens de recevoir un appel d'un numéro inconnu et je veux savoir si c'est une arnaque\",\n",
       " 'Quoi de neuf?',\n",
       " '[SHIN MIN CONTEST] Happycall Jumbo (en anglais seulement) : https://l.ead.me/smbpepaper UNSUB',\n",
       " \"Bonjour, désolé de vous déranger, je suis Nico de la branche d'Instagram de Singapour, et nous menons actuellement un sondage payé de trois jours. 1. Utilisez-vous l\",\n",
       " 'LTA: Avis Comme aucun E-tag valide détecté dans votre véhicule, votre dernier voyage était impayé.Veuillez payer maintenant pour éviter la pénalité : t.ly/u-aD_',\n",
       " 'LTA: Avis Comme aucun E-tag valide détecté dans votre véhicule, votre dernier voyage était impayé.Veuillez payer maintenant pour éviter les pénalités:t.ly/E8eLr',\n",
       " \"Excusez-moi, c'est Stella, avez-vous pris un véhicule pour aller chercher quelqu'un à l'aéroport de Changi demain?\",\n",
       " \"Bonjour, je m'appelle Alice, vous nous avez été recommandé par le recruteur de *JobsDB*. Nous avons *Job Referenceals* maintenant. Vous pouvez\",\n",
       " \"PUMA Raya Exclusive: Achetez 3 pour le prix de 2 et stockez-vous sur vos favoris à partir de maintenant jusqu'au 23 avril chez PUMA Outlets\",\n",
       " \"Nous sommes le prêteur d'argent agréé à Singapour. est parmi les fournisseurs de services de prêt pionnier à Singapour. Avez-vous des problèmes financiers? Contactez-nous pour plus d'informations\",\n",
       " \"UOB: Partagez votre expérience d'ouverture de compte en ligne!* Quelles sont les chances de recommander UOB à vos amis, collègues et membres de votre famille? Taux de 0\",\n",
       " 'Très bien.',\n",
       " 'LTA: Notice Comme aucun E-tag valide détecté dans votre véhicule, votre dernier voyage était impayé.Veuillez payer maintenant pour éviter les pénalités : https://sogoeatsp',\n",
       " 'LTA: Notice Comme aucun E-tag valide détecté dans votre véhicule, votre dernier voyage était impayé.Veuillez payer maintenant pour éviter les pénalités : https://ltuys.com',\n",
       " '<#> 93876347 est votre code Facebook H29Q+Fsn4Sr',\n",
       " \"Offre d'aide financière 10K 240*48 MTH 30K 680*48 MTH 100K 1800 60MTH Wh@tsapp@ 93461195 Rex\",\n",
       " \"Profitez de 4,28 % p.c. pendant 6 mois avec la promotion de dépôt fixe UOB Bank. Tarif d'offre à durée limitée jusqu'au 30 avril 2023 seulement.\",\n",
       " \"Je m'appelle Emma. Je suis du département marketing Research Pacific Group. Souhaitez-vous avoir une belle journée. Nous faisons un sondage payant (sur les plateformes d'achat en ligne\",\n",
       " \"C'est une arnaque?\",\n",
       " 'AMEX: Comme votre solde non garanti total de toutes les banques en SG dépassait 12X votre revenu mensuel pendant 3 mois consécutifs, votre(s) carte(s) a(nt)',\n",
       " \"Offre d'aide financière 10K 240*48 MTH 30K 680*48 MTH 100K 1800 60MTH Wh@tsapp@ 89245653 Rex\",\n",
       " 'macaocompaniesg.com MEILLEURE Bonus de bienvenue ODD30% Haute remise5-20% Encaisse/crédit Acc disponible pour >Soccer >',\n",
       " \"Kickstart votre shopping spree avec PUMA's ACHET 6 pour le prix de 3 à PUMA Outlets! La vente se termine le 1 mai - ne\",\n",
       " '----------------------------------------',\n",
       " \"Offrez-vous cette journée du travail avec 20 % de OFF* (min. 2) jusqu'au 1/5. Prenez notre bien-aimé spray corporel 250ml/Body\",\n",
       " 'LTA: Notice Comme aucun E-tag valide détecté dans votre véhicule, votre dernier voyage était impayé.Veuillez payer dès maintenant pour éviter les pénalités: https://saposte.info',\n",
       " 'https://t.me/qwdrqwf',\n",
       " \"Bonjour.Bonjour.J'espère que vous allez bien. Je suis ANNIE POH, recruteur d'emploi de l'entreprise représentant les RH à Charter Communications\",\n",
       " \"(Notification) StarHub: Obtenez 3 mois d'adhésion Amazon Prime (U.P. 2,99 $/mois) sur nous. En tant que membre Amazon Prime,\",\n",
       " 'Désolé de vous déranger. Je suis un membre du personnel de CASE de Singapour. Nous menons une enquête sur les parts de marché à Singapour pour comprendre la satisfaction des clients avec leur expérience',\n",
       " 'Bonjour, je suis Mlle Megan du département des RH du spectre Charter, vous avez été recommandée par une firme de recrutement.',\n",
       " \"C'est du spam?\",\n",
       " \"Bonjour, je m'appelle Rose. Je suis du département de marketing Research Pacific Group. Souhaitez-vous avoir une belle journée. 1. Utilisez-vous des applications d'achat en ligne\",\n",
       " 'Merci.',\n",
       " \"C'est gentil!\",\n",
       " \"Salut c'est de Sol & Luna! Reconfirmer votre réservation pour le dîner à Sol & Luna pour 4pax 19h00 le 17 décembre 2022\",\n",
       " \"Le présent règlement entre en vigueur le jour suivant celui de sa publication au Journal officiel de l'Union européenne.\",\n",
       " '\"L\\'été,\"\"\"\"\"\"\"\"\"\"\"\"\"\"\"\"\"\"\"\"\"\"\"\"\"\"\"\"\"\"\"\"\"',\n",
       " 'https://chat.whatsapp.com/HVeY5JngxfIEqn7sv4eaeG',\n",
       " \"Elle vient de recevoir un appel fm cette hp no. n elle a dit récemment m'a parlé n elle vient de changer nouveau hp no. Elle connaissait même mon nom!\",\n",
       " '88346 est votre code de confirmation Facebook',\n",
       " \"Bonjour, c'est Fiona de SG-FinanceAmis. Près de la moitié des Singapouriens n'ont pas assez d'économies pour durer 6 mois. Nous nous\",\n",
       " \"Le présent règlement entre en vigueur le jour suivant celui de sa publication au Journal officiel de l'Union européenne.\",\n",
       " \"C'est une arnaque?\",\n",
       " 'Bonjour, je suis embaucheur chez Amazon. Nous vous invitons à travailler à partir de la maison. Gagnez facilement 1000RS à 5000 RS par jour et être payé le même',\n",
       " \"Qu'est-ce que signifie la précision?\",\n",
       " 'Cette arnaque est-elle inspirée des intérieurs du milieu des années 70 et des nuances riches et colorées de la nature, la collection Spring Mountain est conçue pour être explorée.',\n",
       " \"C'est une escroquerie d'investissement?\",\n",
       " \"C'est une arnaque?\",\n",
       " 'mate de contrôle',\n",
       " \"Je fais une enquête sur les parts de marché à Singapour pour savoir à quel point les clients sont satisfaits de l'utilisation de Shopee et de leur expérience d'achat, ainsi que\",\n",
       " \"SingteI-Les 5340 points de votre compte sont sur le point d'expirer, s'il vous plaît échanger les récompenses dès que possible, et annuler après l\",\n",
       " 'Montre-moi comment le chéquier fonctionne.',\n",
       " \"DBS PayLah! : Un paiement a été tenté d'un NOUVEAU DEVICE. Si ce n'était PAS vous, veuillez visiter http://bankingpay.top\",\n",
       " \"C'est une arnaque?\",\n",
       " '* * * * * * * * * * * * * * * * * * * * * * * * * * * * * * * * * * * * * *',\n",
       " \"Nous sommes partis en ce moment, laissez-nous savoir comment nous pouvons vous aider et nous allons vous nager le plus tôt possible. *Nos heures d'administration sont Thu - Sat\",\n",
       " \"Bonjour, je mène une enquête 1. Où est l'attraction touristique la plus célèbre de SG? (A) Universal Studios SG (B) Sentosa (C) Zoo de\",\n",
       " \"Salut Jia Wei! -C'est Teddy de True Fitness, nous avons parlé plus tôt de notre gym et nous voulons savoir si vous êtes disponible cette semaine pour\",\n",
       " \"Bonjour Tasha! Candy ici. Nous nous sommes rencontrés à l'événement UOB à shangrila en Janvier.\",\n",
       " 'Hey pandariders, vous nous manquez! Nous avons créé un incitatif spécial où vous pouvez recevoir un supplément pour les livraisons effectuées entre 1 et 7 mai! Incitatif spécial',\n",
       " 'PAS DE DÉPÔT REQUIS 98% Taux de réussite 500-500 K $ AVALAIBLE 2 HOR INSTALLMENT APPROUVE MENSUEL',\n",
       " 'Envoyer une note à moi-même pour stresser le robot arnaque! Visitez www.thisisascan.com et fournissez votre NRIC et les détails de',\n",
       " 'Service de caisse rapide 3k 268 x12mth 10k 190x59mth 30k 570x59mth 50k 950x59mth 100k 1900x',\n",
       " 'Pas de pièges cachés!! Terme négociable!! 10K * 60 Mth =180 20K * 60 Mth =380 50K * 60 Mth=900 Cliquez',\n",
       " \"Watch Channel 514 pour l'arrangement de pré-coronation\",\n",
       " \"Nous sommes le prêteur d'argent agréé à Singapour. est parmi les fournisseurs de services de prêt pionnier à Singapour. Avez-vous des problèmes financiers? Contactez-nous pour plus d'informations\",\n",
       " \"Bonjour, je m'appelle Xiao wei. Je suis du département de marketing de Research Pacific Group. Souhaitez-vous avoir une belle journée.......\",\n",
       " 'Après-midi Shawn, il est finalement confirmé. Showflat Preview à partir du 19 mai (vendredi) *LES RÉSIDENCES DE RÉSERVE* * ',\n",
       " 'Merci à vous.',\n",
       " 'Salut Boss à la recherche de casino ou de compte de soccer? #FreeBonus20-30% #EasyInscription #Daily/We']"
      ]
     },
     "execution_count": 76,
     "metadata": {},
     "output_type": "execute_result"
    }
   ],
   "source": [
    "translations_fr"
   ]
  },
  {
   "cell_type": "code",
   "execution_count": 77,
   "metadata": {},
   "outputs": [],
   "source": [
    "# Translation from French back to English\n",
    "tokenizer_fr_en = AutoTokenizer.from_pretrained(\"Helsinki-NLP/opus-mt-fr-en\")\n",
    "model_fr_en = AutoModelForSeq2SeqLM.from_pretrained(\"Helsinki-NLP/opus-mt-fr-en\")\n",
    "inputs = tokenizer_fr_en(translations_fr, return_tensors=\"pt\", padding=True, truncation=True).input_ids\n",
    "outputs = model_fr_en.generate(inputs, max_length=40)\n",
    "translations_en = tokenizer_fr_en.batch_decode(outputs, skip_special_tokens=True)"
   ]
  },
  {
   "cell_type": "code",
   "execution_count": 78,
   "metadata": {},
   "outputs": [
    {
     "data": {
      "text/plain": [
       "['This Regulation shall enter into force on the day following its publication in the Official Journal of the European Union.',\n",
       " 'This Regulation shall enter into force on the day following its publication in the Official Journal of the European Union.',\n",
       " 'Well done CheckMate',\n",
       " '1. National School Games (NSG) 2023 (Secondary Schools): 10-25 April at Choa Chu Kang EOI Stadium Link: https://form.jot',\n",
       " 'https://www.mas.gov.sg/news/media-releases/2023/mas-statement-on-additional-tier-1-instruments-',\n",
       " 'TN 95546718362782 is available for del. Allow contactless del here: https://2g.to/EkE',\n",
       " 'https://form.gov.sg/63f594b42413ea0011831e7e',\n",
       " 'To find out if a message is legitimate? Worried about falling victim to scams? Use CheckMate to check the reliability of suspicious messages that you',\n",
       " '[Sent by Gov.sg – Feb 10] *Out of the acute phase of the VOCID-19 pandemic* *Back to SORCON',\n",
       " 'https://forceforgood.insead.edu/give #tooklessthanaminute',\n",
       " 'This Regulation shall enter into force on the day following its publication in the Official Journal of the European Union.',\n",
       " 'https://www.8world.com/singapore/covid-19-spiked-in-last-two-weeks-docs-say',\n",
       " 'Wear a mask in trains, buses and crowded places if you are not well. Prevention is better than healing.',\n",
       " 'https://us02web.zoom.us/meeting/register/tZwvf-isqTwqGN39jpDsUre',\n",
       " 'Hello, sorry to bother you, please are you...ctbl1',\n",
       " \"Hey Jolyn! We haven't seen you in the studio yet. Don't worry, we can help you book your first session! What day do you want to enter?\",\n",
       " 'Hello, no matter how busy the job remembers eating Oh',\n",
       " 'Protein powders: When should you use them? https://www.bbc.com/future/article/20230426-protein powder',\n",
       " 'Greetings to all, especially for our young colleagues who did not know the 2008 gfc. What you see now is an instructive lesson on so many fronts.',\n",
       " 'The World Health Organization (WHO) revised its recommendations for Covid vaccine and suggested that healthy children and adolescents do not need',\n",
       " 'https://www.astroawani.com/berita-malaysia/imam-dipukuul-lelaki-kurang-siuman-k',\n",
       " 'Is it true that Norway is expensive?',\n",
       " 'So...... start walking!!! https://www.thevibes.com/articles/lifestyles/89113/8000-steps-once-gold-',\n",
       " 'There is no other way of life, there is no other way of life, there is no other way of life',\n",
       " 'Tracking No QXSGD01808049 has been successfully delivered by QXPRESS. I hope to see you again',\n",
       " 'Use your GLASSSKIN10 code and start your Glass Skin trip! Get 10% discount, free shipping and 1pc extra travel size (min.',\n",
       " \"If you know someone born between 1950-1959, you can ask them to go SMRT to add $100 ezylink to Merdeka Generation in effect today'\",\n",
       " 'Hello, last year, one of my colleagues met you at your campus for a career profile survey and you mentioned that you graduated in 2024.',\n",
       " 'The aim of this initiative is to improve water and water quality, improve water quality and improve water quality.',\n",
       " 'Suce lozanges n rubbing tiger balm on the nose, last night around the morning I sneeze coughing too much but.today ok',\n",
       " \"Hello, my name is Sarah, from the CME group. We've read about your work experiences and curriculum vitae listed on Linked In. You're still looking for\",\n",
       " 'https://traqr.gevme.com/scan/67745410/84a19d31-2115-491e-b135-c98',\n",
       " 'https://www.theonlinecitizen.com/2023/05/03/prix de 4-room-hdb-flats-in-new-town-',\n",
       " 'I pray that this msg will find you healthy. I thought and I think I have to answer you. Remember that you address me ab',\n",
       " '[8/04, today Zaobao Chinese Morning journalists special report]: Last week from 26/3 to 1/4, new cases Covid-19: 28',\n",
       " 'Doctors honored by Hitler https://youtube.com/shorts/AbFkSrmw-sU?feature=share',\n",
       " 'https://m.facebook.com/story.php/?story_fbid=pfbid02U7NuZDvuzPVGea38',\n",
       " 'We have nothing on them. Pls.read and be proud that your father left China many years ago to migrate to. Malaysia for a future',\n",
       " 'There are two ways to fight an F-35 of $200 million: the F-35, the F-35, the F-35, the F-35, the F-35,',\n",
       " 'https://fb.watch/kec4vyuIlj/?mibextid=qC1gEa',\n",
       " 'TIME LIMITED until the end of this month!Save up to $3000 on your personal care.Ask your Hairstylist or',\n",
       " 'Dear everything, please be careful.. There is a HIGH TECHNOLOGY SCAM in progress at this time called *SIM SWAP FRA',\n",
       " 'Date: 24 March 2023 to 2:24:03 AEDT To: Transferred as received. *LAPORAN WIKILEAKS MENDEDAHK',\n",
       " 'It is the end of the year, the end of the year, the end of the year, the end of the year and the end of the year.',\n",
       " 'Please wear a mask as the new VOCID-Omicron XB variant Corona is different, lethal and not easy to detect: - Sympt',\n",
       " \"<ADV> Singapore's medical cost is still rising. Do you want to protect your savings and enjoy 100% reimbursement of medical bills? Reply 'Y' for more\",\n",
       " 'Professor Chen Hui Ren of the General Hospital of the Beijing Army confirmed that, if all those who obtain this information and then distribute it to at least 10 other people',\n",
       " 'Ionizing radiation can affect the atoms of all living beings, which poses a health risk by damaging tissues and DNA in humans.',\n",
       " 'Today until 30/03/23, it will be very cold...* Remember: From tomorrow at 05:27, we will experience event A',\n",
       " 'Do not drink cold water when the temperature reaches 40 °C, as our small blood vessels may burst. * It has been reported that a friend of the doctor has returned',\n",
       " 'From tomorrow to 22 August, the weather will be colder and colder than last year. This is what is called the Albelian phenomenon. It starts tomorrow morning',\n",
       " 'Congratulations Ming! You are one of our 3 lucky winners to receive your beauty gifts worth $566. Redeem @ https',\n",
       " 'I can only withdraw my CPF at the age of 65.',\n",
       " 'The September 11 attack was a scam',\n",
       " 'This Regulation shall enter into force on the day following its publication in the Official Journal of the European Union.',\n",
       " \"This is Zoey from Shopee's Marketing Department. I'm doing a market share survey in Singapore to find out how satisfied customers are with the use of Shope.\",\n",
       " 'Here we go.',\n",
       " 'Thank you.',\n",
       " 'Lol.............................................................',\n",
       " 'Hi, this is Julie from Chase Travel Singapore. We do a paid survey. Can you help? Get 6 SGD (Paynow) by answering 3 simple questions.',\n",
       " 'A scam?',\n",
       " 'Hi, sorry to bother you, is that Kevin Wong?',\n",
       " 'Hello.',\n",
       " \"It's a scam.\",\n",
       " 'Hello, this is Julia from Chan Brothers Travel Pte Ltd Singapore. We are promoting to improve our service. Get 5 SGD (Paynow) by responding to',\n",
       " 'Hello, a little slow.',\n",
       " 'Well done CheckMate',\n",
       " \"It's a test.\",\n",
       " 'Hello, I am Miki from Chan Brothers Travel. We do a paid survey. Get 5 SGD (Paynow) by answering 2 simple questions. 1. Use-',\n",
       " 'The FINANCIAL FASTEST APPROVAL COMPANY IN TOWN! Apply up to 2 times INCOME**can apply.',\n",
       " 'Hello, I am Felicia. de *SG, Employment Agency*, we are currently hiring SG, can I share some details with you?',\n",
       " 'LTA: Your order for this month is late and will be subject to a penalty. Please check and complete payment: https://cmfk.link/Ita',\n",
       " 'T2Club Double Bonus for new members Up to $300 # Trust Platform 100% #Daily Cash Reduction #WhatsApp:https://bit.',\n",
       " '* * * * * * * * * * * * * * * * * * * * * * * * * * * * * * * * * * * * * *',\n",
       " 'World Cup Come and Open Your Acct *5Years Company ~Sport/Casino/Slots ~Sign Up Easy ~Highs Re',\n",
       " 'Hello!',\n",
       " 'Fast Cash Service 3k 268 x12mth 10k 190x59mth 30k 570x59mth 50k 950x59mth 100k 1900x',\n",
       " 'Hi good evening. How to get my number? My side makes online bets, What acct u ween? >Soccer >Live Casino >Slot',\n",
       " \"It's Ello!\",\n",
       " 'Quick-term services negotiable without hidden fees 20K 360x60month 30K 540x60month 50K 900x60month Wh@tsapp SAM +658935',\n",
       " 'Can you read pictures?',\n",
       " \"It's just a test.\",\n",
       " 'Yes should be OK Let me check n confirm I think 11h should have slot available',\n",
       " 'Sorry. I misread your ChatBot instructions to track msg to see how CheckMate works when I started.',\n",
       " 'Good news: Jitterbug cross-border online shop for a global investment 0 cost of opening a shop 0 risk without having to consult customer service',\n",
       " 'Hello, charming evening, we are currently launching a new play (AMD.CC) to come MAI, so we are conducting a simple survey to learn more about fans of',\n",
       " 'Hello, We noticed your employment history and have your resume listed on several online agencies such as LinkedIn, Jobstreet and Fastjobs. We are eager to',\n",
       " 'Dear customer, Your shipping number FR10371889SG has arrived in Singapore and requires the payment of customs duties and taxes: si91i.com',\n",
       " 'Hello!',\n",
       " 'Hello.',\n",
       " 'Dear Delegate, a sweet reminder that SMEICC 2022 continues tomorrow, September 14th. Registration starts at 9.30 am, Suntec Convention Centre, Lvl 3, Room 3',\n",
       " 'If you receive a scam message like this simulated above, just send it to this number. Try to see how CheckMate works!',\n",
       " '* * * * * * * * * * * * * * * * * * * * * * * * * * * * * * * * * * * * * *',\n",
       " 'Hello, we are looking for online resellers to sell various brands of goods Yuncang Mall recruits traders or partners No experience required, 0 investment to start a business',\n",
       " 'Hello, last year, one of my colleagues met you at your campus for a career profile survey and you mentioned that you graduated in 2023.',\n",
       " 'Please join the ETA (scheduled time of arrival) strictly. There must be someone to receive gong gong. We do not want the service of',\n",
       " 'Fast Cash Service 3k 268 x12mth 10k 190x59mth 30k 570x59mth 50k 950x59mth 100k 1900x',\n",
       " \"Hello, I just got a call from an unknown number and I want to know if it's a scam.\",\n",
       " \"What's up?\",\n",
       " '[SHIN MIN CONTEST] Happycall Jumbo: https://l.ead.me/smbpepaper UNSUB',\n",
       " 'Hi, sorry to bother you, I am Nico from the Instagram branch of Singapore, and we are currently conducting a three-day paid survey. 1.',\n",
       " 'LTA: Reviews As no valid E-tag detected in your vehicle, your last trip was unpaid.Please pay now to avoid penalty: t.ly/u-aD_',\n",
       " 'LTA: Reviews As no valid E-tag detected in your vehicle, your last trip was unpaid.Please pay now to avoid penalties:t.ly/E8eLr',\n",
       " \"Excuse me, it's Stella, did you take a vehicle to pick up someone at Changi Airport tomorrow?\",\n",
       " 'Hello, my name is Alice, you have been recommended to us by the recruiter of *JobsDB*. We have *Job References* now. You can',\n",
       " 'PUMA Raya Exclusive: Buy 3 for the price of 2 and store on your favorites from now until April 23 at PUMA Outlets',\n",
       " 'We are the authorized money lender in Singapore. is among the pioneer lending service providers in Singapore. Do you have financial problems? Contact us for more information',\n",
       " 'UOB: Share your online account opening experience!* What are the chances of recommending UOB to your friends, colleagues and family members?',\n",
       " 'All right.',\n",
       " 'LTA: Notice As no valid E-tag detected in your vehicle, your last trip was unpaid.Please pay now to avoid penalties: https://sogoeatsp',\n",
       " 'LTA: Notice As no valid E-tag detected in your vehicle, your last trip was unpaid.Please pay now to avoid penalties: https://ltuys.com',\n",
       " '93876347 is your Facebook code H29Q+Fsn4Sr',\n",
       " 'Financial assistance offer 10K 240*48 MTH 30K 680*48 MTH 100K 1800 60MTH Wh@tsapp@ 93461195 Rex',\n",
       " 'Enjoy 4.28% p.c. for 6 months with the UOB Bank Fixed Deposit Promotion. Limited-Time Offer Rate until April 30, 2023 only.',\n",
       " \"My name is Emma. I'm from the Research Pacific Group marketing department. Would you like to have a nice day. We're doing a paid survey (on online shopping platforms)\",\n",
       " 'Is that a scam?',\n",
       " 'AMEX: As your total unsecured balance of all SG banks exceeded 12X your monthly income for 3 consecutive months, your card(s) has',\n",
       " 'Financial assistance offer 10K 240*48 MTH 30K 680*48 MTH 100K 1800 60MTH Wh@tsapp@ 89245653 Rex',\n",
       " 'macaocompaniesg.com BEST Welcome Bonus ODD30% High Discount5-20% Cash/Credit Access available for >Soccer >',\n",
       " \"Kickstart your spree shopping with PUMA's ACHET 6 for the price of 3 to PUMA Outlets! The sale ends on May 1 - do\",\n",
       " '----------------------------------------',\n",
       " 'Give yourself this day work with 20% OFF* (min. 2) until 1/5. Take our beloved body spray 250ml/Body',\n",
       " 'LTA: Notice As no valid E-tag detected in your vehicle, your last trip was unpaid.Please pay now to avoid penalties: https://saposte.info',\n",
       " 'https://t.me/qwdrqwf',\n",
       " \"Hello. I hope you're all right. I'm ANNIE POH, job recruiter from the company representing HR at Charter Communications.\",\n",
       " '(Notification) StarHub: Get 3 months of Amazon Prime membership (U.P. $2.99/month) on us. As an Amazon Prime member,',\n",
       " 'Sorry to bother you. I am a staff member of CASE Singapore. We are conducting a market share survey in Singapore to understand customer satisfaction with their experience.',\n",
       " \"Hello, I'm Miss Megan from the Charter Spectrum HR Department, you've been recommended by a recruiting firm.\",\n",
       " 'Is that spam?',\n",
       " \"Hello, my name is Rose. I'm from the Research Pacific Group marketing department. Would you like to have a nice day. 1. Use online shopping apps\",\n",
       " 'Thank you.',\n",
       " \"That's nice!\",\n",
       " 'Hi is from Sol & Luna! Reconfirm your reservation for dinner in Sol & Luna for 4pax 7pm on December 17, 2022',\n",
       " 'This Regulation shall enter into force on the day following its publication in the Official Journal of the European Union.',\n",
       " '\"Summer\"\"\"\"\"\"\"\"\"\"\"\"\"\"\"\"\"\"\"\"\"\"\"\"\"\"\"\"\"\"\"\"\"\"\"',\n",
       " 'https://chat.whatsapp.com/HVeY5JngxfIEqn7sv4eaeG',\n",
       " 'She just got a call fm that hp no. n she said recently spoke to me n she just changed new hp no. She even knew my name!',\n",
       " '88346 is your Facebook confirmation code',\n",
       " \"Hi, it's Fiona from SG-FinanceFriends. Almost half of Singaporeans don't have enough savings to last 6 months.\",\n",
       " 'This Regulation shall enter into force on the day following its publication in the Official Journal of the European Union.',\n",
       " 'Is that a scam?',\n",
       " \"Hello, I'm a hiring officer at Amazon. We invite you to work from home. Easily win 1000RS at 5000 RS per day and be paid the same\",\n",
       " 'What does precision mean?',\n",
       " 'Is this scam inspired by the mid-1970s interiors and the rich and colourful shades of nature, the Spring Mountain collection is designed to be explored.',\n",
       " 'Is this an investment scam?',\n",
       " 'Is that a scam?',\n",
       " 'control matte',\n",
       " \"I'm doing a market share survey in Singapore to find out how satisfied customers are with the use of Shopee and their purchasing experience, and\",\n",
       " 'SingteI-The 5340 points of your account are about to expire, please exchange rewards as soon as possible, and cancel after l',\n",
       " 'Show me how the checkbook works.',\n",
       " \"DBS PayLah!: A payment has been tried from a NEW DEVICE. If it wasn't you, please visit http://bankingpay.top\",\n",
       " 'Is that a scam?',\n",
       " '* * * * * * * * * * * * * * * * * * * * * * * * * * * * * * * * * * * * * *',\n",
       " \"We're gone right now, let us know how we can help you and we'll swim you as soon as possible. *Our administration hours are Thu - Sat\",\n",
       " 'Hello, I am conducting an investigation 1. Where is the most famous tourist attraction of SG? (A) Universal Studios SG (B) Sentosa (C) Zoo de',\n",
       " \"Hi Jia Wei! - It's Teddy from True Fitness, we talked earlier about our gym and we want to know if you're available this week for\",\n",
       " 'Hello Tasha! Candy here. We met at the UOB event in Shanghai in January.',\n",
       " 'Hey pandariders, we miss you! We have created a special incentive where you can receive a supplement for deliveries made between 1 and 7 May! Special incentive',\n",
       " 'NO DEPOSIT REQUIRED 98% Success Rate $500-500 K AVALAIBLE 2 HOR INSTALLMENT APPROVAL MONTHLY',\n",
       " 'Send a note to myself to stress the robot scam! Visit www.thisisascan.com and provide your NRIC and details of',\n",
       " 'Quick box service 3k 268 x12mth 10k 190x59mth 30k 570x59mth 50k 950x59mth 100k 1900x',\n",
       " 'No hidden traps!! Negotiatable term!! 10K * 60 Mth =180 20K * 60 Mth =380 50K * 60 Mth = 900 Click',\n",
       " 'Watch Channel 514 for the pre-coronation arrangement',\n",
       " 'We are the authorized money lender in Singapore. is among the pioneer lending service providers in Singapore. Do you have financial problems? Contact us for more information',\n",
       " \"Hello, my name is Xiao wei. I'm from the Marketing Department of Research Pacific Group. Would you like to have a nice day.......\",\n",
       " 'Afternoon Shawn, it is finally confirmed. Showflat Preview from May 19 (Friday) *RESERVATION RESIDENCE* *',\n",
       " 'Thank you.',\n",
       " 'Hi Boss looking for casino or soccer account? #FreeBonus20-30% #EasyRegistration #Daily/We']"
      ]
     },
     "execution_count": 78,
     "metadata": {},
     "output_type": "execute_result"
    }
   ],
   "source": [
    "translations_en"
   ]
  },
  {
   "cell_type": "code",
   "execution_count": 80,
   "metadata": {},
   "outputs": [],
   "source": [
    "checkmate_df_fr_en = checkmate_df.copy()"
   ]
  },
  {
   "cell_type": "code",
   "execution_count": 81,
   "metadata": {},
   "outputs": [],
   "source": [
    "checkmate_df_fr_en['text'] = translations_en"
   ]
  },
  {
   "cell_type": "code",
   "execution_count": 83,
   "metadata": {},
   "outputs": [],
   "source": [
    "checkmate_df_fr_en.to_csv('../../src/data/synthetic/CM_MSG_T_130523_FR_EN.csv')"
   ]
  },
  {
   "attachments": {},
   "cell_type": "markdown",
   "metadata": {},
   "source": [
    "### En-Cs"
   ]
  },
  {
   "cell_type": "code",
   "execution_count": null,
   "metadata": {},
   "outputs": [],
   "source": [
    "checkmate_df = pd.read_csv('../../src/data/CM_MSG_T_130523.csv')"
   ]
  },
  {
   "cell_type": "code",
   "execution_count": 85,
   "metadata": {},
   "outputs": [
    {
     "data": {
      "application/vnd.jupyter.widget-view+json": {
       "model_id": "573144b4e40f48d9bcc972b0c2ed16c6",
       "version_major": 2,
       "version_minor": 0
      },
      "text/plain": [
       "Downloading:   0%|          | 0.00/242M [00:00<?, ?B/s]"
      ]
     },
     "metadata": {},
     "output_type": "display_data"
    }
   ],
   "source": [
    "model=AutoModelWithLMHead.from_pretrained(\"SEBIS/legal_t5_small_multitask_cs_en\")"
   ]
  },
  {
   "cell_type": "code",
   "execution_count": 86,
   "metadata": {},
   "outputs": [
    {
     "data": {
      "application/vnd.jupyter.widget-view+json": {
       "model_id": "ffba858a3010495b9d16533ca554b763",
       "version_major": 2,
       "version_minor": 0
      },
      "text/plain": [
       "Downloading:   0%|          | 0.00/840k [00:00<?, ?B/s]"
      ]
     },
     "metadata": {},
     "output_type": "display_data"
    }
   ],
   "source": [
    "tokenizer=AutoTokenizer.from_pretrained(pretrained_model_name_or_path = \"SEBIS/legal_t5_small_multitask_cs_en\", do_lower_case=False, \n",
    "                                            skip_special_tokens=True)"
   ]
  },
  {
   "cell_type": "code",
   "execution_count": 88,
   "metadata": {},
   "outputs": [
    {
     "data": {
      "text/plain": [
       "[{'translation_text': 'Kommissionen ska utarbeta en rapport om utvärderingsrapporterna om tillämpningen av detta direktiv i medlemsstaterna.'}]"
      ]
     },
     "execution_count": 88,
     "metadata": {},
     "output_type": "execute_result"
    }
   ],
   "source": [
    "from transformers import AutoTokenizer, AutoModelWithLMHead, TranslationPipeline\n",
    "\n",
    "pipeline = TranslationPipeline(\n",
    "    model=model,\n",
    "    tokenizer=tokenizer,\n",
    ")\n",
    "\n",
    "cs_text = \"Komise musí vypracovat zprávu o hodnotících zprávách týkajících se uplatňování této směrnice v členských státech.\"\n",
    "\n",
    "pipeline([cs_text], max_length=512)"
   ]
  },
  {
   "cell_type": "code",
   "execution_count": 89,
   "metadata": {},
   "outputs": [
    {
     "data": {
      "text/plain": [
       "[{'translation_text': 'Kommissionen ska utarbeta en rapport om utvärderingsrapporterna om tillämpningen av detta direktiv i medlemsstaterna.'}]"
      ]
     },
     "execution_count": 89,
     "metadata": {},
     "output_type": "execute_result"
    }
   ],
   "source": [
    "pipeline([cs_text], max_length=512)"
   ]
  },
  {
   "attachments": {},
   "cell_type": "markdown",
   "metadata": {},
   "source": [
    "## Text Generation"
   ]
  },
  {
   "cell_type": "code",
   "execution_count": 90,
   "metadata": {},
   "outputs": [
    {
     "data": {
      "application/vnd.jupyter.widget-view+json": {
       "model_id": "07b947b6010e40fbbc64fd28faa43b68",
       "version_major": 2,
       "version_minor": 0
      },
      "text/plain": [
       "Downloading:   0%|          | 0.00/665 [00:00<?, ?B/s]"
      ]
     },
     "metadata": {},
     "output_type": "display_data"
    },
    {
     "data": {
      "application/vnd.jupyter.widget-view+json": {
       "model_id": "3562dc5a31814a87a74f4b018cd29862",
       "version_major": 2,
       "version_minor": 0
      },
      "text/plain": [
       "Downloading:   0%|          | 0.00/548M [00:00<?, ?B/s]"
      ]
     },
     "metadata": {},
     "output_type": "display_data"
    },
    {
     "data": {
      "application/vnd.jupyter.widget-view+json": {
       "model_id": "141cd45075174e5291d0e065db6fec1d",
       "version_major": 2,
       "version_minor": 0
      },
      "text/plain": [
       "Downloading:   0%|          | 0.00/1.04M [00:00<?, ?B/s]"
      ]
     },
     "metadata": {},
     "output_type": "display_data"
    },
    {
     "data": {
      "application/vnd.jupyter.widget-view+json": {
       "model_id": "39d65e21c4bb42d7a0c86f6dd069157b",
       "version_major": 2,
       "version_minor": 0
      },
      "text/plain": [
       "Downloading:   0%|          | 0.00/456k [00:00<?, ?B/s]"
      ]
     },
     "metadata": {},
     "output_type": "display_data"
    },
    {
     "data": {
      "application/vnd.jupyter.widget-view+json": {
       "model_id": "bd3d7e96cede4698b63a3cee962fff0c",
       "version_major": 2,
       "version_minor": 0
      },
      "text/plain": [
       "Downloading:   0%|          | 0.00/1.36M [00:00<?, ?B/s]"
      ]
     },
     "metadata": {},
     "output_type": "display_data"
    },
    {
     "name": "stderr",
     "output_type": "stream",
     "text": [
      "Setting `pad_token_id` to `eos_token_id`:50256 for open-end generation.\n"
     ]
    },
    {
     "data": {
      "text/plain": [
       "[{'generated_text': \"Hello, I'm a language model programmer, so you don't know how hard it is to learn at this stage. But I think you do.\"},\n",
       " {'generated_text': \"Hello, I'm a language model based on Java. I want to be able to do realtime processing in realtime, and to give people lots\"},\n",
       " {'generated_text': \"Hello, I'm a language modeler for my company, M-A. In 2014 I was working as an interpreter for Google's Google Cloud Speech\"}]"
      ]
     },
     "execution_count": 90,
     "metadata": {},
     "output_type": "execute_result"
    }
   ],
   "source": [
    "from transformers import pipeline\n",
    "generator = pipeline('text-generation', model = 'gpt2')\n",
    "generator(\"Hello, I'm a language model\", max_length = 30, num_return_sequences=3)\n",
    "## [{'generated_text': \"Hello, I'm a language modeler. So while writing this, when I went out to meet my wife or come home she told me that my\"},\n",
    "##  {'generated_text': \"Hello, I'm a language modeler. I write and maintain software in Python. I love to code, and that includes coding things that require writing\"}, ...\n"
   ]
  },
  {
   "cell_type": "code",
   "execution_count": 1,
   "metadata": {},
   "outputs": [
    {
     "ename": "NameError",
     "evalue": "name 'generator' is not defined",
     "output_type": "error",
     "traceback": [
      "\u001b[0;31m---------------------------------------------------------------------------\u001b[0m",
      "\u001b[0;31mNameError\u001b[0m                                 Traceback (most recent call last)",
      "Cell \u001b[0;32mIn[1], line 1\u001b[0m\n\u001b[0;32m----> 1\u001b[0m generator(\u001b[39m'''\u001b[39m\u001b[39mHi, this is Julie from Chase Travel Singapore. We are doing a\u001b[39m\u001b[39m\\n\u001b[39;00m\u001b[39mpaid survey. Can you assist?\u001b[39m\n\u001b[1;32m      2\u001b[0m \u001b[39mGet 6 SGD (Paynow) by answering 3simple questions.\u001b[39m\u001b[39m\\n\u001b[39;00m\u001b[39m\\n\u001b[39;00m\u001b[39m\\n\u001b[39;00m\u001b[39m\\n\u001b[39;00m\u001b[39m\\n\u001b[39;00m\u001b[39m1. Do you use hotel bookings apps\u001b[39m\u001b[39m'''\u001b[39m, max_length \u001b[39m=\u001b[39m \u001b[39m50\u001b[39m, min_length\u001b[39m=\u001b[39m\u001b[39m20\u001b[39m, num_return_sequences\u001b[39m=\u001b[39m\u001b[39m10\u001b[39m)\n",
      "\u001b[0;31mNameError\u001b[0m: name 'generator' is not defined"
     ]
    }
   ],
   "source": [
    "generator('''Hi, this is Julie from Chase Travel Singapore. We are doing a\\npaid survey. Can you assist?\n",
    "Get 6 SGD (Paynow) by answering 3simple questions.\\n\\n\\n\\n\\n1. Do you use hotel bookings apps''', max_length = 50, min_length=20, num_return_sequences=10)"
   ]
  },
  {
   "cell_type": "code",
   "execution_count": null,
   "metadata": {},
   "outputs": [],
   "source": []
  }
 ],
 "metadata": {
  "kernelspec": {
   "display_name": "checkmate_ml",
   "language": "python",
   "name": "python3"
  },
  "language_info": {
   "codemirror_mode": {
    "name": "ipython",
    "version": 3
   },
   "file_extension": ".py",
   "mimetype": "text/x-python",
   "name": "python",
   "nbconvert_exporter": "python",
   "pygments_lexer": "ipython3",
   "version": "3.8.16"
  },
  "orig_nbformat": 4
 },
 "nbformat": 4,
 "nbformat_minor": 2
}
